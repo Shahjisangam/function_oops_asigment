{
 "cells": [
  {
   "cell_type": "raw",
   "id": "13b6b200-37c7-408d-b5b3-95bd0a7fafe7",
   "metadata": {},
   "source": [
    "1. Explain the importance of Functions."
   ]
  },
  {
   "cell_type": "markdown",
   "id": "45dea32e-3dd6-43da-b540-88cdb122184e",
   "metadata": {},
   "source": [
    "Functions are fundamental building blocks in programming that play a crucial role in writing organized, reusable, and maintainable code. Here are some key reasons why functions are important:\n",
    "1. Code Reusability\n",
    "\n",
    "    Functions allow you to write a piece of code once and reuse it multiple times throughout your program. This reduces redundancy and helps in maintaining consistency across the codebase.\n",
    "\n",
    "2. Modularity\n",
    "\n",
    "    Functions break down a complex problem into smaller, more manageable chunks. This modular approach makes it easier to understand, develop, and test each part of the program independently.\n",
    "\n",
    "3. Abstraction\n",
    "\n",
    "    By using functions, you can hide the complexity of certain operations and provide a simple interface for other parts of the program. This abstraction allows you to focus on higher-level logic without worrying about the underlying details.\n",
    "\n",
    "4. Ease of Maintenance\n",
    "\n",
    "    Since functions encapsulate specific tasks, updating or fixing a function is often easier than modifying scattered code. This leads to more maintainable code and makes debugging less complicated.\n",
    "\n",
    "5. Improved Readability\n",
    "\n",
    "    Well-named functions help make the code more readable and self-explanatory. They clearly indicate what a particular section of code does, which can be beneficial for both the original developer and others who may work on the code later.\n",
    "\n",
    "6. Recursion\n",
    "\n",
    "    Functions can call themselves recursively, which is a powerful tool for solving problems that have a recursive nature, such as traversing trees or solving mathematical problems like the Fibonacci sequence.\n",
    "\n",
    "7. Scope and Encapsulation\n",
    "\n",
    "    Functions create their own scope, meaning variables defined within a function are not accessible outside of it. This helps in avoiding unintended interactions between different parts of the program and keeps the code clean and organized.\n",
    "\n",
    "8. Testing and Debugging\n",
    "\n",
    "    Functions make it easier to test individual components of a program. Unit testing, for instance, relies heavily on testing individual functions to ensure that each one performs as expected. Debugging also becomes simpler when issues are isolated within specific functions.\n",
    "\n",
    "9. Performance Optimization\n",
    "\n",
    "    Some programming languages allow you to optimize functions for performance, such as inlining or memoization. By isolating logic in functions, you can target specific areas of your code for optimization without affecting the rest of the program.\n",
    "\n",
    "10. Functional Programming\n",
    "\n",
    "    In languages that support functional programming paradigms, functions are first-class citizens, meaning they can be assigned to variables, passed as arguments, and returned from other functions. This enables powerful patterns like higher-order functions, function composition, and closures.\n",
    "\n",
    "Overall, functions are essential for creating structured, efficient, and scalable programs. By leveraging functions effectively, you can write better code that is easier to understand, maintain, and extend.\n"
   ]
  },
  {
   "cell_type": "raw",
   "id": "7a1d50aa-a1df-4dda-b22e-d852cea9c940",
   "metadata": {},
   "source": [
    "2.Write a basic function to greet students."
   ]
  },
  {
   "cell_type": "code",
   "execution_count": 1,
   "id": "34feffee-ceb3-4433-a109-fb149c2ab07d",
   "metadata": {},
   "outputs": [
    {
     "name": "stdout",
     "output_type": "stream",
     "text": [
      "Hello, Alex! Welcome to the class.\n"
     ]
    }
   ],
   "source": [
    "def greet_student(name):\n",
    "    \"\"\"\n",
    "    This function takes a student's name as input and prints a greeting message.\n",
    "    \"\"\"\n",
    "    print(f\"Hello, {name}! Welcome to the class.\")\n",
    "\n",
    "# Example usage\n",
    "greet_student(\"Alex\")\n"
   ]
  },
  {
   "cell_type": "raw",
   "id": "396fb747-b3c9-470e-b5e2-21e01f01ae0f",
   "metadata": {},
   "source": [
    "3. What is the difference between print and return statements?"
   ]
  },
  {
   "cell_type": "markdown",
   "id": "9a412b20-5bea-4a83-aa40-9d2bca875727",
   "metadata": {},
   "source": [
    "The print and return statements in Python serve different purposes, and understanding the difference between them is important for writing effective code.\n",
    "1. Purpose\n",
    "\n",
    "    print Statement:\n",
    "        The print statement is used to display information to the console (or standard output). It is generally used for debugging or providing output to the user. The information displayed by print is visible when the program runs, but it does not affect the flow of the program.\n",
    "\n",
    "    return Statement:\n",
    "        The return statement is used to send a value from a function back to the caller (the part of the program that invoked the function). This value can then be stored in a variable, used in expressions, or passed to other functions. The return statement also exits the function, meaning no further code in the function will be executed after return.\n",
    "\n",
    "2. Output\n",
    "\n",
    "    print:\n",
    "        print outputs text to the console. For example:"
   ]
  },
  {
   "cell_type": "code",
   "execution_count": 2,
   "id": "31d171f2-90bf-4108-a880-11353dc89a01",
   "metadata": {},
   "outputs": [
    {
     "name": "stdout",
     "output_type": "stream",
     "text": [
      "Hello, Alex!\n"
     ]
    }
   ],
   "source": [
    "def greet_student(name):\n",
    "    print(f\"Hello, {name}!\")\n",
    "\n",
    "greet_student(\"Alex\")  # Output: Hello, Alex!\n"
   ]
  },
  {
   "cell_type": "markdown",
   "id": "2a7d33e3-a79d-4bca-a186-263e1f104f31",
   "metadata": {},
   "source": [
    "    Here, \"Hello, Alex!\" is displayed on the console, but the function does not return any value to be used later in the program.\n",
    "\n",
    "return:\n",
    "\n",
    "    return sends a value back to the caller but does not produce visible output unless the returned value is explicitly printed. For example:"
   ]
  },
  {
   "cell_type": "markdown",
   "id": "df8ebe62-3ba6-43bb-833b-9c87f3ba3f3f",
   "metadata": {},
   "source": [
    "def greet_student(name):\n",
    "    return f\"Hello, {name}!\"\n",
    "\n",
    "message = greet_student(\"Alex\")\n",
    "print(message)  # Output: Hello, Alex!\n"
   ]
  },
  {
   "cell_type": "markdown",
   "id": "5af20025-690b-4d25-b84e-c2e57f97be55",
   "metadata": {},
   "source": [
    "ffect on Program Flow\n",
    "\n",
    "    print:\n",
    "        The print statement does not affect the flow of the program. It simply outputs a message and the program continues executing."
   ]
  },
  {
   "cell_type": "code",
   "execution_count": 5,
   "id": "0e829e07-00fc-4b16-8735-cdca5c987e4d",
   "metadata": {},
   "outputs": [],
   "source": [
    "def example():\n",
    "    print(\"This is a print statement.\")\n",
    "    print(\"The function continues after printing.\")\n"
   ]
  },
  {
   "cell_type": "markdown",
   "id": "46d09a70-1ff7-48e8-80fd-1a8aced0f254",
   "metadata": {},
   "source": [
    "    Both print statements will execute, and the function will continue running.\n",
    "\n",
    "return:\n",
    "\n",
    "    The return statement ends the function's execution and sends a value back to the caller. Any code after return in the function will not be executed."
   ]
  },
  {
   "cell_type": "code",
   "execution_count": 6,
   "id": "8f935fd4-2e39-4b2a-9595-bca7d926187f",
   "metadata": {},
   "outputs": [],
   "source": [
    "def example():\n",
    "    return \"This is a return statement.\"\n",
    "    print(\"This will not be printed.\")\n"
   ]
  },
  {
   "cell_type": "markdown",
   "id": "133eaa1a-61e7-4fa2-ab3c-4355a78b054f",
   "metadata": {},
   "source": [
    "        The print statement here will never execute because the function exits after the return.\n",
    "\n",
    "4. Usage Scenario\n",
    "\n",
    "    print:\n",
    "        Use print when you want to display information to the user, such as during debugging or logging.\n",
    "    return:\n",
    "        Use return when you need to get a result from a function that will be used elsewhere in your program.\n",
    "\n",
    "Summary\n",
    "\n",
    "    print: Displays output to the console but does not alter the program flow or return a value to the caller.\n",
    "    return: Sends a value back from a function to the caller, ends the function's execution, and does not display anything unless explicitly printed."
   ]
  },
  {
   "cell_type": "raw",
   "id": "aec6de0a-6d69-4811-915e-8e5d8424deac",
   "metadata": {},
   "source": [
    "4. What are *args and **kwargs?"
   ]
  },
  {
   "cell_type": "markdown",
   "id": "3d48ead6-a388-476d-8933-240aadbe8dd1",
   "metadata": {},
   "source": [
    "In Python, *args and **kwargs are used in function definitions to allow for a flexible number of arguments. They enable you to write functions that can accept an arbitrary number of positional and keyword arguments, respectively. Here's a breakdown of what they are and how they work:\n",
    "1. *args (Positional Arguments)\n",
    "\n",
    "    Purpose: *args allows a function to accept any number of positional arguments. The arguments are passed as a tuple.\n",
    "\n",
    "    Usage: Use *args when you want to create a function that can take a variable number of arguments without knowing how many arguments will be passed in advance."
   ]
  },
  {
   "cell_type": "code",
   "execution_count": 8,
   "id": "81d0afe8-a3e7-4dcb-a593-39bfdee0eb9f",
   "metadata": {},
   "outputs": [
    {
     "name": "stdout",
     "output_type": "stream",
     "text": [
      "Hello, Alice!\n",
      "Hello, Bob!\n",
      "Hello, Charlie!\n"
     ]
    }
   ],
   "source": [
    "def greet_students(*args):\n",
    "    for name in args:\n",
    "        print(f\"Hello, {name}!\")\n",
    "\n",
    "greet_students(\"Alice\", \"Bob\", \"Charlie\")\n"
   ]
  },
  {
   "cell_type": "markdown",
   "id": "99d1742f-d688-437b-8e43-e0b3b3606861",
   "metadata": {},
   "source": [
    "        In this example, *args allows the function to accept any number of names (positional arguments) and print a greeting for each.\n",
    "\n",
    "2. **kwargs (Keyword Arguments)\n",
    "\n",
    "    Purpose: **kwargs allows a function to accept any number of keyword arguments. The arguments are passed as a dictionary.\n",
    "\n",
    "    Usage: Use **kwargs when you want to create a function that can accept a variable number of named arguments (i.e., key-value pairs).\n",
    "\n",
    "    Example:"
   ]
  },
  {
   "cell_type": "code",
   "execution_count": 9,
   "id": "70563451-fb9a-4b3f-99e3-8aec7db1658d",
   "metadata": {},
   "outputs": [
    {
     "name": "stdout",
     "output_type": "stream",
     "text": [
      "name: Alice\n",
      "age: 20\n",
      "grade: A\n"
     ]
    }
   ],
   "source": [
    "def student_info(**kwargs):\n",
    "    for key, value in kwargs.items():\n",
    "        print(f\"{key}: {value}\")\n",
    "\n",
    "student_info(name=\"Alice\", age=20, grade=\"A\")\n"
   ]
  },
  {
   "cell_type": "markdown",
   "id": "198d9a60-bb49-4102-9c07-3d5c96041ea2",
   "metadata": {},
   "source": [
    "        In this example, **kwargs allows the function to accept a variable number of keyword arguments, which it then prints out as key-value pairs.\n",
    "\n",
    "3. Combining *args and **kwargs\n",
    "\n",
    "    You can use both *args and **kwargs in the same function if you need to handle both positional and keyword arguments.\n",
    "\n",
    "    Example:"
   ]
  },
  {
   "cell_type": "code",
   "execution_count": 10,
   "id": "fa05392e-978d-41b8-bceb-e00588347ae9",
   "metadata": {},
   "outputs": [
    {
     "name": "stdout",
     "output_type": "stream",
     "text": [
      "Positional arguments (args): ('Alice', 'Computer Science')\n",
      "Keyword arguments (kwargs): {'age': 20, 'grade': 'A'}\n"
     ]
    }
   ],
   "source": [
    "def student_profile(*args, **kwargs):\n",
    "    print(\"Positional arguments (args):\", args)\n",
    "    print(\"Keyword arguments (kwargs):\", kwargs)\n",
    "\n",
    "student_profile(\"Alice\", \"Computer Science\", age=20, grade=\"A\")\n"
   ]
  },
  {
   "cell_type": "markdown",
   "id": "1aace3a0-267a-4686-a7a4-66f36db7d803",
   "metadata": {},
   "source": [
    "        Here, the positional arguments \"Alice\" and \"Computer Science\" are captured in args, while the keyword arguments age=20 and grade=\"A\" are captured in kwargs.\n",
    "\n",
    "4. Order of Arguments\n",
    "\n",
    "    When using *args and **kwargs together in a function definition, the order of parameters must be:\n",
    "        Regular positional arguments\n",
    "        *args\n",
    "        Keyword arguments\n",
    "        **kwargs"
   ]
  },
  {
   "cell_type": "code",
   "execution_count": 11,
   "id": "b290bb0a-22ca-4f28-a12d-0e5a1e3b26a1",
   "metadata": {},
   "outputs": [],
   "source": [
    "def example_func(arg1, arg2, *args, kwarg1=None, kwarg2=None, **kwargs):\n",
    "    pass\n"
   ]
  },
  {
   "cell_type": "markdown",
   "id": "161a4537-4aa2-44d2-b000-0e0b9f39ba76",
   "metadata": {},
   "source": [
    "When to Use *args and **kwargs\n",
    "\n",
    "    *args: Use when you don't know how many positional arguments will be passed to the function or when you want to allow for multiple positional inputs.\n",
    "    **kwargs: Use when you want to accept a flexible number of named arguments or if the function needs to handle optional parameters.\n",
    "\n",
    "Summary\n",
    "\n",
    "    *args: Allows you to pass a variable number of positional arguments to a function, treated as a tuple.\n",
    "    **kwargs: Allows you to pass a variable number of keyword arguments to a function, treated as a dictionary.\n",
    "\n",
    "These tools are particularly useful for writing flexible and reusable functions.\n",
    "Is this conversat"
   ]
  },
  {
   "cell_type": "raw",
   "id": "1ce363e9-2eff-4241-bc81-6b79f248883a",
   "metadata": {},
   "source": [
    "5. Explain the iterator functions."
   ]
  },
  {
   "cell_type": "markdown",
   "id": "7b9eec01-8a9a-4cd8-b557-99586bfd2d54",
   "metadata": {},
   "source": [
    "In Python, an iterator is an object that allows you to traverse through a collection of items, such as lists, tuples, or strings, one element at a time. The iterator function, or more precisely the iterator protocol, involves two main methods: __iter__() and __next__().\n",
    "Key Concepts\n",
    "\n",
    "    Iterable:\n",
    "        An iterable is any Python object capable of returning its members one at a time. Examples include lists, tuples, strings, dictionaries, and sets. An object is considered iterable if it implements the __iter__() method, which returns an iterator object.\n",
    "\n",
    "    Iterator:\n",
    "        An iterator is an object that represents a stream of data. It implements two key methods:\n",
    "            __iter__(): Returns the iterator object itself.\n",
    "            __next__(): Returns the next item from the collection. If there are no more items, it raises a StopIteration exception.\n",
    "\n",
    "How Iterators Work\n",
    "\n",
    "When you use a loop, like a for loop, to traverse through an iterable (e.g., a list), Python automatically creates an iterator in the background and repeatedly calls its __next__() method to fetch the next item until the collection is exhausted.\n",
    "Example: Manually Using an Iterator\n",
    "\n",
    "Let's create a basic example to illustrate how an iterator works:"
   ]
  },
  {
   "cell_type": "code",
   "execution_count": 12,
   "id": "f820aa18-be90-4576-a337-3f0808dcce38",
   "metadata": {},
   "outputs": [
    {
     "name": "stdout",
     "output_type": "stream",
     "text": [
      "1\n",
      "2\n",
      "3\n",
      "4\n",
      "5\n"
     ]
    }
   ],
   "source": [
    "# Define a list\n",
    "numbers = [1, 2, 3, 4, 5]\n",
    "\n",
    "# Get an iterator from the list\n",
    "iterator = iter(numbers)\n",
    "\n",
    "# Use the __next__() method to iterate through the list\n",
    "print(next(iterator))  # Output: 1\n",
    "print(next(iterator))  # Output: 2\n",
    "print(next(iterator))  # Output: 3\n",
    "print(next(iterator))  # Output: 4\n",
    "print(next(iterator))  # Output: 5\n",
    "\n",
    "# If you call next() again, it will raise a StopIteration exception\n",
    "# because there are no more items left in the iterator\n",
    "# print(next(iterator))  # Raises StopIteration\n"
   ]
  },
  {
   "cell_type": "markdown",
   "id": "69ab86d9-3dec-410d-9bac-251a7402bfc1",
   "metadata": {},
   "source": [
    "Building a Custom Iterator\n",
    "\n",
    "You can create your own iterator by defining a class that implements the __iter__() and __next__() methods.\n",
    "\n",
    "Here's an example of a custom iterator that generates a sequence of numbers:"
   ]
  },
  {
   "cell_type": "code",
   "execution_count": 13,
   "id": "0ab80c64-9cdc-4884-be3b-8e81ebcd7eb5",
   "metadata": {},
   "outputs": [
    {
     "name": "stdout",
     "output_type": "stream",
     "text": [
      "1\n",
      "2\n",
      "3\n",
      "4\n"
     ]
    }
   ],
   "source": [
    "class MyIterator:\n",
    "    def __init__(self, start, end):\n",
    "        self.current = start\n",
    "        self.end = end\n",
    "\n",
    "    def __iter__(self):\n",
    "        return self  # The __iter__() method should return the iterator object itself\n",
    "\n",
    "    def __next__(self):\n",
    "        if self.current < self.end:\n",
    "            num = self.current\n",
    "            self.current += 1\n",
    "            return num  # Return the next number in the sequence\n",
    "        else:\n",
    "            raise StopIteration  # Raise StopIteration when the sequence ends\n",
    "\n",
    "# Create an instance of MyIterator\n",
    "my_iter = MyIterator(1, 5)\n",
    "\n",
    "# Iterate through the custom iterator using a for loop\n",
    "for num in my_iter:\n",
    "    print(num)\n"
   ]
  },
  {
   "cell_type": "markdown",
   "id": "f23c6d4d-b9d7-4c27-8c6f-4d91e275bc10",
   "metadata": {},
   "source": [
    "Advantages of Using Iterators\n",
    "\n",
    "    Memory Efficiency:\n",
    "        Iterators are memory efficient because they don't load the entire data into memory. Instead, they generate each item on-the-fly, making them suitable for working with large datasets.\n",
    "\n",
    "    Lazy Evaluation:\n",
    "        Iterators produce items only when requested, which is known as lazy evaluation. This can improve performance by avoiding unnecessary computations until they're needed.\n",
    "\n",
    "    Infinite Sequences:\n",
    "        You can create iterators that represent infinite sequences, such as the Fibonacci sequence, where you can keep generating values indefinitely.\n",
    "\n",
    "Summary\n",
    "\n",
    "    Iterable: An object capable of returning its members one by one (e.g., lists, tuples).\n",
    "    Iterator: An object that implements the __iter__() and __next__() methods, allowing you to traverse through its elements.\n",
    "    __iter__(): Returns the iterator object itself.\n",
    "    __next__(): Returns the next item in the sequence and raises StopIteration when the sequence is exhausted.\n",
    "\n",
    "Iterators are a powerful tool in Python, enabling you to handle data streams and large datasets efficiently by generating items on demand."
   ]
  },
  {
   "cell_type": "raw",
   "id": "52aa2533-858e-4fcd-b84c-0c68164ce91e",
   "metadata": {},
   "source": [
    "6. Write a code that generates the squares of numbers from 1 to n using a generators."
   ]
  },
  {
   "cell_type": "markdown",
   "id": "bfae0f6d-cd3a-4ffe-8443-2e4b72379e70",
   "metadata": {},
   "source": [
    "A generator in Python is a special type of iterator that allows you to generate values on the fly using the yield keyword. Unlike regular functions that return a single value, a generator can yield multiple values one at a time, pausing its execution and resuming from where it left off.\n",
    "\n",
    "Here's a Python code that generates the squares of numbers from 1 to n using a generator:"
   ]
  },
  {
   "cell_type": "code",
   "execution_count": 14,
   "id": "bb6a87f6-a9b4-465e-b66d-6d76c72692f4",
   "metadata": {},
   "outputs": [
    {
     "name": "stdout",
     "output_type": "stream",
     "text": [
      "1\n",
      "4\n",
      "9\n",
      "16\n",
      "25\n"
     ]
    }
   ],
   "source": [
    "def generate_squares(n):\n",
    "    for i in range(1, n + 1):\n",
    "        yield i * i  # Yield the square of the current number\n",
    "\n",
    "# Example usage\n",
    "n = 5\n",
    "squares_generator = generate_squares(n)\n",
    "\n",
    "# Iterate through the generator and print each square\n",
    "for square in squares_generator:\n",
    "    print(square)\n"
   ]
  },
  {
   "cell_type": "markdown",
   "id": "d5e0756c-1b95-4f3d-aed1-8bae556af2da",
   "metadata": {},
   "source": [
    "Explanation:\n",
    "\n",
    "    generate_squares(n): This function is a generator that yields the square of each number from 1 to n. Instead of returning all the squares at once, it yields one square at a time.\n",
    "    yield i * i: This line produces the square of i and pauses the function's execution, returning the value to the caller. The function can then be resumed later to generate the next square.\n",
    "    for square in squares_generator: This loop iterates through the generator, printing each square as it is generated.\n",
    "\n",
    "Example Output:"
   ]
  },
  {
   "cell_type": "markdown",
   "id": "c4fcc28d-e5e4-4293-aac6-a1556412758a",
   "metadata": {},
   "source": [
    "This approach is memory-efficient, as it doesn't store all the squares in memory at once. Instead, it generates each square only when needed."
   ]
  },
  {
   "cell_type": "raw",
   "id": "ab6e539a-fec2-4b10-95ad-c4f20d15e56f",
   "metadata": {},
   "source": [
    " 7. Write a code that generates palindromic numbers up to n using a generator"
   ]
  },
  {
   "cell_type": "markdown",
   "id": "a623c014-78b5-4be0-b380-5c78c453903d",
   "metadata": {},
   "source": [
    "A palindromic number is a number that remains the same when its digits are reversed. Here's a Python code that generates palindromic numbers up to a given number n using a generator:"
   ]
  },
  {
   "cell_type": "code",
   "execution_count": 16,
   "id": "add432f5-1805-4b47-b7ee-07d266cf61df",
   "metadata": {},
   "outputs": [
    {
     "name": "stdout",
     "output_type": "stream",
     "text": [
      "1\n",
      "2\n",
      "3\n",
      "4\n",
      "5\n",
      "6\n",
      "7\n",
      "8\n",
      "9\n",
      "11\n",
      "22\n",
      "33\n",
      "44\n",
      "55\n",
      "66\n",
      "77\n",
      "88\n",
      "99\n",
      "101\n",
      "111\n",
      "121\n",
      "131\n",
      "141\n",
      "151\n",
      "161\n",
      "171\n",
      "181\n",
      "191\n"
     ]
    }
   ],
   "source": [
    "def generate_palindromic_numbers(n):\n",
    "    for num in range(1, n + 1):\n",
    "        # Convert the number to a string and check if it's the same when reversed\n",
    "        if str(num) == str(num)[::-1]:\n",
    "            yield num  # Yield the palindromic number\n",
    "\n",
    "# Example usage\n",
    "n = 200\n",
    "palindromic_generator = generate_palindromic_numbers(n)\n",
    "\n",
    "# Iterate through the generator and print each palindromic number\n",
    "for palindromic_number in palindromic_generator:\n",
    "    print(palindromic_number)\n"
   ]
  },
  {
   "cell_type": "markdown",
   "id": "2fd765f6-f6b2-47b0-8e53-31e99f39814a",
   "metadata": {},
   "source": [
    "Explanation:\n",
    "\n",
    "    generate_palindromic_numbers(n): This generator function iterates through numbers from 1 to n.\n",
    "    str(num) == str(num)[::-1]: This condition checks if the number is the same when its digits are reversed (i.e., it's a palindrome).\n",
    "    yield num: If the number is palindromic, it yields the number, pausing the function's execution."
   ]
  },
  {
   "cell_type": "markdown",
   "id": "6ad83de7-2a2b-4966-8d8c-508c3250c19e",
   "metadata": {},
   "source": [
    "This generator efficiently produces palindromic numbers up to n without storing them all in memory at once, making it suitable for large ranges of numbers."
   ]
  },
  {
   "cell_type": "raw",
   "id": "fd0ed5aa-8c34-4b16-a937-d55986e29888",
   "metadata": {},
   "source": [
    "8. Write a code that generates even numbers from 2 to n using a generator."
   ]
  },
  {
   "cell_type": "code",
   "execution_count": 17,
   "id": "e79ceee8-310b-48e5-bdef-d2d3d5b1b8f5",
   "metadata": {},
   "outputs": [
    {
     "name": "stdout",
     "output_type": "stream",
     "text": [
      "2\n",
      "4\n",
      "6\n",
      "8\n",
      "10\n",
      "12\n",
      "14\n",
      "16\n",
      "18\n",
      "20\n"
     ]
    }
   ],
   "source": [
    "def generate_even_numbers(n):\n",
    "    for num in range(2, n + 1):\n",
    "        if num % 2 == 0:  # Check if the number is even\n",
    "            yield num  # Yield the even number\n",
    "\n",
    "# Example usage\n",
    "n = 20\n",
    "even_numbers_generator = generate_even_numbers(n)\n",
    "\n",
    "# Iterate through the generator and print each even number\n",
    "for even_number in even_numbers_generator:\n",
    "    print(even_number)\n"
   ]
  },
  {
   "cell_type": "markdown",
   "id": "6b7601f0-cb75-4db6-92b0-4b76cc3ae603",
   "metadata": {},
   "source": [
    "Here's a Python code that generates even numbers from 2 to n using a generator:\n",
    "\n",
    "python\n",
    "\n",
    "def generate_even_numbers(n):\n",
    "    for num in range(2, n + 1):\n",
    "        if num % 2 == 0:  # Check if the number is even\n",
    "            yield num  # Yield the even number\n",
    "\n",
    "# Example usage\n",
    "n = 20\n",
    "even_numbers_generator = generate_even_numbers(n)\n",
    "\n",
    "# Iterate through the generator and print each even number\n",
    "for even_number in even_numbers_generator:\n",
    "    print(even_number)\n",
    "\n",
    "Explanation:\n",
    "\n",
    "    generate_even_numbers(n): This generator function iterates through numbers from 2 to n.\n",
    "    if num % 2 == 0: This condition checks if the number is even (i.e., divisible by 2).\n",
    "    yield num: If the number is even, it yields the number, pausing the function's execution."
   ]
  },
  {
   "cell_type": "markdown",
   "id": "4a89dfce-2094-4da7-8c60-ff66b27a5850",
   "metadata": {},
   "source": [
    "This generator efficiently produces even numbers from 2 to n one at a time, which is useful when you need to handle large ranges of numbers without using a lot of memory."
   ]
  },
  {
   "cell_type": "raw",
   "id": "3f4ef371-83b7-49c1-9f08-678794bf4bf3",
   "metadata": {},
   "source": [
    "9.Write a code that generates powers of two up to n using a generator."
   ]
  },
  {
   "cell_type": "code",
   "execution_count": 19,
   "id": "6ef9978a-4a18-47a4-a477-f8b4e22488c6",
   "metadata": {},
   "outputs": [
    {
     "name": "stdout",
     "output_type": "stream",
     "text": [
      "1\n",
      "2\n",
      "4\n",
      "8\n",
      "16\n",
      "32\n",
      "64\n"
     ]
    }
   ],
   "source": [
    "def generate_powers_of_two(n):\n",
    "    power = 1\n",
    "    while power <= n:\n",
    "        yield power  # Yield the current power of two\n",
    "        power *= 2  # Move to the next power of two\n",
    "\n",
    "# Example usage\n",
    "n = 100\n",
    "powers_of_two_generator = generate_powers_of_two(n)\n",
    "\n",
    "# Iterate through the generator and print each power of two\n",
    "for power in powers_of_two_generator:\n",
    "    print(power)\n"
   ]
  },
  {
   "cell_type": "markdown",
   "id": "2e8af91c-b292-4c56-ac2c-53d91228002a",
   "metadata": {},
   "source": [
    "Explanation:\n",
    "\n",
    "    generate_powers_of_two(n): This generator function starts with the smallest power of two (i.e., 1) and keeps generating the next power of two (i.e., multiplying by 2) until the power exceeds n.\n",
    "    yield power: This statement yields the current power of two, pausing the function's execution.\n",
    "    power *= 2: This line updates the power of two for the next iteration."
   ]
  },
  {
   "cell_type": "markdown",
   "id": "38da100b-8d6e-4329-9872-7f4fd01949f2",
   "metadata": {},
   "source": [
    "This generator produces powers of two up to n, one at a time, without generating all of them at once, making it memory-efficient."
   ]
  },
  {
   "cell_type": "raw",
   "id": "0ea6b31d-fc92-42cc-a291-705ea4060963",
   "metadata": {},
   "source": [
    "10.Write a code that generates prime numbers up to n using a generator"
   ]
  },
  {
   "cell_type": "code",
   "execution_count": 20,
   "id": "4c884f5b-09cf-466e-b3f1-fc54bf7e4b30",
   "metadata": {},
   "outputs": [
    {
     "name": "stdout",
     "output_type": "stream",
     "text": [
      "2\n",
      "3\n",
      "5\n",
      "7\n",
      "11\n",
      "13\n",
      "17\n",
      "19\n",
      "23\n",
      "29\n",
      "31\n",
      "37\n",
      "41\n",
      "43\n",
      "47\n"
     ]
    }
   ],
   "source": [
    "def generate_primes(n):\n",
    "    for num in range(2, n + 1):\n",
    "        # Assume num is prime until proven otherwise\n",
    "        is_prime = True\n",
    "        for i in range(2, int(num ** 0.5) + 1):\n",
    "            if num % i == 0:\n",
    "                is_prime = False\n",
    "                break\n",
    "        if is_prime:\n",
    "            yield num  # Yield the prime number\n",
    "\n",
    "# Example usage\n",
    "n = 50\n",
    "primes_generator = generate_primes(n)\n",
    "\n",
    "# Iterate through the generator and print each prime number\n",
    "for prime in primes_generator:\n",
    "    print(prime)\n"
   ]
  },
  {
   "cell_type": "markdown",
   "id": "a7f10827-d7e8-4f9d-987c-5626e050bad1",
   "metadata": {},
   "source": [
    "Explanation:\n",
    "\n",
    "    generate_primes(n): This generator function iterates through numbers from 2 to n.\n",
    "    Prime Checking Logic: For each number, it assumes the number is prime until proven otherwise. The inner loop checks divisibility up to the square root of the number (a common optimization for checking primality). If the number is divisible by any number in this range, it is not prime.\n",
    "    yield num: If the number is prime, it yields the number, pausing the function's execution."
   ]
  },
  {
   "cell_type": "markdown",
   "id": "9702413a-65a7-46b5-b0d7-b0d4bb612042",
   "metadata": {},
   "source": [
    "This generator efficiently produces prime numbers up to n, generating them one at a time and only when needed, making it suitable for large ranges of numbers."
   ]
  },
  {
   "cell_type": "raw",
   "id": "fc775bad-d717-4db1-aac8-95f552e4c1ad",
   "metadata": {},
   "source": [
    " 11. Write a code that uses a lambda function to calculate the sum of two numbers."
   ]
  },
  {
   "cell_type": "markdown",
   "id": "58caf954-32a3-4447-b3d9-00ac870cfd74",
   "metadata": {},
   "source": [
    "You can use a lambda function in Python to calculate the sum of two numbers. A lambda function is a small anonymous function defined with the lambda keyword. Here's how you can use a lambda function to sum two numbers"
   ]
  },
  {
   "cell_type": "code",
   "execution_count": 21,
   "id": "b9555320-a20b-4551-8886-b341b19ea386",
   "metadata": {},
   "outputs": [
    {
     "name": "stdout",
     "output_type": "stream",
     "text": [
      "The sum of 5 and 10 is 15\n"
     ]
    }
   ],
   "source": [
    "# Define the lambda function to calculate the sum of two numbers\n",
    "sum_lambda = lambda x, y: x + y\n",
    "\n",
    "# Example usage\n",
    "num1 = 5\n",
    "num2 = 10\n",
    "result = sum_lambda(num1, num2)\n",
    "\n",
    "print(f\"The sum of {num1} and {num2} is {result}\")\n"
   ]
  },
  {
   "cell_type": "markdown",
   "id": "3431d571-5c66-4e0a-80cd-ed306eaffede",
   "metadata": {},
   "source": [
    "Explanation:\n",
    "\n",
    "    lambda x, y: x + y: This defines a lambda function that takes two arguments x and y and returns their sum.\n",
    "    sum_lambda: This variable stores the lambda function.\n",
    "    sum_lambda(num1, num2): This calls the lambda function with num1 and num2 as arguments, calculating their sum."
   ]
  },
  {
   "cell_type": "markdown",
   "id": "f4e5a3e2-5277-41a9-a92a-ad6f0bf48ac9",
   "metadata": {},
   "source": [
    "Lambda functions are often used for short, throwaway functions and are commonly employed in places where a simple function is required for a short period, such as in functional programming methods like map(), filter(), and sorted()."
   ]
  },
  {
   "cell_type": "raw",
   "id": "67c54565-46f2-4213-a4b0-5cbdd00f2083",
   "metadata": {},
   "source": [
    " 12. Write a code that uses a lambda function to calculate the square of a given number0"
   ]
  },
  {
   "cell_type": "code",
   "execution_count": 22,
   "id": "abdf11a7-4093-4981-b27d-943fcaa46df9",
   "metadata": {},
   "outputs": [
    {
     "name": "stdout",
     "output_type": "stream",
     "text": [
      "The square of 7 is 49\n"
     ]
    }
   ],
   "source": [
    "# Define the lambda function to calculate the square of a number\n",
    "square_lambda = lambda x: x ** 2\n",
    "\n",
    "# Example usage\n",
    "number = 7\n",
    "result = square_lambda(number)\n",
    "\n",
    "print(f\"The square of {number} is {result}\")\n"
   ]
  },
  {
   "cell_type": "markdown",
   "id": "d22b7028-2e06-426f-aaa9-1d9b49dc85f6",
   "metadata": {},
   "source": [
    "Explanation:\n",
    "\n",
    "    lambda x: x ** 2: This defines a lambda function that takes a single argument x and returns its square.\n",
    "    square_lambda: This variable stores the lambda function.\n",
    "    square_lambda(number): This calls the lambda function with number as the argument, calculating its square."
   ]
  },
  {
   "cell_type": "markdown",
   "id": "4080f9bc-6f64-4bdd-b156-be45bc116cc9",
   "metadata": {},
   "source": [
    "This lambda function is a concise way to perform the squaring operation, and it can be used wherever a simple function is needed."
   ]
  },
  {
   "cell_type": "raw",
   "id": "94c5ea58-2037-42fd-9ef3-b5864c81a49e",
   "metadata": {},
   "source": [
    "13. Write a code that uses a lambda function to check whether a given number is even or odd."
   ]
  },
  {
   "cell_type": "code",
   "execution_count": 24,
   "id": "dfd4a424-ca6a-4004-ad8e-65cdd5829e86",
   "metadata": {},
   "outputs": [
    {
     "name": "stdout",
     "output_type": "stream",
     "text": [
      "The number 15 is odd\n",
      "The number 22 is even\n"
     ]
    }
   ],
   "source": [
    "# Define the lambda function to check if a number is even\n",
    "is_even = lambda x: x % 2 == 0\n",
    "\n",
    "# Define the lambda function to check if a number is odd\n",
    "is_odd = lambda x: x % 2 != 0\n",
    "\n",
    "# Example usage\n",
    "number = 15\n",
    "print(f\"The number {number} is {'even' if is_even(number) else 'odd'}\")\n",
    "\n",
    "number = 22\n",
    "print(f\"The number {number} is {'even' if is_even(number) else 'odd'}\")\n"
   ]
  },
  {
   "cell_type": "markdown",
   "id": "28e1af07-4493-4127-be2d-e7c7a360af15",
   "metadata": {},
   "source": [
    "Explanation:\n",
    "\n",
    "    is_even = lambda x: x % 2 == 0: This lambda function takes a number x and returns True if x is even (i.e., divisible by 2 with no remainder), otherwise it returns False.\n",
    "    is_odd = lambda x: x % 2 != 0: This lambda function checks if a number is odd by returning True if x is not divisible by 2 (i.e., has a remainder of 1), otherwise it returns False."
   ]
  },
  {
   "cell_type": "markdown",
   "id": "34177d32-2835-4fa0-9ec8-4459024d3297",
   "metadata": {},
   "source": [
    "This code uses lambda functions to determine whether a number is even or odd and prints the result accordingly."
   ]
  },
  {
   "cell_type": "raw",
   "id": "6710efa8-8804-46eb-8e31-11425ba88632",
   "metadata": {},
   "source": [
    " 14. Write a code that uses a lambda function to concatenate two strings."
   ]
  },
  {
   "cell_type": "code",
   "execution_count": 25,
   "id": "80216069-0a62-467c-ad74-c6feb0236add",
   "metadata": {},
   "outputs": [
    {
     "name": "stdout",
     "output_type": "stream",
     "text": [
      "Concatenated string: Hello, world!\n"
     ]
    }
   ],
   "source": [
    "# Define the lambda function to concatenate two strings\n",
    "concat_strings = lambda s1, s2: s1 + s2\n",
    "\n",
    "# Example usage\n",
    "string1 = \"Hello, \"\n",
    "string2 = \"world!\"\n",
    "result = concat_strings(string1, string2)\n",
    "\n",
    "print(f\"Concatenated string: {result}\")\n"
   ]
  },
  {
   "cell_type": "markdown",
   "id": "cbba17de-89ed-4262-98a4-a0ef5d31ed62",
   "metadata": {},
   "source": [
    "Explanation:\n",
    "\n",
    "    concat_strings = lambda s1, s2: s1 + s2: This lambda function takes two arguments s1 and s2, and returns their concatenation using the + operator.\n",
    "    concat_strings(string1, string2): This calls the lambda function with string1 and string2 as arguments and returns the concatenated result."
   ]
  },
  {
   "cell_type": "markdown",
   "id": "827743ba-0ba0-4216-802c-70163d6b16c4",
   "metadata": {},
   "source": [
    "This lambda function provides a concise way to concatenate two strings and can be used wherever you need to combine string values."
   ]
  },
  {
   "cell_type": "raw",
   "id": "6714c45d-17ae-46fd-af24-8a1f05490afc",
   "metadata": {},
   "source": [
    "16.Write a code that uses a lambda function to find the maximum of three given numbers."
   ]
  },
  {
   "cell_type": "code",
   "execution_count": 26,
   "id": "396fa3ad-62a7-4efb-b22f-5e37db2e2396",
   "metadata": {},
   "outputs": [
    {
     "name": "stdout",
     "output_type": "stream",
     "text": [
      "The maximum of 10, 25, and 15 is 25\n"
     ]
    }
   ],
   "source": [
    "# Define the lambda function to find the maximum of three numbers\n",
    "max_of_three = lambda a, b, c: max(a, b, c)\n",
    "\n",
    "# Example usage\n",
    "num1 = 10\n",
    "num2 = 25\n",
    "num3 = 15\n",
    "result = max_of_three(num1, num2, num3)\n",
    "\n",
    "print(f\"The maximum of {num1}, {num2}, and {num3} is {result}\")\n"
   ]
  },
  {
   "cell_type": "markdown",
   "id": "65722bfe-a6e1-410b-ad4e-1ba45023d3e2",
   "metadata": {},
   "source": [
    "Explanation:\n",
    "\n",
    "    max_of_three = lambda a, b, c: max(a, b, c): This lambda function takes three arguments a, b, and c, and returns the maximum of these three numbers using the built-in max function.\n",
    "    max_of_three(num1, num2, num3): This calls the lambda function with num1, num2, and num3 as arguments and returns the maximum value.\n",
    "\n",
    "Example Output:\n",
    "\n",
    "For num1 = 10, num2 = 25, and num3 = 15, the output will be:"
   ]
  },
  {
   "cell_type": "markdown",
   "id": "7dacd29e-dc26-4bba-b1e4-006d7d135c1e",
   "metadata": {},
   "source": [
    "This lambda function effectively uses Python's built-in max function to find the largest of three numbers in a concise manner."
   ]
  },
  {
   "cell_type": "raw",
   "id": "4aa50aa2-ff1f-4606-8e0b-51270d5f62df",
   "metadata": {},
   "source": [
    "17. Write a code that generates the squares of even numbers from a given list."
   ]
  },
  {
   "cell_type": "code",
   "execution_count": 27,
   "id": "6e883be2-c86f-4a33-8616-53ea12cb808f",
   "metadata": {},
   "outputs": [
    {
     "name": "stdout",
     "output_type": "stream",
     "text": [
      "Squares of even numbers: [4, 16, 36, 64, 100]\n"
     ]
    }
   ],
   "source": [
    "# Given list of numbers\n",
    "numbers = [1, 2, 3, 4, 5, 6, 7, 8, 9, 10]\n",
    "\n",
    "# List comprehension to generate squares of even numbers\n",
    "squares_of_even = [x ** 2 for x in numbers if x % 2 == 0]\n",
    "\n",
    "print(f\"Squares of even numbers: {squares_of_even}\")\n"
   ]
  },
  {
   "cell_type": "markdown",
   "id": "62055f79-6a36-487f-86e7-2ba9cc7d589d",
   "metadata": {},
   "source": [
    "Explanation:\n",
    "\n",
    "    numbers: This is the given list of numbers.\n",
    "    [x ** 2 for x in numbers if x % 2 == 0]: This list comprehension iterates through each number x in the numbers list. It checks if x is even (x % 2 == 0). If true, it computes x ** 2 (the square of x) and includes it in the resulting list."
   ]
  },
  {
   "cell_type": "markdown",
   "id": "6d5f5c17-c56c-4ac5-abba-5208b92d00a4",
   "metadata": {},
   "source": [
    "This code effectively filters out the even numbers from the list and then computes their squares, resulting in a new list of squared even numbers."
   ]
  },
  {
   "cell_type": "raw",
   "id": "e0cd5fdc-340c-48b6-adc6-c2e47145d66b",
   "metadata": {},
   "source": [
    "18. Write a code that calculates the product of positive numbers from a given list0"
   ]
  },
  {
   "cell_type": "code",
   "execution_count": 28,
   "id": "a9afa392-be1a-4903-86ff-154bb139871d",
   "metadata": {},
   "outputs": [
    {
     "name": "stdout",
     "output_type": "stream",
     "text": [
      "Product of positive numbers: 7200\n"
     ]
    }
   ],
   "source": [
    "from functools import reduce\n",
    "import operator\n",
    "\n",
    "# Given list of numbers\n",
    "numbers = [1, -2, 3, -4, 5, 6, -7, 8, -9, 10]\n",
    "\n",
    "# Filter positive numbers and calculate their product\n",
    "product_of_positives = reduce(operator.mul, (x for x in numbers if x > 0), 1)\n",
    "\n",
    "print(f\"Product of positive numbers: {product_of_positives}\")\n"
   ]
  },
  {
   "cell_type": "markdown",
   "id": "4aa6bde6-d8a2-4644-bcfb-27d330c53002",
   "metadata": {},
   "source": [
    "Explanation:\n",
    "\n",
    "    numbers: This is the given list of numbers.\n",
    "    (x for x in numbers if x > 0): This generator expression filters out the positive numbers from the list.\n",
    "    reduce(operator.mul, ..., 1): reduce applies the operator.mul function (which performs multiplication) cumulatively to the filtered positive numbers. The third argument 1 is the initial value for the reduction, ensuring that if there are no positive numbers, the product will be 1."
   ]
  },
  {
   "cell_type": "markdown",
   "id": "60c0d565-4d9c-42f7-8e46-f850c11e9934",
   "metadata": {},
   "source": [
    "This code efficiently computes the product of all positive numbers in the list, handling the case where there might be no positive numbers (resulting in a product of 1)."
   ]
  },
  {
   "cell_type": "raw",
   "id": "4710d36a-b054-40ef-b5e8-8c2e906eae54",
   "metadata": {},
   "source": [
    " 19. Write a code that doubles the values of odd numbers from a given list."
   ]
  },
  {
   "cell_type": "code",
   "execution_count": 29,
   "id": "3c3feb74-a5df-446c-9914-b6a7fdb1355e",
   "metadata": {},
   "outputs": [
    {
     "name": "stdout",
     "output_type": "stream",
     "text": [
      "Doubled odd numbers: [2, 2, 6, 4, 10, 6, 14, 8, 18, 10]\n"
     ]
    }
   ],
   "source": [
    "# Given list of numbers\n",
    "numbers = [1, 2, 3, 4, 5, 6, 7, 8, 9, 10]\n",
    "\n",
    "# List comprehension to double the values of odd numbers\n",
    "doubled_odds = [x * 2 if x % 2 != 0 else x for x in numbers]\n",
    "\n",
    "print(f\"Doubled odd numbers: {doubled_odds}\")\n"
   ]
  },
  {
   "cell_type": "markdown",
   "id": "af88db55-e319-4db0-9a3e-13f47e5f5eec",
   "metadata": {},
   "source": [
    "Explanation:\n",
    "\n",
    "    numbers: This is the given list of numbers.\n",
    "    [x * 2 if x % 2 != 0 else x for x in numbers]: This list comprehension iterates through each number x in the numbers list. If x is odd (x % 2 != 0), it doubles the value (x * 2). Otherwise, it keeps the number unchanged."
   ]
  },
  {
   "cell_type": "markdown",
   "id": "0e462dd9-1fe2-4653-b57f-826db9bd2a38",
   "metadata": {},
   "source": [
    "This code effectively processes the list to double the values of all odd numbers while leaving the even numbers unchanged."
   ]
  },
  {
   "cell_type": "raw",
   "id": "129e4f59-74af-4808-9969-d2dc9d24d7fd",
   "metadata": {},
   "source": [
    "20.Write a code that calculates the sum of cubes of numbers from a given list."
   ]
  },
  {
   "cell_type": "code",
   "execution_count": 30,
   "id": "c681a9ab-db76-46c0-8151-9373774e1f22",
   "metadata": {},
   "outputs": [
    {
     "name": "stdout",
     "output_type": "stream",
     "text": [
      "Sum of cubes: 225\n"
     ]
    }
   ],
   "source": [
    "# Given list of numbers\n",
    "numbers = [1, 2, 3, 4, 5]\n",
    "\n",
    "# Calculate the sum of cubes of numbers\n",
    "sum_of_cubes = sum(x ** 3 for x in numbers)\n",
    "\n",
    "print(f\"Sum of cubes: {sum_of_cubes}\")\n"
   ]
  },
  {
   "cell_type": "markdown",
   "id": "6aae4dab-e9ff-45c4-aeb8-3e16458f3ee0",
   "metadata": {},
   "source": [
    "Explanation:\n",
    "\n",
    "    numbers: This is the given list of numbers.\n",
    "    x ** 3 for x in numbers: This generator expression computes the cube of each number in the list.\n",
    "    sum(...): The sum function adds up all the cubes produced by the generator expression."
   ]
  },
  {
   "cell_type": "markdown",
   "id": "2db3aa0d-40e5-41e3-8912-6efd64e67e5a",
   "metadata": {},
   "source": [
    "This code calculates the sum of the cubes of all numbers in the list efficiently using a generator expression combined with the sum function"
   ]
  },
  {
   "cell_type": "raw",
   "id": "6a7cfb85-7d52-4a65-b62f-210f8afe3d91",
   "metadata": {},
   "source": [
    "21.  Write a code that filters out prime numbers from a given list."
   ]
  },
  {
   "cell_type": "code",
   "execution_count": 31,
   "id": "e20b670e-c7d6-412a-83cc-3628abc06cca",
   "metadata": {},
   "outputs": [
    {
     "name": "stdout",
     "output_type": "stream",
     "text": [
      "Prime numbers: [23, 29, 37]\n"
     ]
    }
   ],
   "source": [
    "def is_prime(num):\n",
    "    \"\"\"Check if a number is prime.\"\"\"\n",
    "    if num <= 1:\n",
    "        return False\n",
    "    if num <= 3:\n",
    "        return True\n",
    "    if num % 2 == 0 or num % 3 == 0:\n",
    "        return False\n",
    "    i = 5\n",
    "    while i * i <= num:\n",
    "        if num % i == 0 or num % (i + 2) == 0:\n",
    "            return False\n",
    "        i += 6\n",
    "    return True\n",
    "\n",
    "# Given list of numbers\n",
    "numbers = [10, 15, 23, 42, 29, 37, 50]\n",
    "\n",
    "# List comprehension to filter out prime numbers\n",
    "prime_numbers = [x for x in numbers if is_prime(x)]\n",
    "\n",
    "print(f\"Prime numbers: {prime_numbers}\")\n"
   ]
  },
  {
   "cell_type": "markdown",
   "id": "6f08dbcf-adf0-4725-ab3f-42b413742bef",
   "metadata": {},
   "source": [
    "Explanation:\n",
    "\n",
    "    is_prime(num): This helper function checks if a given number num is prime. It handles edge cases and uses an efficient method to test primality.\n",
    "    [x for x in numbers if is_prime(x)]: This list comprehension iterates through each number x in the numbers list and includes x in the resulting list if is_prime(x) returns True."
   ]
  },
  {
   "cell_type": "raw",
   "id": "85d44321-02d7-4c4f-97c9-d2f0184eb7f8",
   "metadata": {},
   "source": [
    "22. Write a code that uses a lambda function to calculate the sum of two numbers."
   ]
  },
  {
   "cell_type": "code",
   "execution_count": 32,
   "id": "6b7bd428-fcfa-41ed-b742-705f6ed627dc",
   "metadata": {},
   "outputs": [
    {
     "name": "stdout",
     "output_type": "stream",
     "text": [
      "The sum of 8 and 12 is 20\n"
     ]
    }
   ],
   "source": [
    "# Define the lambda function to calculate the sum of two numbers\n",
    "sum_lambda = lambda a, b: a + b\n",
    "\n",
    "# Example usage\n",
    "num1 = 8\n",
    "num2 = 12\n",
    "result = sum_lambda(num1, num2)\n",
    "\n",
    "print(f\"The sum of {num1} and {num2} is {result}\")\n"
   ]
  },
  {
   "cell_type": "markdown",
   "id": "465492f2-81e3-4c28-b864-566416ab7beb",
   "metadata": {},
   "source": [
    "Explanation:\n",
    "\n",
    "    sum_lambda = lambda a, b: a + b: This lambda function takes two arguments, a and b, and returns their sum.\n",
    "    sum_lambda(num1, num2): This calls the lambda function with num1 and num2 as arguments and computes their sum."
   ]
  },
  {
   "cell_type": "markdown",
   "id": "ec695d0f-ee05-495d-9a14-ce00c334c7a1",
   "metadata": {},
   "source": [
    "This lambda function provides a concise way to compute the sum of two numbers."
   ]
  },
  {
   "cell_type": "raw",
   "id": "1a122c1c-d486-4213-a104-e97d57196544",
   "metadata": {},
   "source": [
    "23. Write a code that uses a lambda function to calculate the square of a given number."
   ]
  },
  {
   "cell_type": "code",
   "execution_count": 33,
   "id": "5dcb3b41-b3a5-4e11-91db-f89c3b45eb46",
   "metadata": {},
   "outputs": [
    {
     "name": "stdout",
     "output_type": "stream",
     "text": [
      "The sum of 8 and 12 is 20\n"
     ]
    }
   ],
   "source": [
    "# Define the lambda function to calculate the sum of two numbers\n",
    "sum_lambda = lambda a, b: a + b\n",
    "\n",
    "# Example usage\n",
    "num1 = 8\n",
    "num2 = 12\n",
    "result = sum_lambda(num1, num2)\n",
    "\n",
    "print(f\"The sum of {num1} and {num2} is {result}\")\n"
   ]
  },
  {
   "cell_type": "markdown",
   "id": "b868a8cd-ab14-4d2b-bb9d-b51bec08af46",
   "metadata": {},
   "source": [
    "Explanation:\n",
    "\n",
    "    sum_lambda = lambda a, b: a + b: This lambda function takes two arguments, a and b, and returns their sum.\n",
    "    sum_lambda(num1, num2): This calls the lambda function with num1 and num2 as arguments and computes their sum."
   ]
  },
  {
   "cell_type": "markdown",
   "id": "0dc1c3ff-d3ac-4c8b-b0ba-94c2ac0ea43f",
   "metadata": {},
   "source": [
    "This lambda function provides a concise way to compute the sum of two numbers."
   ]
  },
  {
   "cell_type": "raw",
   "id": "b102ae4a-b211-4fbf-ba17-176996035d3f",
   "metadata": {},
   "source": [
    "24. Write a code that uses a lambda function to check whether a given number is even or odd."
   ]
  },
  {
   "cell_type": "code",
   "execution_count": 34,
   "id": "73bac64a-bd13-4def-bc89-d3be4ff880c0",
   "metadata": {},
   "outputs": [
    {
     "name": "stdout",
     "output_type": "stream",
     "text": [
      "The number 7 is odd\n",
      "The number 8 is even\n"
     ]
    }
   ],
   "source": [
    "# Define the lambda function to check if a number is even\n",
    "is_even = lambda x: x % 2 == 0\n",
    "\n",
    "# Define the lambda function to check if a number is odd\n",
    "is_odd = lambda x: x % 2 != 0\n",
    "\n",
    "# Example usage\n",
    "number = 7\n",
    "print(f\"The number {number} is {'even' if is_even(number) else 'odd'}\")\n",
    "\n",
    "number = 8\n",
    "print(f\"The number {number} is {'even' if is_even(number) else 'odd'}\")\n"
   ]
  },
  {
   "cell_type": "markdown",
   "id": "64267e7c-3a0b-4c1f-ac63-5cc682e18d7f",
   "metadata": {},
   "source": [
    "Explanation:\n",
    "\n",
    "    is_even = lambda x: x % 2 == 0: This lambda function takes one argument x and returns True if x is even (i.e., x % 2 equals 0), otherwise it returns False.\n",
    "    is_odd = lambda x: x % 2 != 0: This lambda function returns True if x is odd (i.e., x % 2 does not equal 0), otherwise it returns False."
   ]
  },
  {
   "cell_type": "markdown",
   "id": "e1d0d9e0-1797-454e-b263-9e869e044637",
   "metadata": {},
   "source": [
    "This code uses lambda functions to determine if a number is even or odd and prints the result accordingly."
   ]
  },
  {
   "cell_type": "raw",
   "id": "e8350749-29a9-4718-9903-8669260e2474",
   "metadata": {},
   "source": [
    "25. Write a code that uses a lambda function to concatenate two strings"
   ]
  },
  {
   "cell_type": "code",
   "execution_count": 35,
   "id": "eea8c873-80d3-484d-b8a0-2dca023b5933",
   "metadata": {},
   "outputs": [
    {
     "name": "stdout",
     "output_type": "stream",
     "text": [
      "Concatenated string: Hello, world!\n"
     ]
    }
   ],
   "source": [
    "# Define the lambda function to concatenate two strings\n",
    "concat_strings = lambda s1, s2: s1 + s2\n",
    "\n",
    "# Example usage\n",
    "string1 = \"Hello, \"\n",
    "string2 = \"world!\"\n",
    "result = concat_strings(string1, string2)\n",
    "\n",
    "print(f\"Concatenated string: {result}\")\n"
   ]
  },
  {
   "cell_type": "markdown",
   "id": "f91dde81-beac-4560-89e1-a7c8ad9a88e9",
   "metadata": {},
   "source": [
    "Explanation:\n",
    "\n",
    "    concat_strings = lambda s1, s2: s1 + s2: This lambda function takes two string arguments s1 and s2 and returns their concatenation using the + operator.\n",
    "    concat_strings(string1, string2): This calls the lambda function with string1 and string2 as arguments, producing the concatenated result."
   ]
  },
  {
   "cell_type": "markdown",
   "id": "294cb345-3139-48bf-b252-a81dc7a7aee1",
   "metadata": {},
   "source": [
    "This lambda function provides a concise way to concatenate two strings and can be used in various contexts where you need to combine string values."
   ]
  },
  {
   "cell_type": "raw",
   "id": "fb8a2cb8-fbc3-4362-be3c-8e1da7a51eea",
   "metadata": {},
   "source": [
    "26. Write a code that uses a lambda function to find the maximum of three given numbers\n"
   ]
  },
  {
   "cell_type": "code",
   "execution_count": 36,
   "id": "865a41f6-8cfa-440a-9230-0d64f4f4f59d",
   "metadata": {},
   "outputs": [
    {
     "name": "stdout",
     "output_type": "stream",
     "text": [
      "The maximum of 10, 25, and 15 is 25\n"
     ]
    }
   ],
   "source": [
    "# Define the lambda function to find the maximum of three numbers\n",
    "max_of_three = lambda a, b, c: max(a, b, c)\n",
    "\n",
    "# Example usage\n",
    "num1 = 10\n",
    "num2 = 25\n",
    "num3 = 15\n",
    "result = max_of_three(num1, num2, num3)\n",
    "\n",
    "print(f\"The maximum of {num1}, {num2}, and {num3} is {result}\")\n"
   ]
  },
  {
   "cell_type": "markdown",
   "id": "510ca7bc-b37c-4f35-b445-7f4abd436f63",
   "metadata": {},
   "source": [
    "Explanation:\n",
    "\n",
    "    max_of_three = lambda a, b, c: max(a, b, c): This lambda function takes three arguments a, b, and c, and returns the maximum of these three numbers using Python’s built-in max function.\n",
    "    max_of_three(num1, num2, num3): This calls the lambda function with num1, num2, and num3 as arguments and computes the maximum value."
   ]
  },
  {
   "cell_type": "markdown",
   "id": "34912ae4-682a-4dd2-a1fa-d5b7bb81003c",
   "metadata": {},
   "source": [
    "This lambda function efficiently finds the maximum value among three numbers using a concise and readable approach."
   ]
  },
  {
   "cell_type": "raw",
   "id": "fc7babcb-345a-4310-abd7-fecd69bae849",
   "metadata": {},
   "source": [
    "27. What is encapsulation in OOP?"
   ]
  },
  {
   "cell_type": "markdown",
   "id": "5bbea4fb-1eec-4a05-8e19-0cbd1aadf55d",
   "metadata": {},
   "source": [
    "Encapsulation is one of the core principles of Object-Oriented Programming (OOP). It refers to the practice of bundling the data (attributes) and methods (functions) that operate on the data into a single unit, typically a class, and restricting access to some of the object's components. This is done to protect the internal state of the object from unintended interference and misuse.\n",
    "Key Aspects of Encapsulation:\n",
    "\n",
    "    Private and Public Access Modifiers:\n",
    "        Private Attributes/Methods: These are accessible only within the class. They are usually denoted with a leading underscore (e.g., _attribute) or double underscore (e.g., __attribute) in Python.\n",
    "        Public Attributes/Methods: These are accessible from outside the class. They are usually denoted without any leading underscores.\n",
    "\n",
    "    Getters and Setters:\n",
    "        Getters: Methods that retrieve or \"get\" the value of private attributes.\n",
    "        Setters: Methods that set or \"update\" the value of private attributes. They allow controlled modification of private attributes.\n",
    "\n",
    "    Interface and Implementation Separation:\n",
    "        Encapsulation separates the interface (the public methods and attributes) from the implementation (the private details). Users of the class interact with the class through its public interface, without needing to understand the internal workings.\n",
    "\n",
    "Benefits of Encapsulation:\n",
    "\n",
    "    Control: Encapsulation provides control over the data by allowing the class to manage how the data is accessed and modified.\n",
    "    Flexibility: It allows you to change the internal implementation of a class without affecting the code that uses the class.\n",
    "    Maintainability: Encapsulation helps in organizing code better, making it easier to understand, maintain, and debug.\n",
    "\n",
    "Example in Python:\n",
    "\n",
    "Here's a simple example to illustrate encapsulation:"
   ]
  },
  {
   "cell_type": "code",
   "execution_count": 38,
   "id": "2984c843-390c-434b-8d17-43996104569d",
   "metadata": {},
   "outputs": [
    {
     "name": "stdout",
     "output_type": "stream",
     "text": [
      "Alice\n",
      "30\n",
      "35\n"
     ]
    }
   ],
   "source": [
    "class Person:\n",
    "    def __init__(self, name, age):\n",
    "        self.__name = name  # Private attribute\n",
    "        self.__age = age    # Private attribute\n",
    "\n",
    "    # Public method to get the name\n",
    "    def get_name(self):\n",
    "        return self.__name\n",
    "\n",
    "    # Public method to set the name\n",
    "    def set_name(self, name):\n",
    "        self.__name = name\n",
    "\n",
    "    # Public method to get the age\n",
    "    def get_age(self):\n",
    "        return self.__age\n",
    "\n",
    "    # Public method to set the age\n",
    "    def set_age(self, age):\n",
    "        if age > 0:  # Validation\n",
    "            self.__age = age\n",
    "\n",
    "# Example usage\n",
    "person = Person(\"Alice\", 30)\n",
    "print(person.get_name())  # Alice\n",
    "print(person.get_age())   # 30\n",
    "\n",
    "# Modify the age using setter\n",
    "person.set_age(35)\n",
    "print(person.get_age())   # 35\n",
    "\n",
    "# Attempt to access private attribute directly (will raise an AttributeError)\n",
    "# print(person.__name)  # Uncommenting this will raise an error\n"
   ]
  },
  {
   "cell_type": "markdown",
   "id": "841aaa8b-6a70-4aac-a378-11047f0c56f3",
   "metadata": {},
   "source": [
    "In this example:\n",
    "\n",
    "    The attributes __name and __age are private and cannot be accessed directly from outside the class.\n",
    "    Public methods (get_name, set_name, get_age, set_age) provide controlled access to these private attributes.\n",
    "\n"
   ]
  },
  {
   "cell_type": "raw",
   "id": "e47a11a0-086a-41fa-aaa1-75b75fbe832e",
   "metadata": {},
   "source": [
    "28. Explain the use of access modifiers in Python classes?"
   ]
  },
  {
   "cell_type": "markdown",
   "id": "51182795-bf90-4e44-b549-388de58eaffe",
   "metadata": {},
   "source": [
    "In Python, access modifiers control the visibility and accessibility of attributes and methods in classes. While Python does not have formal access modifiers like some other languages (e.g., private, protected, public in Java or C++), it uses naming conventions to achieve similar results. Here’s a detailed look at how access modifiers are used in Python:\n",
    "Types of Access Modifiers in Python:\n",
    "\n",
    "    Public Access:\n",
    "\n",
    "        Definition: Public members (attributes and methods) are accessible from outside the class. There are no restrictions on accessing or modifying public attributes.\n",
    "\n",
    "        Syntax: Public members are simply defined without any special prefix.\n",
    "\n",
    "        Example:"
   ]
  },
  {
   "cell_type": "code",
   "execution_count": 39,
   "id": "f7f925b2-7616-422b-9e42-70ae1becd8a7",
   "metadata": {},
   "outputs": [
    {
     "name": "stdout",
     "output_type": "stream",
     "text": [
      "Alice\n",
      "Hello, my name is Alice and I am 30 years old.\n"
     ]
    }
   ],
   "source": [
    "class Person:\n",
    "    def __init__(self, name, age):\n",
    "        self.name = name  # Public attribute\n",
    "        self.age = age    # Public attribute\n",
    "\n",
    "    def greet(self):\n",
    "        print(f\"Hello, my name is {self.name} and I am {self.age} years old.\")\n",
    "\n",
    "person = Person(\"Alice\", 30)\n",
    "print(person.name)  # Accessing public attribute\n",
    "person.greet()     # Calling public method\n"
   ]
  },
  {
   "cell_type": "markdown",
   "id": "2d12e2fd-5624-4f33-bb71-3b1cee0e55b7",
   "metadata": {},
   "source": [
    "Protected Access:\n",
    "\n",
    "    Definition: Protected members are intended to be accessible only within the class and its subclasses. While Python does not enforce this access control, it uses a naming convention to indicate that these members are intended to be protected.\n",
    "\n",
    "    Syntax: Protected members are prefixed with a single underscore (_).\n",
    "\n",
    "    Example:"
   ]
  },
  {
   "cell_type": "code",
   "execution_count": 40,
   "id": "4fbf3e4e-c1a2-4acb-b2d8-404d2d897190",
   "metadata": {},
   "outputs": [
    {
     "name": "stdout",
     "output_type": "stream",
     "text": [
      "Bob\n",
      "Hello, my name is Bob and I am 22 years old.\n"
     ]
    }
   ],
   "source": [
    "class Person:\n",
    "    def __init__(self, name, age):\n",
    "        self._name = name  # Protected attribute\n",
    "        self._age = age    # Protected attribute\n",
    "\n",
    "    def _greet(self):\n",
    "        print(f\"Hello, my name is {self._name} and I am {self._age} years old.\")\n",
    "\n",
    "class Student(Person):\n",
    "    def __init__(self, name, age, student_id):\n",
    "        super().__init__(name, age)\n",
    "        self._student_id = student_id  # Protected attribute\n",
    "\n",
    "student = Student(\"Bob\", 22, \"S12345\")\n",
    "print(student._name)  # Accessing protected attribute (allowed but not recommended)\n",
    "student._greet()     # Calling protected method (allowed but not recommended)\n"
   ]
  },
  {
   "cell_type": "markdown",
   "id": "a0dac452-effe-4df7-8390-3a583abdcae5",
   "metadata": {},
   "source": [
    "Private Access:\n",
    "\n",
    "    Definition: Private members are intended to be accessible only within the class itself. This is used to hide the internal implementation details and prevent direct access from outside the class.\n",
    "\n",
    "    Syntax: Private members are prefixed with double underscores (__).\n",
    "\n",
    "    Example:"
   ]
  },
  {
   "cell_type": "code",
   "execution_count": 41,
   "id": "fda597f3-d8e5-4ae6-bada-d82d76200c85",
   "metadata": {},
   "outputs": [
    {
     "name": "stdout",
     "output_type": "stream",
     "text": [
      "Hello, my name is Charlie and I am 40 years old.\n"
     ]
    }
   ],
   "source": [
    "class Person:\n",
    "    def __init__(self, name, age):\n",
    "        self.__name = name  # Private attribute\n",
    "        self.__age = age    # Private attribute\n",
    "\n",
    "    def __greet(self):\n",
    "        print(f\"Hello, my name is {self.__name} and I am {self.__age} years old.\")\n",
    "\n",
    "    def public_greet(self):\n",
    "        self.__greet()  # Calling private method within the class\n",
    "\n",
    "person = Person(\"Charlie\", 40)\n",
    "# print(person.__name)  # AttributeError: 'Person' object has no attribute '__name'\n",
    "person.public_greet()  # Calling public method which internally uses private method\n"
   ]
  },
  {
   "cell_type": "markdown",
   "id": "e8b7da3a-129b-458f-9219-00a889349e79",
   "metadata": {},
   "source": [
    "Key Points:\n",
    "\n",
    "    Naming Conventions: Python uses naming conventions rather than strict access controls. A single underscore (_) indicates a protected member, while a double underscore (__) indicates a private member.\n",
    "    Name Mangling: Private members with double underscores are subject to name mangling, which changes their names to include the class name (e.g., Person__name). This makes it harder, but not impossible, to access them from outside the class.\n",
    "    No Strict Enforcement: Python’s access control is based on convention rather than enforcement. Developers are trusted to respect these conventions, and access is still possible if needed.\n",
    "\n",
    "Using these conventions helps to structure code in a way that supports encapsulation and modularity, even though Python's approach is more flexible compared to languages with strict access control mechanisms."
   ]
  },
  {
   "cell_type": "raw",
   "id": "59ec017b-6f6a-407d-9c09-23ae23bd12bd",
   "metadata": {},
   "source": [
    "29.what is inheritance in OOP?"
   ]
  },
  {
   "cell_type": "markdown",
   "id": "916c6a0f-111c-428a-aa1f-4c45a247abb2",
   "metadata": {},
   "source": [
    "Inheritance is a fundamental concept in Object-Oriented Programming (OOP) that allows a class to inherit attributes and methods from another class. This promotes code reuse and establishes a hierarchical relationship between classes. Here's a detailed explanation:\n",
    "Key Concepts of Inheritance:\n",
    "\n",
    "    Base Class (or Parent Class):\n",
    "\n",
    "        Definition: The class that provides the attributes and methods to be inherited. It serves as the foundation for other classes.\n",
    "\n",
    "        Example:"
   ]
  },
  {
   "cell_type": "code",
   "execution_count": 42,
   "id": "feed9346-067b-4f35-a5d9-abe6641277a6",
   "metadata": {},
   "outputs": [],
   "source": [
    "class Animal:\n",
    "    def __init__(self, name):\n",
    "        self.name = name\n",
    "\n",
    "    def speak(self):\n",
    "        return \"Some sound\"\n"
   ]
  },
  {
   "cell_type": "markdown",
   "id": "ada68cb1-7c51-4010-96ba-d26d6bd73fc4",
   "metadata": {},
   "source": [
    "Derived Class (or Child Class):\n",
    "\n",
    "    Definition: The class that inherits from the base class. It can extend or modify the behavior and attributes inherited from the base class."
   ]
  },
  {
   "cell_type": "code",
   "execution_count": 43,
   "id": "3a717990-c99f-4181-8bfa-9b69cf83608d",
   "metadata": {},
   "outputs": [],
   "source": [
    "class Dog(Animal):\n",
    "    def speak(self):\n",
    "        return \"Woof!\"\n"
   ]
  },
  {
   "cell_type": "markdown",
   "id": "bfb033cf-9209-4b06-8f39-3eb081fa90e0",
   "metadata": {},
   "source": [
    "Benefits of Inheritance:\n",
    "\n",
    "    Code Reusability: Inheritance allows you to reuse existing code. Instead of rewriting code, you can inherit common functionality from a base class.\n",
    "    Modularity: It helps in organizing code into a hierarchy, making it easier to manage and understand.\n",
    "    Extensibility: New functionality can be added to derived classes without modifying the existing base class code.\n",
    "    Polymorphism: It allows derived classes to override methods of the base class, providing specific implementations for different contexts.\n",
    "\n",
    "Types of Inheritance:\n",
    "\n",
    "    Single Inheritance:\n",
    "\n",
    "        A derived class inherits from a single base class.\n",
    "\n",
    "        Example:"
   ]
  },
  {
   "cell_type": "code",
   "execution_count": 44,
   "id": "b044ff29-1ec8-485f-85f5-46cacf923a39",
   "metadata": {},
   "outputs": [],
   "source": [
    "class Animal:\n",
    "    def speak(self):\n",
    "        return \"Some sound\"\n",
    "\n",
    "class Dog(Animal):\n",
    "    def speak(self):\n",
    "        return \"Woof!\"\n"
   ]
  },
  {
   "cell_type": "markdown",
   "id": "71a3bf20-fdb0-4fa1-981b-579ab25f28cc",
   "metadata": {},
   "source": [
    "Multiple Inheritance:\n",
    "\n",
    "    A derived class inherits from multiple base classes. This can be useful but should be used carefully to avoid complexity.\n",
    "\n",
    "    Example:"
   ]
  },
  {
   "cell_type": "code",
   "execution_count": 45,
   "id": "7c9ccc48-40e2-4e85-b48d-3f437d21487f",
   "metadata": {},
   "outputs": [],
   "source": [
    "class Animal:\n",
    "    def speak(self):\n",
    "        return \"Some sound\"\n",
    "\n",
    "class Swimmer:\n",
    "    def swim(self):\n",
    "        return \"Swimming\"\n",
    "\n",
    "class Duck(Animal, Swimmer):\n",
    "    def speak(self):\n",
    "        return \"Quack!\"\n"
   ]
  },
  {
   "cell_type": "markdown",
   "id": "b2883b6c-e948-45fe-b6a6-cd5ea634f1ec",
   "metadata": {},
   "source": [
    "Hierarchical Inheritance:\n",
    "\n",
    "    Multiple derived classes inherit from a single base class.\n",
    "\n",
    "    Example:"
   ]
  },
  {
   "cell_type": "code",
   "execution_count": 46,
   "id": "0604e170-57cf-4f34-b8bf-32f4b8b5abde",
   "metadata": {},
   "outputs": [],
   "source": [
    "class Animal:\n",
    "    def speak(self):\n",
    "        return \"Some sound\"\n",
    "\n",
    "class Dog(Animal):\n",
    "    def speak(self):\n",
    "        return \"Woof!\"\n",
    "\n",
    "class Cat(Animal):\n",
    "    def speak(self):\n",
    "        return \"Meow!\"\n"
   ]
  },
  {
   "cell_type": "markdown",
   "id": "455b65af-7745-4609-a8b1-b63231398062",
   "metadata": {},
   "source": [
    "Multilevel Inheritance:\n",
    "\n",
    "    A derived class inherits from another derived class.\n",
    "\n",
    "    Example:"
   ]
  },
  {
   "cell_type": "code",
   "execution_count": 47,
   "id": "60e9a64a-efbc-4a40-9709-16fa7d4ae47f",
   "metadata": {},
   "outputs": [],
   "source": [
    "class Animal:\n",
    "    def speak(self):\n",
    "        return \"Some sound\"\n",
    "\n",
    "class Mammal(Animal):\n",
    "    def has_hair(self):\n",
    "        return True\n",
    "\n",
    "class Dog(Mammal):\n",
    "    def speak(self):\n",
    "        return \"Woof!\"\n"
   ]
  },
  {
   "cell_type": "markdown",
   "id": "bf491849-f7a4-46a7-8244-2c23770cfa32",
   "metadata": {},
   "source": [
    "Example Code:\n",
    "\n",
    "Here's a complete example illustrating inheritance:"
   ]
  },
  {
   "cell_type": "code",
   "execution_count": 49,
   "id": "d4705b5c-6ab9-4686-96b5-d1a7be845768",
   "metadata": {},
   "outputs": [
    {
     "name": "stdout",
     "output_type": "stream",
     "text": [
      "Buddy says: Woof!\n",
      "Whiskers says: Meow!\n"
     ]
    }
   ],
   "source": [
    "class Animal:\n",
    "    def __init__(self, name):\n",
    "        self.name = name\n",
    "\n",
    "    def speak(self):\n",
    "        return \"Some sound\"\n",
    "\n",
    "class Dog(Animal):\n",
    "    def speak(self):\n",
    "        return \"Woof!\"\n",
    "\n",
    "class Cat(Animal):\n",
    "    def speak(self):\n",
    "        return \"Meow!\"\n",
    "\n",
    "# Example usage\n",
    "dog = Dog(\"Buddy\")\n",
    "cat = Cat(\"Whiskers\")\n",
    "\n",
    "print(f\"{dog.name} says: {dog.speak()}\")  # Buddy says: Woof!\n",
    "print(f\"{cat.name} says: {cat.speak()}\")  # Whiskers says: Meow!\n"
   ]
  },
  {
   "cell_type": "markdown",
   "id": "e47061d5-8853-4d87-946d-67d5c4cf46a8",
   "metadata": {},
   "source": [
    "Explanation:\n",
    "\n",
    "    Animal: The base class with a common attribute name and a method speak().\n",
    "    Dog and Cat: Derived classes that inherit from Animal and override the speak() method to provide specific behavior.\n",
    "\n",
    "Inheritance allows these derived classes to use the name attribute from Animal and customize the speak() method, demonstrating both code reuse and extensibility.\n"
   ]
  },
  {
   "cell_type": "raw",
   "id": "c1fac403-0e1c-4553-ba24-1d18fb6a1101",
   "metadata": {},
   "source": [
    "30.Define polymorphism in OOP?"
   ]
  },
  {
   "cell_type": "markdown",
   "id": "2645ca9a-7267-439b-89e5-ffeb3cc03ff0",
   "metadata": {},
   "source": [
    "Polymorphism is a key concept in Object-Oriented Programming (OOP) that allows objects of different classes to be treated as objects of a common base class. It enables a single interface to represent different underlying forms (data types). The term \"polymorphism\" comes from Greek, meaning \"many shapes\" or \"many forms.\"\n",
    "Types of Polymorphism in OOP:\n",
    "\n",
    "    Method Overriding (Runtime Polymorphism):\n",
    "\n",
    "        Definition: This occurs when a derived class provides a specific implementation for a method that is already defined in its base class. The method in the base class is \"overridden\" by the derived class.\n",
    "\n",
    "        Example:"
   ]
  },
  {
   "cell_type": "code",
   "execution_count": 51,
   "id": "80cd38e4-78eb-4b7b-a133-616cd3372f13",
   "metadata": {},
   "outputs": [
    {
     "name": "stdout",
     "output_type": "stream",
     "text": [
      "Woof!\n",
      "Meow!\n"
     ]
    }
   ],
   "source": [
    "class Animal:\n",
    "    def speak(self):\n",
    "        return \"Some sound\"\n",
    "\n",
    "class Dog(Animal):\n",
    "    def speak(self):\n",
    "        return \"Woof!\"\n",
    "\n",
    "class Cat(Animal):\n",
    "    def speak(self):\n",
    "        return \"Meow!\"\n",
    "\n",
    "# Example usage\n",
    "def make_animal_speak(animal):\n",
    "    print(animal.speak())\n",
    "\n",
    "dog = Dog()\n",
    "cat = Cat()\n",
    "\n",
    "make_animal_speak(dog)  # Output: Woof!\n",
    "make_animal_speak(cat)  # Output: Meow!\n"
   ]
  },
  {
   "cell_type": "markdown",
   "id": "72f0cd76-cad8-4062-b96d-01c3984fdfa4",
   "metadata": {},
   "source": [
    "    n this example, Dog and Cat classes override the speak method of the Animal class. The make_animal_speak function demonstrates runtime polymorphism by calling the speak method on objects of different classes.\n",
    "\n",
    "Method Overloading (Compile-Time Polymorphism):\n",
    "\n",
    "    Definition: This involves creating multiple methods with the same name but different signatures (i.e., different parameter lists). Python does not support method overloading directly like some other languages, but you can achieve similar behavior by using default arguments or variable-length arguments.\n",
    "\n",
    "    Example:"
   ]
  },
  {
   "cell_type": "code",
   "execution_count": 52,
   "id": "2aa075f4-d10c-4ab8-b969-fd8dbfccfb35",
   "metadata": {},
   "outputs": [
    {
     "name": "stdout",
     "output_type": "stream",
     "text": [
      "No message provided\n",
      "Hello!\n"
     ]
    }
   ],
   "source": [
    "class Printer:\n",
    "    def print_message(self, msg=None):\n",
    "        if msg is None:\n",
    "            print(\"No message provided\")\n",
    "        else:\n",
    "            print(msg)\n",
    "\n",
    "# Example usage\n",
    "printer = Printer()\n",
    "printer.print_message()         # Output: No message provided\n",
    "printer.print_message(\"Hello!\") # Output: Hello!\n"
   ]
  },
  {
   "cell_type": "markdown",
   "id": "b347c7d2-ff65-4801-bbb9-1df819bd84b6",
   "metadata": {},
   "source": [
    "    In this example, the print_message method in the Printer class is designed to handle both cases where a message is provided or not, simulating method overloading.\n",
    "\n",
    "Operator Overloading:\n",
    "\n",
    "    Definition: This allows custom classes to define the behavior of operators (e.g., +, -, *, /) for instances of the class.\n",
    "\n",
    "    Example:"
   ]
  },
  {
   "cell_type": "code",
   "execution_count": 53,
   "id": "56e1c8f1-9b38-41d9-bfb3-7e1e1c5ea170",
   "metadata": {},
   "outputs": [
    {
     "name": "stdout",
     "output_type": "stream",
     "text": [
      "Vector(6, 8)\n"
     ]
    }
   ],
   "source": [
    "class Vector:\n",
    "    def __init__(self, x, y):\n",
    "        self.x = x\n",
    "        self.y = y\n",
    "\n",
    "    def __add__(self, other):\n",
    "        return Vector(self.x + other.x, self.y + other.y)\n",
    "\n",
    "    def __repr__(self):\n",
    "        return f\"Vector({self.x}, {self.y})\"\n",
    "\n",
    "# Example usage\n",
    "v1 = Vector(2, 3)\n",
    "v2 = Vector(4, 5)\n",
    "v3 = v1 + v2\n",
    "\n",
    "print(v3)  # Output: Vector(6, 8)\n"
   ]
  },
  {
   "cell_type": "markdown",
   "id": "5b31a085-7dfc-48db-948d-0947bad7d5df",
   "metadata": {},
   "source": [
    "        In this example, the Vector class defines how the + operator works for its instances by implementing the __add__ method.\n",
    "\n",
    "Benefits of Polymorphism:\n",
    "\n",
    "    Flexibility: Polymorphism allows for flexible and reusable code by letting you use a single interface to interact with objects of different classes.\n",
    "    Maintainability: It simplifies code maintenance and extension by allowing changes to be made in the base class while preserving the interface.\n",
    "    Interchangeability: It allows objects of different classes to be interchangeable in functions or methods that operate on a common base class or interface.\n",
    "\n",
    "Polymorphism helps in designing systems that are both flexible and extensible, allowing for code that can handle new classes with minimal modifications.\n"
   ]
  },
  {
   "cell_type": "raw",
   "id": "2a6c24c6-893d-4466-a4cf-f3d81e4be724",
   "metadata": {},
   "source": [
    "30. Explain method overriding in Python?"
   ]
  },
  {
   "cell_type": "markdown",
   "id": "f82a6656-9e4a-4698-8e03-a99046f99023",
   "metadata": {},
   "source": [
    "Method overriding is a feature of Object-Oriented Programming (OOP) that allows a derived class to provide a specific implementation for a method that is already defined in its base class. This concept enables polymorphism, where a derived class can alter or extend the behavior of methods inherited from its base class.\n",
    "Key Concepts of Method Overriding:\n",
    "\n",
    "    Base Class:\n",
    "\n",
    "        The class that provides the initial implementation of a method.\n",
    "\n",
    "        Example:"
   ]
  },
  {
   "cell_type": "code",
   "execution_count": 54,
   "id": "4f175933-b36c-48d2-bf46-a83c1412234a",
   "metadata": {},
   "outputs": [],
   "source": [
    "class Animal:\n",
    "    def speak(self):\n",
    "        return \"Some generic sound\"\n"
   ]
  },
  {
   "cell_type": "markdown",
   "id": "418b74fa-b1a6-479a-b6fc-ce44b4e61348",
   "metadata": {},
   "source": [
    "Derived Class:\n",
    "\n",
    "    The class that inherits from the base class and provides a new implementation of the method.\n",
    "\n",
    "    Example:"
   ]
  },
  {
   "cell_type": "code",
   "execution_count": 55,
   "id": "1679df8f-ea9c-48d8-bc2a-d757f3e838eb",
   "metadata": {},
   "outputs": [],
   "source": [
    "class Dog(Animal):\n",
    "    def speak(self):\n",
    "        return \"Woof!\"\n"
   ]
  },
  {
   "cell_type": "markdown",
   "id": "a95de9f0-f112-48ad-8c0e-915605a74567",
   "metadata": {},
   "source": [
    "How Method Overriding Works:\n",
    "\n",
    "    Inheritance: The derived class inherits the method from the base class.\n",
    "    Override: The derived class defines a method with the same name, parameters, and signature as the method in the base class.\n",
    "    Polymorphism: When you call the overridden method on an instance of the derived class, the new implementation in the derived class is executed.\n",
    "\n",
    "Example:\n",
    "\n",
    "Here’s a complete example demonstrating method overriding:"
   ]
  },
  {
   "cell_type": "code",
   "execution_count": 56,
   "id": "94f457f4-ec21-4aff-93ed-e80af3dd1121",
   "metadata": {},
   "outputs": [
    {
     "name": "stdout",
     "output_type": "stream",
     "text": [
      "Woof!\n",
      "Meow!\n"
     ]
    }
   ],
   "source": [
    "class Animal:\n",
    "    def speak(self):\n",
    "        return \"Some generic sound\"\n",
    "\n",
    "class Dog(Animal):\n",
    "    def speak(self):\n",
    "        return \"Woof!\"\n",
    "\n",
    "class Cat(Animal):\n",
    "    def speak(self):\n",
    "        return \"Meow!\"\n",
    "\n",
    "# Example usage\n",
    "def make_animal_speak(animal):\n",
    "    print(animal.speak())\n",
    "\n",
    "# Create instances of the derived classes\n",
    "dog = Dog()\n",
    "cat = Cat()\n",
    "\n",
    "# Call the overridden method\n",
    "make_animal_speak(dog)  # Output: Woof!\n",
    "make_animal_speak(cat)  # Output: Meow!\n"
   ]
  },
  {
   "cell_type": "markdown",
   "id": "cd8192d7-d079-440c-8bb0-2faa0857ae52",
   "metadata": {},
   "source": [
    "Explanation:\n",
    "\n",
    "    Base Class Animal:\n",
    "        Defines a method speak that returns a generic sound.\n",
    "\n",
    "    Derived Class Dog:\n",
    "        Overrides the speak method to return \"Woof!\".\n",
    "\n",
    "    Derived Class Cat:\n",
    "        Overrides the speak method to return \"Meow!\".\n",
    "\n",
    "    Function make_animal_speak:\n",
    "        Takes an Animal instance and calls its speak method. The specific implementation of speak depends on the type of the object passed.\n",
    "\n",
    "Benefits of Method Overriding:\n",
    "\n",
    "    Customization: Allows derived classes to provide specific behavior while inheriting common functionality from the base class.\n",
    "    Flexibility: Facilitates the design of systems where behavior can be altered or extended without modifying the base class.\n",
    "    Polymorphism: Enables the use of a common interface (method) while providing different implementations, making code more flexible and reusable.\n",
    "\n",
    "Overriding vs. Overloading:\n",
    "\n",
    "    Method Overriding: Involves redefining a method in a derived class with the same name and parameters as in the base class.\n",
    "    Method Overloading: Involves creating multiple methods with the same name but different parameters. Python does not support method overloading in the traditional sense, but similar behavior can be achieved using default arguments or variable-length arguments.\n",
    "\n",
    "Method overriding is a powerful feature in OOP that helps in creating more modular and maintainable code by allowing subclasses to provide specific implementations of methods inherited from base classes.\n"
   ]
  },
  {
   "cell_type": "raw",
   "id": "5893cd35-4236-45f6-b6aa-a208851e551c",
   "metadata": {},
   "source": [
    "32.Define a parent class Animal with a method make_sound that prints \"Generic animal sound\". Create a\n",
    "child class Dog inheriting from Animal with a method make_sound that prints \"Woof!\""
   ]
  },
  {
   "cell_type": "code",
   "execution_count": 57,
   "id": "c4713257-792d-4ce4-862f-49f52a3af862",
   "metadata": {},
   "outputs": [
    {
     "name": "stdout",
     "output_type": "stream",
     "text": [
      "Generic animal sound\n",
      "Woof!\n"
     ]
    }
   ],
   "source": [
    "# Define the parent class Animal\n",
    "class Animal:\n",
    "    def make_sound(self):\n",
    "        print(\"Generic animal sound\")\n",
    "\n",
    "# Define the child class Dog that inherits from Animal\n",
    "class Dog(Animal):\n",
    "    def make_sound(self):\n",
    "        print(\"Woof!\")\n",
    "\n",
    "# Example usage\n",
    "animal = Animal()\n",
    "dog = Dog()\n",
    "\n",
    "# Call the make_sound method on both instances\n",
    "animal.make_sound()  # Output: Generic animal sound\n",
    "dog.make_sound()     # Output: Woof!\n"
   ]
  },
  {
   "cell_type": "markdown",
   "id": "6f9efdf1-e648-49d8-95f8-2c0ed19aef53",
   "metadata": {},
   "source": [
    "Explanation:\n",
    "\n",
    "    Parent Class Animal:\n",
    "        The Animal class has a method make_sound that prints \"Generic animal sound\".\n",
    "\n",
    "    Child Class Dog:\n",
    "        The Dog class inherits from Animal.\n",
    "        It overrides the make_sound method to print \"Woof!\".\n",
    "\n",
    "    Example Usage:\n",
    "        Creating an instance of Animal and calling its make_sound method prints the generic sound.\n",
    "        Creating an instance of Dog and calling its make_sound method prints \"Woof!\", demonstrating how the method is overridden in the child class.\n",
    "\n",
    "This example illustrates method overriding, where the Dog class provides a specific implementation of the make_sound method that replaces the implementation in the Animal class."
   ]
  },
  {
   "cell_type": "raw",
   "id": "17199e15-72b4-44f5-bd77-a818bf190c56",
   "metadata": {},
   "source": [
    "33.Define a method move in the Animal class that prints \"Animal moves\". Override the move method in the\n",
    "Dog class to print \"Dog runs.\""
   ]
  },
  {
   "cell_type": "code",
   "execution_count": 59,
   "id": "7969a595-9e48-446a-b4a5-76cf17bdfebf",
   "metadata": {},
   "outputs": [
    {
     "name": "stdout",
     "output_type": "stream",
     "text": [
      "Animal moves\n",
      "Dog runs\n"
     ]
    }
   ],
   "source": [
    "# Define the parent class Animal\n",
    "class Animal:\n",
    "    def move(self):\n",
    "        print(\"Animal moves\")\n",
    "\n",
    "# Define the child class Dog that inherits from Animal\n",
    "class Dog(Animal):\n",
    "    def move(self):\n",
    "        print(\"Dog runs\")\n",
    "\n",
    "# Example usage\n",
    "animal = Animal()\n",
    "dog = Dog()\n",
    "\n",
    "# Call the move method on both instances\n",
    "animal.move()  # Output: Animal moves\n",
    "dog.move()     # Output: Dog runs\n"
   ]
  },
  {
   "cell_type": "markdown",
   "id": "602a1cc0-c5d5-403c-a490-05394cd670a7",
   "metadata": {},
   "source": [
    "Explanation:\n",
    "\n",
    "    Parent Class Animal:\n",
    "        The Animal class has a method move that prints \"Animal moves\".\n",
    "\n",
    "    Child Class Dog:\n",
    "        The Dog class inherits from Animal.\n",
    "        It overrides the move method to print \"Dog runs\".\n",
    "\n",
    "    Example Usage:\n",
    "        Creating an instance of Animal and calling its move method prints \"Animal moves\".\n",
    "        Creating an instance of Dog and calling its move method prints \"Dog runs\", demonstrating how the method is overridden in the child class.\n",
    "\n",
    "This example demonstrates method overriding where the Dog class provides a specific implementation of the move method that replaces the implementation in the Animal class.\n"
   ]
  },
  {
   "cell_type": "raw",
   "id": "943007d7-a5f6-4b10-b800-7cac52e583c6",
   "metadata": {},
   "source": [
    "34. Create a class Mammal with a method reproduce that prints \"Giving birth to live young.\" Create a class\n",
    "DogMammal inheriting from both Dog and Mammal"
   ]
  },
  {
   "cell_type": "code",
   "execution_count": 60,
   "id": "837fa333-2a80-4879-bbe6-2db6a55e78ac",
   "metadata": {},
   "outputs": [
    {
     "name": "stdout",
     "output_type": "stream",
     "text": [
      "Dog runs\n",
      "Giving birth to live young.\n"
     ]
    }
   ],
   "source": [
    "# Define the parent class Animal\n",
    "class Animal:\n",
    "    def move(self):\n",
    "        print(\"Animal moves\")\n",
    "\n",
    "# Define the parent class Mammal\n",
    "class Mammal:\n",
    "    def reproduce(self):\n",
    "        print(\"Giving birth to live young.\")\n",
    "\n",
    "# Define the child class Dog that inherits from Animal\n",
    "class Dog(Animal):\n",
    "    def move(self):\n",
    "        print(\"Dog runs\")\n",
    "\n",
    "# Define the child class DogMammal that inherits from both Dog and Mammal\n",
    "class DogMammal(Dog, Mammal):\n",
    "    pass\n",
    "\n",
    "# Example usage\n",
    "dog_mammal = DogMammal()\n",
    "\n",
    "# Call methods from both parent classes\n",
    "dog_mammal.move()        # Output: Dog runs\n",
    "dog_mammal.reproduce()  # Output: Giving birth to live young.\n"
   ]
  },
  {
   "cell_type": "markdown",
   "id": "5065d643-4749-4419-a3d3-c9ff30d52897",
   "metadata": {},
   "source": [
    "Explanation:\n",
    "\n",
    "    Parent Class Animal:\n",
    "        Defines a method move that prints \"Animal moves\".\n",
    "\n",
    "    Parent Class Mammal:\n",
    "        Defines a method reproduce that prints \"Giving birth to live young.\".\n",
    "\n",
    "    Child Class Dog:\n",
    "        Inherits from Animal and overrides the move method to print \"Dog runs\".\n",
    "\n",
    "    Child Class DogMammal:\n",
    "        Inherits from both Dog and Mammal. The pass statement is used here because DogMammal does not need to add or modify any behavior beyond what it inherits.\n",
    "\n",
    "    Example Usage:\n",
    "        Creating an instance of DogMammal allows access to methods from both the Dog and Mammal classes.\n",
    "        Calling dog_mammal.move() prints \"Dog runs\" from the Dog class.\n",
    "        Calling dog_mammal.reproduce() prints \"Giving birth to live young.\" from the Mammal class.\n",
    "\n",
    "Key Points:\n",
    "\n",
    "    Multiple Inheritance: DogMammal inherits methods from both Dog and Mammal. Python handles this through its method resolution order (MRO), which determines which method is called if there are conflicts.\n",
    "    Inheritance Hierarchy: The class DogMammal combines the features of Dog and Mammal, demonstrating how multiple inheritance allows a class to use methods from multiple parent classes.\n",
    "\n",
    "ChatGPT can make mi"
   ]
  },
  {
   "cell_type": "raw",
   "id": "6ebec46a-5656-4fb0-b37a-90551dd6dd96",
   "metadata": {},
   "source": [
    "35. Ceate a class GermanShepherd inheriting from Dog and override the make_sound method to print\n",
    "\"Bark!\"."
   ]
  },
  {
   "cell_type": "markdown",
   "id": "f81c5d7e-e483-466f-af4c-31229cd1449c",
   "metadata": {},
   "source": [
    "o create a class GermanShepherd that inherits from Dog and overrides the make_sound method to print \"Bark!\", follow these steps:\n",
    "\n",
    "    Define the base class Animal with a method make_sound.\n",
    "    Define the Dog class inheriting from Animal and override the make_sound method.\n",
    "    Define the GermanShepherd class inheriting from Dog and further override the make_sound method.\n",
    "\n",
    "Here is the complete implementation:"
   ]
  },
  {
   "cell_type": "code",
   "execution_count": 61,
   "id": "969ebeec-eeb1-4174-b447-2e30f7858ecb",
   "metadata": {},
   "outputs": [
    {
     "name": "stdout",
     "output_type": "stream",
     "text": [
      "Bark!\n"
     ]
    }
   ],
   "source": [
    "# Define the parent class Animal\n",
    "class Animal:\n",
    "    def make_sound(self):\n",
    "        print(\"Generic animal sound\")\n",
    "\n",
    "# Define the child class Dog that inherits from Animal\n",
    "class Dog(Animal):\n",
    "    def make_sound(self):\n",
    "        print(\"Woof!\")\n",
    "\n",
    "# Define the child class GermanShepherd that inherits from Dog\n",
    "class GermanShepherd(Dog):\n",
    "    def make_sound(self):\n",
    "        print(\"Bark!\")\n",
    "\n",
    "# Example usage\n",
    "german_shepherd = GermanShepherd()\n",
    "\n",
    "# Call the make_sound method\n",
    "german_shepherd.make_sound()  # Output: Bark!\n"
   ]
  },
  {
   "cell_type": "markdown",
   "id": "807a3d8a-a06e-418a-b7eb-dac5a767bc5b",
   "metadata": {},
   "source": [
    "Explanation:\n",
    "\n",
    "    Parent Class Animal:\n",
    "        Contains the method make_sound that prints \"Generic animal sound\".\n",
    "\n",
    "    Child Class Dog:\n",
    "        Inherits from Animal and overrides the make_sound method to print \"Woof!\".\n",
    "\n",
    "    Child Class GermanShepherd:\n",
    "        Inherits from Dog and further overrides the make_sound method to print \"Bark!\".\n",
    "\n",
    "    Example Usage:\n",
    "        Creating an instance of GermanShepherd and calling its make_sound method prints \"Bark!\", which demonstrates how the GermanShepherd class provides its own specific implementation of the method.\n",
    "\n",
    "This example shows how method overriding works in inheritance hierarchies, with each derived class being able to modify or extend the behavior of its ancestors.\n"
   ]
  },
  {
   "cell_type": "raw",
   "id": "786beb12-7b68-4e01-b080-194081a40fbe",
   "metadata": {},
   "source": [
    "36. Define constructors in both the Animal and Dog classes with different initialization parameters"
   ]
  },
  {
   "cell_type": "raw",
   "id": "e2bf801e-e53a-4322-8998-d9442dce9990",
   "metadata": {},
   "source": [
    "To define constructors (__init__ methods) in both the Animal and Dog classes with different initialization parameters, you can specify how each class initializes its attributes. Here’s how you can do it:\n",
    "\n",
    "    Animal Class: Define a constructor with parameters to initialize attributes related to the animal.\n",
    "    Dog Class: Define a constructor that also calls the base class constructor and initializes additional attributes specific to dogs.\n",
    "\n",
    "Here’s the implementation:"
   ]
  },
  {
   "cell_type": "code",
   "execution_count": 62,
   "id": "a69751ea-aca9-4e65-9875-b5395ef66d0e",
   "metadata": {},
   "outputs": [
    {
     "name": "stdout",
     "output_type": "stream",
     "text": [
      "Animal: Lion, Age: 5\n",
      "Generic animal sound\n",
      "Dog: Rex, Age: 3, Breed: German Shepherd\n",
      "Woof!\n"
     ]
    }
   ],
   "source": [
    "# Define the parent class Animal with a constructor\n",
    "class Animal:\n",
    "    def __init__(self, name, age):\n",
    "        self.name = name\n",
    "        self.age = age\n",
    "\n",
    "    def make_sound(self):\n",
    "        print(\"Generic animal sound\")\n",
    "\n",
    "# Define the child class Dog that inherits from Animal and has its own constructor\n",
    "class Dog(Animal):\n",
    "    def __init__(self, name, age, breed):\n",
    "        super().__init__(name, age)  # Call the constructor of the base class\n",
    "        self.breed = breed\n",
    "\n",
    "    def make_sound(self):\n",
    "        print(\"Woof!\")\n",
    "\n",
    "# Example usage\n",
    "animal = Animal(name=\"Lion\", age=5)\n",
    "dog = Dog(name=\"Rex\", age=3, breed=\"German Shepherd\")\n",
    "\n",
    "# Access attributes and methods\n",
    "print(f\"Animal: {animal.name}, Age: {animal.age}\")  # Output: Animal: Lion, Age: 5\n",
    "animal.make_sound()  # Output: Generic animal sound\n",
    "\n",
    "print(f\"Dog: {dog.name}, Age: {dog.age}, Breed: {dog.breed}\")  # Output: Dog: Rex, Age: 3, Breed: German Shepherd\n",
    "dog.make_sound()  # Output: Woof!\n"
   ]
  },
  {
   "cell_type": "markdown",
   "id": "2e06f94f-6572-4e96-8816-f33e1b1a0373",
   "metadata": {},
   "source": [
    "Explanation:\n",
    "\n",
    "    Parent Class Animal:\n",
    "        The constructor __init__ initializes name and age attributes.\n",
    "        make_sound method prints \"Generic animal sound\".\n",
    "\n",
    "    Child Class Dog:\n",
    "        The constructor __init__ takes name, age, and breed as parameters.\n",
    "        It calls super().__init__(name, age) to initialize the name and age attributes using the Animal class constructor.\n",
    "        It then initializes the breed attribute.\n",
    "        make_sound method overrides the one from Animal to print \"Woof!\".\n",
    "\n",
    "    Example Usage:\n",
    "        Creating an instance of Animal with name and age.\n",
    "        Creating an instance of Dog with name, age, and breed, demonstrating how the Dog class initializes additional attributes and uses the base class constructor.\n",
    "\n",
    "This setup allows you to initialize both base class and derived class attributes effectively and demonstrates how to use constructors in an inheritance hierarchy.\n"
   ]
  },
  {
   "cell_type": "raw",
   "id": "1b980cdb-dad5-40d4-8791-078d75c29cfc",
   "metadata": {},
   "source": [
    "37.What is abstraction in Python? How is it implemented?"
   ]
  },
  {
   "cell_type": "markdown",
   "id": "e8dbc721-a36c-4cd3-90a2-547ae1d4841f",
   "metadata": {},
   "source": [
    "Abstraction in Python is a fundamental concept in Object-Oriented Programming (OOP) that involves hiding complex implementation details and exposing only the essential features of an object. This allows users to interact with objects at a higher level without needing to understand the underlying complexities.\n",
    "Key Concepts of Abstraction:\n",
    "\n",
    "    Abstraction:\n",
    "        Definition: Abstraction focuses on the \"what\" an object does rather than the \"how\" it does it. It hides the internal workings of an object and only exposes the necessary components to the user.\n",
    "        Purpose: It simplifies interaction with objects and allows for more manageable and understandable code by separating the interface from the implementation.\n",
    "\n",
    "    Implementation in Python:\n",
    "        Abstract Base Classes (ABCs): Python provides a module called abc (Abstract Base Classes) to define abstract classes. An abstract class can have one or more abstract methods that must be implemented by any concrete (non-abstract) subclass.\n",
    "        Abstract Methods: These are methods that are declared in the abstract base class but contain no implementation. Derived classes must provide an implementation for these methods.\n",
    "\n",
    "How Abstraction is Implemented in Python:\n",
    "\n",
    "    Using the abc Module:\n",
    "        Import the ABC class and the abstractmethod decorator from the abc module.\n",
    "        Define abstract methods using the @abstractmethod decorator.\n",
    "        Any class that inherits from an abstract base class must implement all abstract methods to be instantiated.\n",
    "\n",
    "Example Code:\n",
    "\n",
    "Here’s an example demonstrating abstraction using abstract base classes:"
   ]
  },
  {
   "cell_type": "code",
   "execution_count": 63,
   "id": "a7d16313-c3d7-400e-b493-d81e4aaa4b89",
   "metadata": {},
   "outputs": [
    {
     "name": "stdout",
     "output_type": "stream",
     "text": [
      "Rectangle area: 50\n",
      "Rectangle perimeter: 30\n",
      "Circle area: 153.93804002589985\n",
      "Circle perimeter: 43.982297150257104\n"
     ]
    }
   ],
   "source": [
    "from abc import ABC, abstractmethod\n",
    "\n",
    "# Define an abstract base class\n",
    "class Shape(ABC):\n",
    "    \n",
    "    @abstractmethod\n",
    "    def area(self):\n",
    "        \"\"\"Method to compute the area of the shape.\"\"\"\n",
    "        pass\n",
    "    \n",
    "    @abstractmethod\n",
    "    def perimeter(self):\n",
    "        \"\"\"Method to compute the perimeter of the shape.\"\"\"\n",
    "        pass\n",
    "\n",
    "# Define a concrete class inheriting from Shape\n",
    "class Rectangle(Shape):\n",
    "    \n",
    "    def __init__(self, width, height):\n",
    "        self.width = width\n",
    "        self.height = height\n",
    "    \n",
    "    def area(self):\n",
    "        return self.width * self.height\n",
    "    \n",
    "    def perimeter(self):\n",
    "        return 2 * (self.width + self.height)\n",
    "\n",
    "# Define another concrete class inheriting from Shape\n",
    "class Circle(Shape):\n",
    "    \n",
    "    def __init__(self, radius):\n",
    "        self.radius = radius\n",
    "    \n",
    "    def area(self):\n",
    "        import math\n",
    "        return math.pi * (self.radius ** 2)\n",
    "    \n",
    "    def perimeter(self):\n",
    "        import math\n",
    "        return 2 * math.pi * self.radius\n",
    "\n",
    "# Example usage\n",
    "rectangle = Rectangle(width=5, height=10)\n",
    "circle = Circle(radius=7)\n",
    "\n",
    "print(f\"Rectangle area: {rectangle.area()}\")       # Output: Rectangle area: 50\n",
    "print(f\"Rectangle perimeter: {rectangle.perimeter()}\")  # Output: Rectangle perimeter: 30\n",
    "\n",
    "print(f\"Circle area: {circle.area()}\")           # Output: Circle area: 153.93804002589985\n",
    "print(f\"Circle perimeter: {circle.perimeter()}\")  # Output: Circle perimeter: 43.982297150257104\n"
   ]
  },
  {
   "cell_type": "markdown",
   "id": "bf964d26-fee1-4323-a2f2-d96cf9707a66",
   "metadata": {},
   "source": [
    "Explanation:\n",
    "\n",
    "    Abstract Base Class Shape:\n",
    "        Defined with the ABC class.\n",
    "        Contains two abstract methods: area and perimeter, which must be implemented by any subclass.\n",
    "\n",
    "    Concrete Class Rectangle:\n",
    "        Inherits from Shape.\n",
    "        Implements the area and perimeter methods.\n",
    "\n",
    "    Concrete Class Circle:\n",
    "        Inherits from Shape.\n",
    "        Implements the area and perimeter methods.\n",
    "\n",
    "    Example Usage:\n",
    "        Instances of Rectangle and Circle are created and their methods are called to compute area and perimeter.\n",
    "\n",
    "Benefits of Abstraction:\n",
    "\n",
    "    Simplifies Interaction: Users interact with objects through a simplified interface.\n",
    "    Enhances Maintainability: Changes to implementation details do not affect code that relies on the abstract interface.\n",
    "    Encourages Modularity: Separates concerns by defining a clear contract for what methods must be provided.\n",
    "\n",
    "Abstraction in Python helps in designing clean and manageable code by focusing on what an object represents and how it interacts with other objects, rather than the internal details of how it accomplishes its tasks.\n"
   ]
  },
  {
   "cell_type": "raw",
   "id": "c7c736d8-7f7c-427f-a653-46f60239107d",
   "metadata": {},
   "source": [
    "38. explain the importance of abstraction in object-oriented programming?"
   ]
  },
  {
   "cell_type": "markdown",
   "id": "0aef9d20-9d0f-43e1-a07c-ec69e532f5c4",
   "metadata": {},
   "source": [
    "Abstraction is a fundamental concept in Object-Oriented Programming (OOP) and plays a crucial role in designing and managing complex software systems. It involves hiding the implementation details of an object and exposing only the essential features necessary for interaction. Here’s why abstraction is important in OOP:\n",
    "1. Simplifies Complex Systems\n",
    "\n",
    "    Definition: By providing a simplified interface, abstraction allows users to interact with objects without needing to understand their complex internal workings.\n",
    "    Example: When using a database API, you don’t need to know how SQL queries are executed internally; you only need to understand how to use the provided methods to retrieve or store data.\n",
    "\n",
    "2. Enhances Code Maintainability\n",
    "\n",
    "    Definition: Abstraction helps in managing changes more effectively. If the internal implementation of an object changes, you only need to update the implementation without affecting the code that uses the object.\n",
    "    Example: If you update the way a class processes data, other parts of the code that use the class through its abstract interface don’t need to be modified.\n",
    "\n",
    "3. Promotes Modularity\n",
    "\n",
    "    Definition: Abstraction encourages breaking down a system into smaller, manageable pieces or modules. Each module can be developed and tested independently.\n",
    "    Example: In a software system, different modules (e.g., user interface, business logic, data access) can interact through abstract interfaces, allowing for easier development and testing.\n",
    "\n",
    "4. Facilitates Code Reusability\n",
    "\n",
    "    Definition: By defining abstract interfaces, you can create reusable components that can be easily extended or replaced with different implementations.\n",
    "    Example: You can have an abstract class for payment processing and provide different implementations for credit card payments, PayPal, etc. This allows you to reuse the payment processing interface across different parts of the application.\n",
    "\n",
    "5. Encourages Design Flexibility\n",
    "\n",
    "    Definition: Abstraction allows for flexibility in design by enabling you to define abstract classes and interfaces that can be implemented by various concrete classes.\n",
    "    Example: In a graphics application, you might define an abstract class Shape with methods like draw and resize. Concrete classes like Circle and Rectangle can then provide specific implementations for these methods.\n",
    "\n",
    "6. Improves Focus on What is Important\n",
    "\n",
    "    Definition: Abstraction allows developers to focus on the essential features of an object rather than getting bogged down by implementation details.\n",
    "    Example: When designing a user interface, you focus on how the interface should look and behave, rather than how the underlying data is processed or stored.\n",
    "\n",
    "7. Supports Encapsulation\n",
    "\n",
    "    Definition: Abstraction works hand-in-hand with encapsulation by hiding the internal details of an object and exposing only what is necessary. This improves security and reduces the risk of unintended interactions with an object's internal state.\n",
    "    Example: In a class representing a bank account, abstraction can hide the internal details of how transactions are processed, exposing only methods like deposit and withdraw.\n",
    "\n",
    "Summary:\n",
    "\n",
    "Abstraction in OOP is crucial for managing complexity, enhancing code maintainability, promoting modularity, facilitating code reusability, and improving focus. By defining clear and simplified interfaces while hiding complex implementation details, abstraction helps in building robust, flexible, and maintainable software systems.\n",
    "Chat"
   ]
  },
  {
   "cell_type": "raw",
   "id": "8f6306c0-0d36-469f-8394-b49670b2dfd7",
   "metadata": {},
   "source": [
    "39. How are abstract methods different from regular methods in Python?"
   ]
  },
  {
   "cell_type": "markdown",
   "id": "8a02d6e0-ecf2-43dd-b40a-09fa7bd333c6",
   "metadata": {},
   "source": [
    "Abstract methods and regular methods in Python serve different purposes within object-oriented programming, especially when dealing with abstract base classes. Here’s a comparison of the two:\n",
    "1. Definition and Purpose\n",
    "\n",
    "    Abstract Methods:\n",
    "        Definition: An abstract method is a method that is declared in an abstract base class but does not provide an implementation. It is meant to be overridden in subclasses.\n",
    "        Purpose: To define a contract or a set of methods that subclasses must implement. It specifies what methods should be available, but not how they should work.\n",
    "\n",
    "    Regular Methods:\n",
    "        Definition: A regular method is a method defined in a class that provides a specific implementation. It can be used directly by instances of the class or its subclasses.\n",
    "        Purpose: To provide functionality and behavior that is consistent across instances of the class or to be inherited and used by subclasses.\n",
    "\n",
    "2. Implementation\n",
    "\n",
    "    Abstract Methods:\n",
    "        Implementation: Abstract methods are defined using the @abstractmethod decorator from the abc module. They do not include method bodies (i.e., they have no implementation in the abstract class).\n",
    "        Example:\n",
    "\n",
    "        python"
   ]
  },
  {
   "cell_type": "code",
   "execution_count": 64,
   "id": "11dd4720-f3f0-43a5-94f2-924d7766787c",
   "metadata": {},
   "outputs": [],
   "source": [
    "from abc import ABC, abstractmethod\n",
    "\n",
    "class AbstractClass(ABC):\n",
    "    @abstractmethod\n",
    "    def abstract_method(self):\n",
    "        pass\n"
   ]
  },
  {
   "cell_type": "markdown",
   "id": "fe658da8-a656-4726-b4d8-3ceec74a8cbe",
   "metadata": {},
   "source": [
    "Regular Methods:\n",
    "\n",
    "    Implementation: Regular methods are defined in a class with a full method body. They can be used directly by instances of the class or overridden by subclasses.\n",
    "    Example:"
   ]
  },
  {
   "cell_type": "code",
   "execution_count": 67,
   "id": "afe2b8fb-a094-4f69-a58c-deb7392ab1a4",
   "metadata": {},
   "outputs": [],
   "source": [
    "class ConcreteClass:\n",
    "    def regular_method(self):\n",
    "        print(\"This is a regular method.\")\n"
   ]
  },
  {
   "cell_type": "markdown",
   "id": "b2aa3aac-6498-49f5-bb2a-aac1f789d7b9",
   "metadata": {},
   "source": [
    " Usage in Inheritance\n",
    "\n",
    "    Abstract Methods:\n",
    "        Usage: Subclasses of an abstract base class must override all abstract methods to be instantiated. If a subclass does not provide implementations for these methods, it remains abstract and cannot be instantiated.\n",
    "        Example:"
   ]
  },
  {
   "cell_type": "markdown",
   "id": "a748cf17-2c3f-4a04-b639-3bf71b42bad7",
   "metadata": {},
   "source": [
    "class ConcreteSubclass(AbstractClass):\n",
    "    def abstract_method(self):\n",
    "        print(\"Concrete implementation of the abstract method.\")\n",
    "\n",
    "obj = ConcreteSubclass()\n",
    "obj.abstract_method()  # Output: Concrete implementation of the abstract method.\n"
   ]
  },
  {
   "cell_type": "markdown",
   "id": "cf615997-20bf-438b-b109-ca4596c5c341",
   "metadata": {},
   "source": [
    "Regular Methods:\n",
    "\n",
    "    Usage: Subclasses can use or override regular methods. If a subclass does not override a regular method, it inherits the method from the parent class.\n",
    "    Example:"
   ]
  },
  {
   "cell_type": "code",
   "execution_count": 70,
   "id": "3846c29a-195d-44af-b9db-86f1c1baccb3",
   "metadata": {},
   "outputs": [
    {
     "name": "stdout",
     "output_type": "stream",
     "text": [
      "Overridden regular method.\n"
     ]
    }
   ],
   "source": [
    "class ConcreteSubclass(ConcreteClass):\n",
    "    def regular_method(self):\n",
    "        print(\"Overridden regular method.\")\n",
    "\n",
    "obj = ConcreteSubclass()\n",
    "obj.regular_method()  # Output: Overridden regular method.\n"
   ]
  },
  {
   "cell_type": "markdown",
   "id": "7c12c929-a245-428c-aecc-979d6592b030",
   "metadata": {},
   "source": [
    "Instantiation\n",
    "\n",
    "    Abstract Methods:\n",
    "        Instantiation: You cannot instantiate an abstract class directly because it contains abstract methods that have no implementation. Only concrete subclasses that provide implementations for abstract methods can be instantiated.\n",
    "        Example:"
   ]
  },
  {
   "cell_type": "code",
   "execution_count": 72,
   "id": "f2492ec3-a2a9-4939-b86a-0df922610291",
   "metadata": {},
   "outputs": [],
   "source": [
    "# The following will raise an error\n",
    "# obj = AbstractClass()  # TypeError: Can't instantiate abstract class AbstractClass with abstract methods abstract_method\n"
   ]
  },
  {
   "cell_type": "markdown",
   "id": "3f3dfabe-d947-4c6b-a3e5-8344882b6fff",
   "metadata": {},
   "source": [
    "Summary\n",
    "\n",
    "    Abstract Methods:\n",
    "        Do not provide implementation in the abstract class.\n",
    "        Must be overridden in concrete subclasses.\n",
    "        Define a contract for subclasses.\n",
    "\n",
    "    Regular Methods:\n",
    "        Provide implementation in the class.\n",
    "        Can be used as-is or overridden by subclasses.\n",
    "        Define functionality and behavior.\n",
    "\n",
    "By using abstract methods, you can create a clear and enforced contract for what methods subclasses should implement, ensuring a consistent interface across different classes. Regular methods, on the other hand, provide specific functionality that can be directly utilized or customized in subclasses.\n"
   ]
  },
  {
   "cell_type": "raw",
   "id": "cefffe8a-a70b-48c0-926d-5073af90aed2",
   "metadata": {},
   "source": [
    "40.How can you achieve abstraction using interfaces in Python?\n"
   ]
  },
  {
   "cell_type": "markdown",
   "id": "dcefe804-4bdf-4b0b-8311-87027c4d7afc",
   "metadata": {},
   "source": [
    "In Python, abstraction using interfaces is achieved through abstract base classes (ABCs). An interface, in this context, is a way to define a contract that specifies what methods a class must implement, without providing the implementation details. While Python does not have a distinct \"interface\" keyword like some other languages (e.g., Java), abstract base classes serve this purpose effectively.\n",
    "\n",
    "Here’s how you can achieve abstraction using abstract base classes in Python:\n",
    "1. Using the abc Module\n",
    "\n",
    "Python’s abc module provides tools for defining abstract base classes. Abstract base classes can contain abstract methods that must be implemented by any concrete (non-abstract) subclasses.\n",
    "Steps to Define and Use Abstract Base Classes:\n",
    "\n",
    "    Import the ABC class and the abstractmethod decorator from the abc module.\n",
    "    Define an abstract base class by inheriting from ABC.\n",
    "    Use the @abstractmethod decorator to declare methods that must be implemented by subclasses.\n",
    "    Create concrete subclasses that inherit from the abstract base class and provide implementations for all abstract methods.\n",
    "\n",
    "Example:\n",
    "\n",
    "Here’s a complete example demonstrating how to use abstract base classes to achieve abstraction:"
   ]
  },
  {
   "cell_type": "code",
   "execution_count": 74,
   "id": "3bf56f91-6402-45f1-a67e-870c5e8e1e48",
   "metadata": {},
   "outputs": [
    {
     "name": "stdout",
     "output_type": "stream",
     "text": [
      "Area: 50\n",
      "Perimeter: 30\n",
      "Area: 153.93804002589985\n",
      "Perimeter: 43.982297150257104\n"
     ]
    }
   ],
   "source": [
    "from abc import ABC, abstractmethod\n",
    "\n",
    "# Define an abstract base class (interface)\n",
    "class Shape(ABC):\n",
    "    \n",
    "    @abstractmethod\n",
    "    def area(self):\n",
    "        \"\"\"Method to compute the area of the shape.\"\"\"\n",
    "        pass\n",
    "    \n",
    "    @abstractmethod\n",
    "    def perimeter(self):\n",
    "        \"\"\"Method to compute the perimeter of the shape.\"\"\"\n",
    "        pass\n",
    "\n",
    "# Define a concrete class inheriting from Shape\n",
    "class Rectangle(Shape):\n",
    "    \n",
    "    def __init__(self, width, height):\n",
    "        self.width = width\n",
    "        self.height = height\n",
    "    \n",
    "    def area(self):\n",
    "        return self.width * self.height\n",
    "    \n",
    "    def perimeter(self):\n",
    "        return 2 * (self.width + self.height)\n",
    "\n",
    "# Define another concrete class inheriting from Shape\n",
    "class Circle(Shape):\n",
    "    \n",
    "    def __init__(self, radius):\n",
    "        self.radius = radius\n",
    "    \n",
    "    def area(self):\n",
    "        import math\n",
    "        return math.pi * (self.radius ** 2)\n",
    "    \n",
    "    def perimeter(self):\n",
    "        import math\n",
    "        return 2 * math.pi * self.radius\n",
    "\n",
    "# Example usage\n",
    "shapes = [\n",
    "    Rectangle(width=5, height=10),\n",
    "    Circle(radius=7)\n",
    "]\n",
    "\n",
    "for shape in shapes:\n",
    "    print(f\"Area: {shape.area()}\")\n",
    "    print(f\"Perimeter: {shape.perimeter()}\")\n"
   ]
  },
  {
   "cell_type": "markdown",
   "id": "f1767e46-a6bc-4fa8-8077-02fbf178d499",
   "metadata": {},
   "source": [
    "Explanation:\n",
    "\n",
    "    Abstract Base Class Shape:\n",
    "        Inherits from ABC to become an abstract base class.\n",
    "        Defines two abstract methods area and perimeter using the @abstractmethod decorator. These methods do not have implementations and must be overridden by any concrete subclass.\n",
    "\n",
    "    Concrete Class Rectangle:\n",
    "        Inherits from Shape and provides implementations for the area and perimeter methods.\n",
    "        Initializes width and height attributes and calculates area and perimeter based on these attributes.\n",
    "\n",
    "    Concrete Class Circle:\n",
    "        Inherits from Shape and provides implementations for the area and perimeter methods.\n",
    "        Initializes radius and calculates area and perimeter based on this attribute.\n",
    "\n",
    "    Example Usage:\n",
    "        Creates instances of Rectangle and Circle and stores them in a list.\n",
    "        Iterates over the list and calls the area and perimeter methods on each instance.\n",
    "\n",
    "Benefits of Using Abstract Base Classes for Abstraction:\n",
    "\n",
    "    Defines a Contract: Ensures that any subclass provides specific methods, enforcing a consistent interface.\n",
    "    Supports Polymorphism: Allows you to treat objects of different subclasses uniformly through the base class interface.\n",
    "    Facilitates Extensibility: New subclasses can be added that implement the required methods, and the existing code that uses the base class can interact with these new subclasses seamlessly.\n",
    "\n",
    "Using abstract base classes in Python effectively allows you to achieve abstraction by defining a clear and enforceable interface, while letting concrete subclasses provide the specific implementations of the abstract methods.\n"
   ]
  },
  {
   "cell_type": "raw",
   "id": "4ef21e71-ccaf-41cc-9a07-8436480cb790",
   "metadata": {},
   "source": [
    "41. Can you provide an example of how abstraction can be utilized to create a common interface for a group\n",
    "of related classes in Python%"
   ]
  },
  {
   "cell_type": "markdown",
   "id": "65744885-a438-4930-b1cd-39b8ca26c4ff",
   "metadata": {},
   "source": [
    "Certainly! Abstraction can be utilized to create a common interface for a group of related classes by defining an abstract base class that outlines a set of methods that all subclasses must implement. This approach allows you to work with different classes in a uniform way, based on their shared interface, regardless of their specific implementations.\n",
    "Example Scenario\n",
    "\n",
    "Let’s consider a scenario where we have different types of payment methods (e.g., credit card, PayPal, and bank transfer) and we want to create a common interface for processing payments.\n",
    "Steps\n",
    "\n",
    "    Define an Abstract Base Class: Create an abstract base class PaymentMethod with abstract methods that define the common interface for all payment methods.\n",
    "    Implement Concrete Classes: Create concrete classes (e.g., CreditCardPayment, PayPalPayment, and BankTransferPayment) that inherit from the abstract base class and provide specific implementations for the abstract methods.\n",
    "    Use the Common Interface: Demonstrate how you can use the common interface to process payments without worrying about the specific payment method implementations.\n",
    "\n",
    "Code Example"
   ]
  },
  {
   "cell_type": "code",
   "execution_count": 75,
   "id": "895ef315-1d92-478e-83de-d08dbf81be22",
   "metadata": {},
   "outputs": [
    {
     "name": "stdout",
     "output_type": "stream",
     "text": [
      "Authenticating credit card 1234-5678-9012-3456...\n",
      "Processing credit card payment of $100.0...\n",
      "Authenticating PayPal account user@example.com...\n",
      "Processing PayPal payment of $50.0...\n",
      "Authenticating bank account 987654321...\n",
      "Processing bank transfer payment of $200.0...\n"
     ]
    }
   ],
   "source": [
    "from abc import ABC, abstractmethod\n",
    "\n",
    "# Define the abstract base class for payment methods\n",
    "class PaymentMethod(ABC):\n",
    "    \n",
    "    @abstractmethod\n",
    "    def authenticate(self):\n",
    "        \"\"\"Authenticate the payment method.\"\"\"\n",
    "        pass\n",
    "    \n",
    "    @abstractmethod\n",
    "    def process_payment(self, amount):\n",
    "        \"\"\"Process the payment for the given amount.\"\"\"\n",
    "        pass\n",
    "\n",
    "# Define a concrete class for Credit Card payments\n",
    "class CreditCardPayment(PaymentMethod):\n",
    "    \n",
    "    def __init__(self, card_number, card_expiry_date):\n",
    "        self.card_number = card_number\n",
    "        self.card_expiry_date = card_expiry_date\n",
    "    \n",
    "    def authenticate(self):\n",
    "        print(f\"Authenticating credit card {self.card_number}...\")\n",
    "    \n",
    "    def process_payment(self, amount):\n",
    "        print(f\"Processing credit card payment of ${amount}...\")\n",
    "\n",
    "# Define a concrete class for PayPal payments\n",
    "class PayPalPayment(PaymentMethod):\n",
    "    \n",
    "    def __init__(self, email):\n",
    "        self.email = email\n",
    "    \n",
    "    def authenticate(self):\n",
    "        print(f\"Authenticating PayPal account {self.email}...\")\n",
    "    \n",
    "    def process_payment(self, amount):\n",
    "        print(f\"Processing PayPal payment of ${amount}...\")\n",
    "\n",
    "# Define a concrete class for Bank Transfer payments\n",
    "class BankTransferPayment(PaymentMethod):\n",
    "    \n",
    "    def __init__(self, account_number):\n",
    "        self.account_number = account_number\n",
    "    \n",
    "    def authenticate(self):\n",
    "        print(f\"Authenticating bank account {self.account_number}...\")\n",
    "    \n",
    "    def process_payment(self, amount):\n",
    "        print(f\"Processing bank transfer payment of ${amount}...\")\n",
    "\n",
    "# Example usage\n",
    "def process_order(payment_method, amount):\n",
    "    payment_method.authenticate()\n",
    "    payment_method.process_payment(amount)\n",
    "\n",
    "# Create instances of different payment methods\n",
    "credit_card = CreditCardPayment(card_number=\"1234-5678-9012-3456\", card_expiry_date=\"12/24\")\n",
    "paypal = PayPalPayment(email=\"user@example.com\")\n",
    "bank_transfer = BankTransferPayment(account_number=\"987654321\")\n",
    "\n",
    "# Process payments using the common interface\n",
    "process_order(credit_card, 100.0)\n",
    "process_order(paypal, 50.0)\n",
    "process_order(bank_transfer, 200.0)\n"
   ]
  },
  {
   "cell_type": "markdown",
   "id": "5c3cf504-a92f-42a2-8646-7293f13c517b",
   "metadata": {},
   "source": [
    "Explanation\n",
    "\n",
    "    Abstract Base Class PaymentMethod:\n",
    "        Defines abstract methods authenticate and process_payment that must be implemented by all subclasses.\n",
    "        Serves as a common interface for all payment methods.\n",
    "\n",
    "    Concrete Class CreditCardPayment:\n",
    "        Inherits from PaymentMethod and provides specific implementations for authenticate and process_payment.\n",
    "\n",
    "    Concrete Class PayPalPayment:\n",
    "        Inherits from PaymentMethod and provides specific implementations for authenticate and process_payment.\n",
    "\n",
    "    Concrete Class BankTransferPayment:\n",
    "        Inherits from PaymentMethod and provides specific implementations for authenticate and process_payment.\n",
    "\n",
    "    Function process_order:\n",
    "        Takes a PaymentMethod object and an amount, uses the common interface to authenticate and process the payment.\n",
    "        Demonstrates how the common interface allows you to handle different payment methods uniformly.\n",
    "\n",
    "Benefits\n",
    "\n",
    "    Unified Interface: Allows different payment methods to be used interchangeably based on their shared interface.\n",
    "    Flexibility: New payment methods can be added with minimal changes to existing code, as long as they adhere to the common interface.\n",
    "    Simplified Code: Code that processes payments does not need to know the specifics of each payment method, only the common methods defined in the abstract base class.\n",
    "\n",
    "This example demonstrates how abstraction helps in creating a common interface for a group of related classes, making it easier to manage and use these classes in a consistent manner.\n",
    "Ch"
   ]
  },
  {
   "cell_type": "raw",
   "id": "bc9b6ea2-5be3-4630-95bc-8bb42b8bde38",
   "metadata": {},
   "source": [
    "42.How does Python achieve polymorphism through method overriding?"
   ]
  },
  {
   "cell_type": "markdown",
   "id": "f09be407-c196-4bc9-9d48-fd128e182ab6",
   "metadata": {},
   "source": [
    "Polymorphism in Python is a core concept of Object-Oriented Programming (OOP) that allows different classes to be treated as instances of the same class through a common interface. One of the ways Python achieves polymorphism is through method overriding. Here's how it works:\n",
    "Method Overriding\n",
    "\n",
    "Method overriding occurs when a subclass provides a specific implementation of a method that is already defined in its superclass. This allows the subclass to modify or extend the behavior of the method inherited from the superclass.\n",
    "Key Concepts of Method Overriding\n",
    "\n",
    "    Base Class Method: The method defined in the base (or parent) class. This method provides a general or default implementation.\n",
    "\n",
    "    Overriding Method: The method defined in the subclass that has the same name, signature, and parameters as the method in the base class. This method replaces or extends the behavior of the base class method.\n",
    "\n",
    "    Dynamic Method Resolution: Python uses dynamic method resolution to determine which method to call at runtime based on the actual object type, allowing for flexible method calls.\n",
    "\n",
    "Example Code\n",
    "\n",
    "Here’s a simple example demonstrating method overriding and polymorphism:"
   ]
  },
  {
   "cell_type": "code",
   "execution_count": 76,
   "id": "fc708e65-0df1-4041-b9fe-272ee8cbd59b",
   "metadata": {},
   "outputs": [
    {
     "name": "stdout",
     "output_type": "stream",
     "text": [
      "Woof!\n",
      "Meow!\n"
     ]
    }
   ],
   "source": [
    "class Animal:\n",
    "    def make_sound(self):\n",
    "        \"\"\"Method to be overridden by subclasses.\"\"\"\n",
    "        print(\"Some generic animal sound\")\n",
    "\n",
    "class Dog(Animal):\n",
    "    def make_sound(self):\n",
    "        \"\"\"Override the make_sound method of Animal.\"\"\"\n",
    "        print(\"Woof!\")\n",
    "\n",
    "class Cat(Animal):\n",
    "    def make_sound(self):\n",
    "        \"\"\"Override the make_sound method of Animal.\"\"\"\n",
    "        print(\"Meow!\")\n",
    "\n",
    "def print_animal_sound(animal):\n",
    "    \"\"\"Function that demonstrates polymorphism.\"\"\"\n",
    "    animal.make_sound()\n",
    "\n",
    "# Create instances of Dog and Cat\n",
    "dog = Dog()\n",
    "cat = Cat()\n",
    "\n",
    "# Call the same method on different objects\n",
    "print_animal_sound(dog)  # Output: Woof!\n",
    "print_animal_sound(cat)  # Output: Meow!\n"
   ]
  },
  {
   "cell_type": "markdown",
   "id": "05bad29c-192c-4bcf-bed3-753ff6904d0a",
   "metadata": {},
   "source": [
    "Explanation\n",
    "\n",
    "    Base Class Animal:\n",
    "        Defines a method make_sound that provides a generic implementation.\n",
    "\n",
    "    Subclass Dog:\n",
    "        Overrides the make_sound method to provide a specific implementation for dogs.\n",
    "\n",
    "    Subclass Cat:\n",
    "        Overrides the make_sound method to provide a specific implementation for cats.\n",
    "\n",
    "    Function print_animal_sound:\n",
    "        Takes an Animal object and calls its make_sound method.\n",
    "        Demonstrates polymorphism by calling make_sound on objects of different subclasses (Dog and Cat), and the appropriate method implementation is used based on the actual object type.\n",
    "\n",
    "Benefits of Method Overriding and Polymorphism\n",
    "\n",
    "    Flexibility:\n",
    "        Allows for flexible and dynamic method calls based on the object type. You can write code that works with a general class interface while accommodating different specific behaviors.\n",
    "\n",
    "    Code Reusability:\n",
    "        Promotes the reuse of base class code while customizing or extending functionality in subclasses.\n",
    "\n",
    "    Improved Maintainability:\n",
    "        Enhances code maintainability by allowing changes to be made in the base class without affecting the subclasses, as long as the method signatures remain the same.\n",
    "\n",
    "    Encapsulation:\n",
    "        Encapsulates behavior within subclasses, allowing for more controlled and organized code.\n",
    "\n",
    "Summary\n",
    "\n",
    "Python achieves polymorphism through method overriding by allowing subclasses to provide their own implementation of methods defined in the base class. This enables objects of different subclasses to be treated uniformly through a common interface, while still exhibiting specific behaviors tailored to each subclass. Method overriding, along with dynamic method resolution, allows Python to support flexible and extensible object-oriented designs.\n"
   ]
  },
  {
   "cell_type": "raw",
   "id": "b1a97dc0-c0fd-47e7-8cb0-4c9b1affad03",
   "metadata": {},
   "source": [
    "43.Define a base class with a method and a subclass that overrides the method?"
   ]
  },
  {
   "cell_type": "markdown",
   "id": "f5f1d1ba-ca92-4ce9-89e9-b540d158d966",
   "metadata": {},
   "source": [
    "Certainly! Let’s define a base class with a method and create a subclass that overrides this method. In this example, we'll use a Vehicle base class with a method start_engine, and a Car subclass that overrides this method to provide a specific implementation.\n",
    "Code Example"
   ]
  },
  {
   "cell_type": "code",
   "execution_count": 77,
   "id": "87f7df2e-c9a8-4b0e-b808-6260eb38a939",
   "metadata": {},
   "outputs": [
    {
     "name": "stdout",
     "output_type": "stream",
     "text": [
      "Starting the engine...\n",
      "The car engine roars to life!\n"
     ]
    }
   ],
   "source": [
    "# Define the base class\n",
    "class Vehicle:\n",
    "    def start_engine(self):\n",
    "        \"\"\"Method to start the engine in the base class.\"\"\"\n",
    "        print(\"Starting the engine...\")\n",
    "\n",
    "# Define the subclass that overrides the base class method\n",
    "class Car(Vehicle):\n",
    "    def start_engine(self):\n",
    "        \"\"\"Override the start_engine method in the Car subclass.\"\"\"\n",
    "        print(\"The car engine roars to life!\")\n",
    "\n",
    "# Create instances of Vehicle and Car\n",
    "vehicle = Vehicle()\n",
    "car = Car()\n",
    "\n",
    "# Call the start_engine method on both objects\n",
    "vehicle.start_engine()  # Output: Starting the engine...\n",
    "car.start_engine()     # Output: The car engine roars to life!\n"
   ]
  },
  {
   "cell_type": "markdown",
   "id": "5ad85bd6-5ace-46dc-ade4-353269496ba3",
   "metadata": {},
   "source": [
    "Explanation\n",
    "\n",
    "    Base Class Vehicle:\n",
    "        Defines a method start_engine that prints a generic message about starting the engine.\n",
    "\n",
    "    Subclass Car:\n",
    "        Inherits from Vehicle and overrides the start_engine method.\n",
    "        Provides a more specific implementation for starting the engine that is tailored to a car.\n",
    "\n",
    "    Instances and Method Calls:\n",
    "        Creating an instance of Vehicle and calling start_engine on it results in the base class message.\n",
    "        Creating an instance of Car and calling start_engine on it results in the overridden method message.\n",
    "\n",
    "Summary\n",
    "\n",
    "In this example, the Car subclass provides a specialized implementation of the start_engine method that is different from the generic implementation in the Vehicle base class. This demonstrates how method overriding allows subclasses to customize or extend the behavior of methods inherited from a base class.\n"
   ]
  },
  {
   "cell_type": "raw",
   "id": "18170644-7bb0-4b3c-bd79-02cf07639ee1",
   "metadata": {},
   "source": [
    "44. Define a base class and multiple subclasses with overridden methods"
   ]
  },
  {
   "cell_type": "code",
   "execution_count": 78,
   "id": "f6222d6d-a74d-45b6-9a0e-a69c4f662117",
   "metadata": {},
   "outputs": [
    {
     "name": "stdout",
     "output_type": "stream",
     "text": [
      "Area: 50\n",
      "Area: 153.93804002589985\n",
      "Area: 24.0\n"
     ]
    }
   ],
   "source": [
    "import math\n",
    "\n",
    "# Define the base class\n",
    "class Shape:\n",
    "    def area(self):\n",
    "        \"\"\"Method to calculate the area in the base class.\"\"\"\n",
    "        raise NotImplementedError(\"Subclass must implement this method.\")\n",
    "\n",
    "# Define the Rectangle subclass\n",
    "class Rectangle(Shape):\n",
    "    def __init__(self, width, height):\n",
    "        self.width = width\n",
    "        self.height = height\n",
    "    \n",
    "    def area(self):\n",
    "        \"\"\"Override the area method to calculate the area of a rectangle.\"\"\"\n",
    "        return self.width * self.height\n",
    "\n",
    "# Define the Circle subclass\n",
    "class Circle(Shape):\n",
    "    def __init__(self, radius):\n",
    "        self.radius = radius\n",
    "    \n",
    "    def area(self):\n",
    "        \"\"\"Override the area method to calculate the area of a circle.\"\"\"\n",
    "        return math.pi * (self.radius ** 2)\n",
    "\n",
    "# Define the Triangle subclass\n",
    "class Triangle(Shape):\n",
    "    def __init__(self, base, height):\n",
    "        self.base = base\n",
    "        self.height = height\n",
    "    \n",
    "    def area(self):\n",
    "        \"\"\"Override the area method to calculate the area of a triangle.\"\"\"\n",
    "        return 0.5 * self.base * self.height\n",
    "\n",
    "# Example usage\n",
    "shapes = [\n",
    "    Rectangle(width=5, height=10),\n",
    "    Circle(radius=7),\n",
    "    Triangle(base=6, height=8)\n",
    "]\n",
    "\n",
    "for shape in shapes:\n",
    "    print(f\"Area: {shape.area()}\")\n"
   ]
  },
  {
   "cell_type": "markdown",
   "id": "277ce1dc-be13-4201-bc7e-f60369fb0d2a",
   "metadata": {},
   "source": [
    "Explanation\n",
    "\n",
    "    Base Class Shape:\n",
    "        Defines a method area that is intended to be overridden by subclasses.\n",
    "        Uses raise NotImplementedError to indicate that subclasses must provide an implementation for this method.\n",
    "\n",
    "    Subclass Rectangle:\n",
    "        Inherits from Shape.\n",
    "        Initializes width and height attributes.\n",
    "        Overrides the area method to calculate the area of a rectangle using the formula width * height.\n",
    "\n",
    "    Subclass Circle:\n",
    "        Inherits from Shape.\n",
    "        Initializes radius attribute.\n",
    "        Overrides the area method to calculate the area of a circle using the formula π * radius^2 (using the math.pi constant).\n",
    "\n",
    "    Subclass Triangle:\n",
    "        Inherits from Shape.\n",
    "        Initializes base and height attributes.\n",
    "        Overrides the area method to calculate the area of a triangle using the formula 0.5 * base * height.\n",
    "\n",
    "    Example Usage:\n",
    "        Creates instances of Rectangle, Circle, and Triangle.\n",
    "        Stores these instances in a list and iterates over the list to print the area of each shape using the overridden area method.\n",
    "\n",
    "Summary\n",
    "\n",
    "In this example, each subclass (Rectangle, Circle, and Triangle) provides a specific implementation of the area method inherited from the Shape base class. This demonstrates how method overriding allows different subclasses to define their own behavior for a method, while still adhering to a common interface defined by the base class.\n"
   ]
  },
  {
   "cell_type": "raw",
   "id": "b8e3a16d-2dbb-4e34-bf06-0c153eceb154",
   "metadata": {},
   "source": [
    "45. How does polymorphism improve code readability and reusability?"
   ]
  },
  {
   "cell_type": "markdown",
   "id": "b496c1a3-1078-4acc-bc39-5411a3920bb8",
   "metadata": {},
   "source": [
    "Polymorphism significantly enhances code readability and reusability by allowing different classes to be used interchangeably through a common interface, even if their underlying implementations differ. Here’s how polymorphism achieves these improvements:\n",
    "1. Improved Code Readability\n",
    "\n",
    "    Uniform Interface: Polymorphism allows you to use a common interface (e.g., method names and signatures) for different classes. This means you can interact with different objects in a consistent way, which makes the code easier to understand and follow. You don’t need to worry about the specific class type when invoking methods; you just use the common methods defined in the base class or interface.\n",
    "\n",
    "    Simplified Code Structure: By abstracting away the specific implementations and focusing on the common interface, you reduce the complexity in your code. The logic that operates on objects of the base class does not need to handle different types of objects explicitly, making the code cleaner and more straightforward.\n",
    "\n",
    "    Reduced Redundancy: Polymorphism helps avoid repetitive code. Instead of writing separate code for each specific class type, you can write generic code that works with the base class or interface. This reduces redundancy and the potential for errors.\n",
    "\n",
    "2. Enhanced Code Reusability\n",
    "\n",
    "    Flexible Code: Polymorphic code can operate on objects of any class that implements the required interface or inherits from the base class. This flexibility allows you to reuse the same code to handle different types of objects, making it easier to extend and modify your application.\n",
    "\n",
    "    Easier Maintenance: Changes in specific class implementations do not affect the code that relies on the base class or interface. As long as the interface remains consistent, you can modify or extend subclasses without altering the code that uses them. This makes maintaining and updating your code more manageable.\n",
    "\n",
    "    Extendability: You can introduce new subclasses that implement or extend the base class without changing the existing code. For example, if you have a base class for shapes and a method to calculate area, you can add new shape classes (e.g., Pentagon, Hexagon) and the existing code will continue to work with these new types.\n",
    "\n",
    "Example\n",
    "\n",
    "Let’s revisit the previous example of shapes to illustrate these benefits:"
   ]
  },
  {
   "cell_type": "code",
   "execution_count": 79,
   "id": "058c926c-6788-4d22-8134-fdc9230e71af",
   "metadata": {},
   "outputs": [
    {
     "name": "stdout",
     "output_type": "stream",
     "text": [
      "Area: 50\n",
      "Area: 153.93804002589985\n",
      "Area: 24.0\n"
     ]
    }
   ],
   "source": [
    "class Shape:\n",
    "    def area(self):\n",
    "        raise NotImplementedError(\"Subclass must implement this method.\")\n",
    "\n",
    "class Rectangle(Shape):\n",
    "    def __init__(self, width, height):\n",
    "        self.width = width\n",
    "        self.height = height\n",
    "    \n",
    "    def area(self):\n",
    "        return self.width * self.height\n",
    "\n",
    "class Circle(Shape):\n",
    "    def __init__(self, radius):\n",
    "        self.radius = radius\n",
    "    \n",
    "    def area(self):\n",
    "        import math\n",
    "        return math.pi * (self.radius ** 2)\n",
    "\n",
    "class Triangle(Shape):\n",
    "    def __init__(self, base, height):\n",
    "        self.base = base\n",
    "        self.height = height\n",
    "    \n",
    "    def area(self):\n",
    "        return 0.5 * self.base * self.height\n",
    "\n",
    "def print_area(shape):\n",
    "    print(f\"Area: {shape.area()}\")\n",
    "\n",
    "# Example usage\n",
    "shapes = [\n",
    "    Rectangle(width=5, height=10),\n",
    "    Circle(radius=7),\n",
    "    Triangle(base=6, height=8)\n",
    "]\n",
    "\n",
    "for shape in shapes:\n",
    "    print_area(shape)\n"
   ]
  },
  {
   "cell_type": "markdown",
   "id": "63a0ce74-59d7-48f0-9a3e-0103e285e88b",
   "metadata": {},
   "source": [
    "Explanation\n",
    "\n",
    "    Readability: The print_area function works with any Shape instance, regardless of whether it’s a Rectangle, Circle, or Triangle. This consistent interface (method area) makes the function easy to read and understand.\n",
    "\n",
    "    Reusability: The print_area function can be reused with any new shape class that inherits from Shape and implements the area method. You don’t need to modify print_area to accommodate new shapes.\n",
    "\n",
    "    Extendability: If you later introduce a new shape class, such as Hexagon, as long as it follows the Shape interface, it can be used with print_area without any additional changes.\n",
    "\n",
    "Summary\n",
    "\n",
    "Polymorphism improves code readability by standardizing how different classes are interacted with through a common interface, making the code simpler and more understandable. It enhances code reusability by allowing the same code to operate on different class types, and it promotes extendability by enabling new functionalities to be added with minimal changes to existing code.\n"
   ]
  },
  {
   "cell_type": "raw",
   "id": "e2d165ff-0822-4a10-bfb0-9563ac9ce89b",
   "metadata": {},
   "source": [
    "46. Describe how Python supports polymorphism with duck typing"
   ]
  },
  {
   "cell_type": "markdown",
   "id": "20c1787e-dd6e-4441-90d4-79011cb2860a",
   "metadata": {},
   "source": [
    "In Python, polymorphism is often achieved through a concept known as duck typing. Duck typing is a dynamic typing philosophy that emphasizes an object’s behavior over its explicit type. In other words, Python focuses on whether an object can perform a required operation or method, rather than whether it explicitly inherits from a particular class or implements a specific interface.\n",
    "Key Concepts of Duck Typing\n",
    "\n",
    "    Behavior Over Type: Duck typing allows you to write code that depends on whether an object has certain methods or properties, rather than whether it is a specific type or subclass. As long as an object \"quacks like a duck\" (i.e., has the required methods or behavior), it can be used in the context where that behavior is needed.\n",
    "\n",
    "    Dynamic Typing: Python is dynamically typed, meaning that type checking happens at runtime rather than compile time. This flexibility allows objects of different types to be used interchangeably if they adhere to the expected interface.\n",
    "\n",
    "    Focus on Methods and Properties: Instead of checking an object’s type, Python code relies on the presence of certain methods or properties. If an object has the required methods or properties, it can be used regardless of its actual class.\n",
    "\n",
    "Example of Duck Typing\n",
    "\n",
    "Here’s a simple example demonstrating duck typing in Python:"
   ]
  },
  {
   "cell_type": "code",
   "execution_count": 80,
   "id": "e1d2bcb2-5ef6-431b-b0d0-a3d7b43865ae",
   "metadata": {},
   "outputs": [
    {
     "name": "stdout",
     "output_type": "stream",
     "text": [
      "Woof!\n",
      "Meow!\n",
      "Tweet!\n"
     ]
    }
   ],
   "source": [
    "class Dog:\n",
    "    def speak(self):\n",
    "        print(\"Woof!\")\n",
    "\n",
    "class Cat:\n",
    "    def speak(self):\n",
    "        print(\"Meow!\")\n",
    "\n",
    "class Bird:\n",
    "    def speak(self):\n",
    "        print(\"Tweet!\")\n",
    "\n",
    "def make_animal_speak(animal):\n",
    "    \"\"\"Function that relies on duck typing.\"\"\"\n",
    "    animal.speak()\n",
    "\n",
    "# Create instances of different animals\n",
    "dog = Dog()\n",
    "cat = Cat()\n",
    "bird = Bird()\n",
    "\n",
    "# Call the make_animal_speak function with different objects\n",
    "make_animal_speak(dog)  # Output: Woof!\n",
    "make_animal_speak(cat)  # Output: Meow!\n",
    "make_animal_speak(bird) # Output: Tweet!\n"
   ]
  },
  {
   "cell_type": "markdown",
   "id": "249a03bc-1ac0-4d45-bc4b-e5a192816ea5",
   "metadata": {},
   "source": [
    "Explanation\n",
    "\n",
    "    Classes Dog, Cat, and Bird:\n",
    "        Each class has a method speak that prints a specific sound.\n",
    "\n",
    "    Function make_animal_speak:\n",
    "        This function takes an animal object and calls its speak method.\n",
    "        It does not check the type of animal; it only relies on the presence of the speak method.\n",
    "\n",
    "    Objects dog, cat, and bird:\n",
    "        Each object is of a different class but all have a speak method.\n",
    "\n",
    "    Usage:\n",
    "        The make_animal_speak function works with any object that has a speak method, demonstrating duck typing. It doesn’t matter whether the object is a Dog, Cat, or Bird; as long as it has a speak method, it can be used.\n",
    "\n",
    "Benefits of Duck Typing\n",
    "\n",
    "    Flexibility:\n",
    "        Code is more flexible and adaptable because it relies on behavior rather than explicit types. You can use different types of objects interchangeably as long as they support the required interface.\n",
    "\n",
    "    Reduced Boilerplate:\n",
    "        You don’t need to create complex class hierarchies or explicitly define interfaces. This reduces boilerplate code and simplifies class definitions.\n",
    "\n",
    "    Enhanced Reusability:\n",
    "        Functions and methods can operate on a wide range of objects, promoting code reuse and reducing the need for multiple implementations.\n",
    "\n",
    "Summary\n",
    "\n",
    "In Python, duck typing enables polymorphism by focusing on whether an object provides the required methods or properties, rather than its explicit type. This approach allows for greater flexibility and simplicity in your code, as you can work with any object that adheres to the expected behavior, regardless of its specific class.\n"
   ]
  },
  {
   "cell_type": "raw",
   "id": "42ab88c2-3456-4624-bfab-50dcf3c3ebb6",
   "metadata": {},
   "source": [
    "47. How do you achieve encapsulation in Python?"
   ]
  },
  {
   "cell_type": "markdown",
   "id": "c97baf79-3ae9-4c8f-80fc-5ea0f7fc84e4",
   "metadata": {},
   "source": [
    "In Python, encapsulation is a core concept of object-oriented programming that involves bundling data (attributes) and methods (functions) into a single unit, called a class, and restricting access to some of the object's components. Encapsulation helps in hiding the internal state of an object and only exposing a controlled interface to interact with it.\n",
    "How Encapsulation is Achieved in Python\n",
    "\n",
    "    Public Attributes and Methods:\n",
    "        By default, all attributes and methods in a Python class are public. This means they can be accessed and modified directly from outside the class.\n",
    "        Example:"
   ]
  },
  {
   "cell_type": "code",
   "execution_count": 81,
   "id": "96052201-bd00-4076-bdd0-a751840696f8",
   "metadata": {},
   "outputs": [
    {
     "name": "stdout",
     "output_type": "stream",
     "text": [
      "Alice\n",
      "Hello, my name is Alice.\n"
     ]
    }
   ],
   "source": [
    "class Person:\n",
    "    def __init__(self, name):\n",
    "        self.name = name\n",
    "    \n",
    "    def greet(self):\n",
    "        print(f\"Hello, my name is {self.name}.\")\n",
    "\n",
    "person = Person(\"Alice\")\n",
    "print(person.name)  # Accessing public attribute\n",
    "person.greet()      # Calling public method\n"
   ]
  },
  {
   "cell_type": "markdown",
   "id": "3f814415-61c6-4273-811d-cef349683a6c",
   "metadata": {},
   "source": [
    "Protected Attributes and Methods:\n",
    "\n",
    "    By convention, attributes or methods with a single leading underscore (_) are considered protected. This means they should not be accessed directly outside the class or its subclasses. However, this is just a convention and does not enforce access control.\n",
    "    Example:"
   ]
  },
  {
   "cell_type": "code",
   "execution_count": 82,
   "id": "2281c81a-86df-4d0e-b7ff-96920b012efd",
   "metadata": {},
   "outputs": [
    {
     "name": "stdout",
     "output_type": "stream",
     "text": [
      "Alice\n",
      "Hello, my name is Alice.\n"
     ]
    }
   ],
   "source": [
    "class Person:\n",
    "    def __init__(self, name):\n",
    "        self._name = name\n",
    "    \n",
    "    def _greet(self):\n",
    "        print(f\"Hello, my name is {self._name}.\")\n",
    "\n",
    "person = Person(\"Alice\")\n",
    "print(person._name)  # Accessing protected attribute (not recommended)\n",
    "person._greet()     # Calling protected method (not recommended)\n"
   ]
  },
  {
   "cell_type": "markdown",
   "id": "8afa6c5e-12bb-4790-9c3b-ae955a4887c3",
   "metadata": {},
   "source": [
    "Private Attributes and Methods:\n",
    "\n",
    "    To achieve true encapsulation, Python uses double leading underscores (__) to indicate private attributes or methods. This triggers name mangling, where the interpreter changes the attribute's name to include the class name, making it harder (but not impossible) to access from outside the class.\n",
    "    Example:"
   ]
  },
  {
   "cell_type": "code",
   "execution_count": null,
   "id": "e213f076-f9d5-4f72-8e24-787d37441bbe",
   "metadata": {},
   "outputs": [
    {
     "name": "stdout",
     "output_type": "stream",
     "text": [
      "Hello, my name is Alice.\n"
     ]
    }
   ],
   "source": [
    "class Person:\n",
    "    def __init__(self, name):\n",
    "        self.__name = name\n",
    "    \n",
    "    def __greet(self):\n",
    "        print(f\"Hello, my name is {self.__name}.\")\n",
    "    \n",
    "    def public_greet(self):\n",
    "        self.__greet()\n",
    "\n",
    "person = Person(\"Alice\")\n",
    "# print(person.__name)  # AttributeError: 'Person' object has no attribute '__name'\n",
    "person.public_greet()  # Works because public_greet calls the private method\n"
   ]
  },
  {
   "cell_type": "markdown",
   "id": "e2fe07a6-2b41-4a77-a7e9-480bcb328315",
   "metadata": {},
   "source": [
    "Benefits of Encapsulation\n",
    "\n",
    "    Data Hiding:\n",
    "        Encapsulation allows you to hide the internal state and implementation details of an object from the outside world. This prevents external code from directly modifying the object's state, thus protecting the integrity of the data.\n",
    "\n",
    "    Controlled Access:\n",
    "        By providing controlled access through public methods, you can enforce rules and constraints on how the data is accessed and modified. This makes it easier to maintain and debug the code.\n",
    "\n",
    "    Increased Modularity:\n",
    "        Encapsulation promotes modular design by bundling data and methods into a cohesive unit. This modularity improves code organization and readability.\n",
    "\n",
    "    Enhanced Maintainability:\n",
    "        Encapsulation allows changes to the internal implementation of a class without affecting the external code that uses the class. This makes the code more maintainable and easier to refactor.\n",
    "\n",
    "    Improved Security:\n",
    "        By restricting access to internal attributes and methods, encapsulation helps in protecting sensitive data and reducing the risk of unintended interactions or modifications.\n",
    "\n",
    "Summary\n",
    "\n",
    "In Python, encapsulation is achieved by defining classes with public, protected, and private attributes and methods. While Python does not enforce access control as strictly as some other languages, the use of naming conventions (such as single and double leading underscores) provides a way to indicate and manage access levels. Encapsulation improves code readability, maintainability, and security by hiding internal details and controlling access to an object's data and behavior.\n"
   ]
  },
  {
   "cell_type": "raw",
   "id": "8107367b-b8b5-44df-a0d7-7a5ceae8458b",
   "metadata": {},
   "source": [
    "48. Can encapsulation be bypassed in Python? If so, how?"
   ]
  },
  {
   "cell_type": "markdown",
   "id": "24904e34-58a7-4412-b40a-f94ac499a51b",
   "metadata": {},
   "source": [
    "Yes, encapsulation can be bypassed in Python, primarily because Python's approach to access control is based on conventions rather than strict enforcement. Here’s how encapsulation can be bypassed and some of the techniques involved:\n",
    "1. Accessing Protected Attributes and Methods\n",
    "\n",
    "    Protected Attributes and Methods:\n",
    "        Attributes or methods with a single leading underscore (e.g., _attribute) are intended to be protected, meaning they should not be accessed directly outside the class or its subclasses. However, this is merely a convention and does not prevent access.\n",
    "        Example:"
   ]
  },
  {
   "cell_type": "code",
   "execution_count": 84,
   "id": "edfd030c-dbb4-4940-b77a-c8589be6441e",
   "metadata": {},
   "outputs": [
    {
     "name": "stdout",
     "output_type": "stream",
     "text": [
      "I am protected\n"
     ]
    }
   ],
   "source": [
    "class Example:\n",
    "    def __init__(self):\n",
    "        self._protected_attr = \"I am protected\"\n",
    "    \n",
    "obj = Example()\n",
    "print(obj._protected_attr)  # Accessing protected attribute (not recommended)\n"
   ]
  },
  {
   "cell_type": "markdown",
   "id": "ed3ed296-ac7a-42a1-b496-f65a407d3b33",
   "metadata": {},
   "source": [
    ". Accessing Private Attributes and Methods\n",
    "\n",
    "    Private Attributes and Methods:\n",
    "        Attributes or methods with a double leading underscore (e.g., __private_attr) are intended to be private. Python uses name mangling to make it harder to access these attributes from outside the class.\n",
    "        Name Mangling:\n",
    "            The attribute name is internally changed to include the class name (e.g., _ClassName__private_attr), but this is still accessible if you know the mangled name.\n",
    "        Example:"
   ]
  },
  {
   "cell_type": "code",
   "execution_count": 85,
   "id": "5c86d95a-92a8-4f9b-bb4f-382555cf1a4f",
   "metadata": {},
   "outputs": [
    {
     "name": "stdout",
     "output_type": "stream",
     "text": [
      "I am private\n",
      "This is a private method\n"
     ]
    }
   ],
   "source": [
    "class Example:\n",
    "    def __init__(self):\n",
    "        self.__private_attr = \"I am private\"\n",
    "    \n",
    "    def __private_method(self):\n",
    "        print(\"This is a private method\")\n",
    "    \n",
    "obj = Example()\n",
    "# Accessing private attribute via name mangling\n",
    "print(obj._Example__private_attr)  # Output: I am private\n",
    "\n",
    "# Accessing private method via name mangling\n",
    "obj._Example__private_method()  # Output: This is a private method\n"
   ]
  },
  {
   "cell_type": "markdown",
   "id": "92f53cf5-1ade-4afb-b8d5-87c14f1400ac",
   "metadata": {},
   "source": [
    " Using Reflection\n",
    "\n",
    "    Reflection:\n",
    "        Python’s getattr and setattr functions, along with other introspection methods, allow you to access and modify attributes and methods dynamically.\n",
    "        Example:"
   ]
  },
  {
   "cell_type": "code",
   "execution_count": 86,
   "id": "55b77dbe-089f-4f70-90eb-faf8e4fa253b",
   "metadata": {},
   "outputs": [
    {
     "name": "stdout",
     "output_type": "stream",
     "text": [
      "I am private\n",
      "Modified value\n"
     ]
    }
   ],
   "source": [
    "class Example:\n",
    "    def __init__(self):\n",
    "        self.__private_attr = \"I am private\"\n",
    "    \n",
    "obj = Example()\n",
    "# Using getattr to access a private attribute\n",
    "private_attr = getattr(obj, '_Example__private_attr')\n",
    "print(private_attr)  # Output: I am private\n",
    "\n",
    "# Using setattr to modify a private attribute\n",
    "setattr(obj, '_Example__private_attr', 'Modified value')\n",
    "print(obj._Example__private_attr)  # Output: Modified value\n"
   ]
  },
  {
   "cell_type": "markdown",
   "id": "c9387ea9-4c49-42ad-82e1-cec4aeaac30e",
   "metadata": {},
   "source": [
    "Summary\n",
    "\n",
    "    Protected Attributes: Access can be easily bypassed as this is just a convention.\n",
    "    Private Attributes: Access can still be achieved through name mangling, making it possible to access and modify private attributes and methods if their mangled names are known.\n",
    "    Reflection: Python’s introspection features (getattr, setattr, etc.) allow for dynamic access and modification of attributes, bypassing encapsulation restrictions.\n",
    "\n",
    "While Python’s app"
   ]
  },
  {
   "cell_type": "raw",
   "id": "77eae518-c313-49bd-9a32-c6130bb14dbc",
   "metadata": {},
   "source": [
    "49.Implement a class BankAccount with a private balance attribute. Include methods to deposit, withdraw,\n",
    "and check the balance"
   ]
  },
  {
   "cell_type": "markdown",
   "id": "3bacab81-924d-461f-bb08-a28e89638bad",
   "metadata": {},
   "source": [
    "Certainly! Here’s a Python class BankAccount that implements encapsulation with a private balance attribute. The class includes methods to deposit funds, withdraw funds, and check the balance.\n",
    "Code Example"
   ]
  },
  {
   "cell_type": "code",
   "execution_count": 87,
   "id": "ca53798d-19ba-42eb-8f60-258a5a0cdc61",
   "metadata": {},
   "outputs": [
    {
     "name": "stdout",
     "output_type": "stream",
     "text": [
      "Current balance: $100.00\n",
      "Deposited: $50.00\n",
      "Current balance: $150.00\n",
      "Withdrew: $30.00\n",
      "Current balance: $120.00\n",
      "Insufficient funds.\n"
     ]
    }
   ],
   "source": [
    "class BankAccount:\n",
    "    def __init__(self, initial_balance=0):\n",
    "        self.__balance = initial_balance  # Private attribute\n",
    "    \n",
    "    def deposit(self, amount):\n",
    "        \"\"\"Method to deposit money into the account.\"\"\"\n",
    "        if amount > 0:\n",
    "            self.__balance += amount\n",
    "            print(f\"Deposited: ${amount:.2f}\")\n",
    "        else:\n",
    "            print(\"Deposit amount must be positive.\")\n",
    "    \n",
    "    def withdraw(self, amount):\n",
    "        \"\"\"Method to withdraw money from the account.\"\"\"\n",
    "        if amount > 0:\n",
    "            if amount <= self.__balance:\n",
    "                self.__balance -= amount\n",
    "                print(f\"Withdrew: ${amount:.2f}\")\n",
    "            else:\n",
    "                print(\"Insufficient funds.\")\n",
    "        else:\n",
    "            print(\"Withdrawal amount must be positive.\")\n",
    "    \n",
    "    def check_balance(self):\n",
    "        \"\"\"Method to check the current balance.\"\"\"\n",
    "        print(f\"Current balance: ${self.__balance:.2f}\")\n",
    "\n",
    "# Example usage\n",
    "account = BankAccount(100)  # Create an account with an initial balance of $100\n",
    "\n",
    "account.check_balance()  # Check the current balance\n",
    "\n",
    "account.deposit(50)       # Deposit $50\n",
    "account.check_balance()  # Check the updated balance\n",
    "\n",
    "account.withdraw(30)      # Withdraw $30\n",
    "account.check_balance()  # Check the updated balance\n",
    "\n",
    "account.withdraw(150)     # Attempt to withdraw more than the balance\n"
   ]
  },
  {
   "cell_type": "markdown",
   "id": "39010dba-a9e1-479c-966e-f70841f9dbf1",
   "metadata": {},
   "source": [
    "Explanation\n",
    "\n",
    "    Private Attribute:\n",
    "        The __balance attribute is private, indicated by the double leading underscores. This helps encapsulate the balance and restrict direct access from outside the class.\n",
    "\n",
    "    Methods:\n",
    "        deposit(amount): Adds the specified amount to the balance if it's positive.\n",
    "        withdraw(amount): Subtracts the specified amount from the balance if there are sufficient funds and the amount is positive.\n",
    "        check_balance(): Displays the current balance.\n",
    "\n",
    "    Example Usage:\n",
    "        An instance of BankAccount is created with an initial balance of $100.\n",
    "        Methods are called to deposit, withdraw, and check the balance, demonstrating how the private balance is managed and manipulated through the provided methods.\n",
    "\n",
    "Summary\n",
    "\n",
    "The BankAccount class encapsulates the balance attribute, providing methods to interact with it while hiding the internal details. This approach ensures that the balance is only modified in controlled ways, maintaining data integrity and following encapsulation principles.\n"
   ]
  },
  {
   "cell_type": "raw",
   "id": "b41586a3-a116-473b-9f24-d14cb53bb1c3",
   "metadata": {},
   "source": [
    "50. Develop a Person class with private attributes name and email, and methods to set and get the email"
   ]
  },
  {
   "cell_type": "code",
   "execution_count": 88,
   "id": "514c1701-31b2-4173-af0e-2a53c92472c9",
   "metadata": {},
   "outputs": [
    {
     "name": "stdout",
     "output_type": "stream",
     "text": [
      "alice@example.com\n",
      "Email updated to: newalice@example.com\n",
      "Invalid email address.\n"
     ]
    }
   ],
   "source": [
    "class Person:\n",
    "    def __init__(self, name, email):\n",
    "        self.__name = name        # Private attribute\n",
    "        self.__email = email      # Private attribute\n",
    "    \n",
    "    def set_email(self, new_email):\n",
    "        \"\"\"Method to set the email address.\"\"\"\n",
    "        if self.__is_valid_email(new_email):\n",
    "            self.__email = new_email\n",
    "            print(f\"Email updated to: {self.__email}\")\n",
    "        else:\n",
    "            print(\"Invalid email address.\")\n",
    "    \n",
    "    def get_email(self):\n",
    "        \"\"\"Method to get the current email address.\"\"\"\n",
    "        return self.__email\n",
    "    \n",
    "    def __is_valid_email(self, email):\n",
    "        \"\"\"Private method to validate the email format (simple check).\"\"\"\n",
    "        return '@' in email and '.' in email\n",
    "\n",
    "# Example usage\n",
    "person = Person(\"Alice\", \"alice@example.com\")\n",
    "\n",
    "# Get the current email\n",
    "print(person.get_email())  # Output: alice@example.com\n",
    "\n",
    "# Set a new valid email\n",
    "person.set_email(\"newalice@example.com\")  # Output: Email updated to: newalice@example.com\n",
    "\n",
    "# Attempt to set an invalid email\n",
    "person.set_email(\"invalid-email\")  # Output: Invalid email address.\n"
   ]
  },
  {
   "cell_type": "markdown",
   "id": "5ad34429-68b4-4458-b0e8-c4950e7428ba",
   "metadata": {},
   "source": [
    "Explanation\n",
    "\n",
    "    Private Attributes:\n",
    "        The __name and __email attributes are private, as indicated by the double leading underscores. This ensures they are not directly accessible from outside the class.\n",
    "\n",
    "    Methods:\n",
    "        set_email(new_email): Allows updating the email address. It first validates the new email using a private method (__is_valid_email) before updating it.\n",
    "        get_email(): Provides controlled access to the current email address.\n",
    "        __is_valid_email(email): A private method to perform a simple validation of the email format (checks for '@' and '.'). This method is used internally to ensure that only valid email addresses are set.\n",
    "\n",
    "    Example Usage:\n",
    "        An instance of Person is created with a name and an initial email address.\n",
    "        The get_email method retrieves the current email address.\n",
    "        The set_email method is used to update the email address, with validation to ensure that only valid emails are accepted.\n",
    "\n",
    "Summary\n",
    "\n",
    "The Person class demonstrates encapsulation by using private attributes for name and email. It provides controlled access to the email attribute through public methods (set_email and get_email), while internal validation is handled by a private method (__is_valid_email). This design maintains data integrity and encapsulates the details of how the email is managed.\n"
   ]
  },
  {
   "cell_type": "raw",
   "id": "e5de3fe0-e996-4585-8b9d-f030d93ecd00",
   "metadata": {},
   "source": [
    "51.Why is encapsulation considered a pillar of object-oriented programming (OOP)?"
   ]
  },
  {
   "cell_type": "markdown",
   "id": "855dba34-bf32-46cd-b0d6-be6316fb7349",
   "metadata": {},
   "source": [
    "Encapsulation is considered a pillar of object-oriented programming (OOP) for several important reasons. It plays a crucial role in managing complexity, maintaining control over data, and promoting a clean and modular design. Here’s why encapsulation is fundamental to OOP:\n",
    "1. Data Hiding and Abstraction\n",
    "\n",
    "    Data Hiding: Encapsulation allows you to hide the internal state and implementation details of an object from the outside world. This means that the internal workings of an object are not exposed, reducing the risk of unintended interactions or modifications.\n",
    "\n",
    "    Abstraction: By exposing only necessary methods and properties while keeping the internal details hidden, encapsulation supports abstraction. This simplifies the interaction with complex systems by focusing on what an object does rather than how it does it.\n",
    "\n",
    "2. Control Over Data\n",
    "\n",
    "    Controlled Access: Encapsulation provides controlled access to an object's data through public methods. This means you can enforce rules and constraints on how the data is accessed and modified. For example, you can validate input before setting an attribute or compute derived values based on internal data.\n",
    "\n",
    "    Consistency: By controlling how data is accessed and modified, encapsulation ensures that the object's state remains consistent and valid. This helps in maintaining the integrity of the data and prevents corruption.\n",
    "\n",
    "3. Modularity and Maintainability\n",
    "\n",
    "    Modularity: Encapsulation promotes modular design by bundling related data and methods into cohesive units (classes). This modularity makes it easier to understand, develop, and manage different parts of a system independently.\n",
    "\n",
    "    Maintainability: Changes to the internal implementation of a class do not affect the external code that interacts with it. Encapsulation allows you to modify or extend the implementation without impacting other parts of the system, leading to easier maintenance and refactoring.\n",
    "\n",
    "4. Encapsulation and Encapsulation-Driven Design\n",
    "\n",
    "    Encapsulation-Driven Design: Encapsulation encourages designing objects that represent real-world entities or concepts. It leads to designing classes with a clear and well-defined interface, making the system more intuitive and easier to work with.\n",
    "\n",
    "    Encapsulation as a Foundation: Many other OOP principles, such as inheritance and polymorphism, rely on encapsulation. Encapsulation provides the foundation for these principles by defining clear boundaries and interfaces for interacting with objects.\n",
    "\n",
    "5. Enhanced Security\n",
    "\n",
    "    Data Protection: Encapsulation helps protect sensitive data by restricting direct access to it. This reduces the risk of unauthorized access or modification, enhancing the overall security of the application.\n",
    "\n",
    "Summary\n",
    "\n",
    "Encapsulation is a pillar of OOP because it provides a way to manage complexity through data hiding and abstraction, ensures controlled access and consistency of data, promotes modular and maintainable code, and enhances security. By encapsulating data and behavior within objects and exposing only what is necessary, encapsulation supports the development of robust and flexibl\n"
   ]
  },
  {
   "cell_type": "raw",
   "id": "2de4ef4d-4dc6-4e5a-ba48-0d585c923a65",
   "metadata": {},
   "source": [
    "52. Create a decorator in Python that adds functionality to a simple function by printing a message before\n",
    "and after the function execution"
   ]
  },
  {
   "cell_type": "code",
   "execution_count": 90,
   "id": "92ef5224-2828-48ce-938b-99f88f9163dc",
   "metadata": {},
   "outputs": [
    {
     "name": "stdout",
     "output_type": "stream",
     "text": [
      "Before the function executes.\n",
      "Hello, Alice!\n",
      "After the function executes.\n"
     ]
    }
   ],
   "source": [
    "def my_decorator(func):\n",
    "    def wrapper(*args, **kwargs):\n",
    "        print(\"Before the function executes.\")\n",
    "        result = func(*args, **kwargs)\n",
    "        print(\"After the function executes.\")\n",
    "        return result\n",
    "    return wrapper\n",
    "\n",
    "@my_decorator\n",
    "def my_function(name):\n",
    "    print(f\"Hello, {name}!\")\n",
    "\n",
    "# Example usage\n",
    "my_function(\"Alice\")\n"
   ]
  },
  {
   "cell_type": "markdown",
   "id": "8e7956ce-6a14-4b86-87c8-bdd832819d73",
   "metadata": {},
   "source": [
    "Explanation\n",
    "\n",
    "    Decorator Definition (my_decorator):\n",
    "        The my_decorator function is defined to take another function func as its argument. This function will be the one to which additional functionality is added.\n",
    "\n",
    "    Wrapper Function (wrapper):\n",
    "        Inside my_decorator, the wrapper function is defined. This function prints a message before and after calling the original function func.\n",
    "        *args and **kwargs are used to pass any positional and keyword arguments from the wrapper function to the original function.\n",
    "\n",
    "    Calling the Original Function:\n",
    "        result = func(*args, **kwargs) calls the original function with the arguments provided.\n",
    "        After the function call, a message is printed to indicate that the function execution is complete.\n",
    "\n",
    "    Returning the Wrapper:\n",
    "        The wrapper function is returned from my_decorator. This replaces the original function with the wrapper, which includes the additional functionality.\n",
    "\n",
    "    Applying the Decorator:\n",
    "        The @my_decorator syntax is used to apply the decorator to my_function. This is syntactic sugar for my_function = my_decorator(my_function).\n",
    "\n",
    "    Example Usage:\n",
    "        When my_function(\"Alice\") is called, the output will show the messages before and after the actual function execution, demonstrating the additional functionality added by the decorator.\n",
    "\n",
    "Output\n",
    "\n",
    "bash\n",
    "\n",
    "Before the function executes.\n",
    "Hello, Alice!\n",
    "After the function executes.\n",
    "\n",
    "Summary\n",
    "\n",
    "This example demonstrates how to create a decorator in Python that enhances a function by printing messages before and after its execution. The decorator pattern is useful for adding cross-cutting concerns, such as logging or performance measurement, to functions in a clean and reusable way.\n",
    "ChatG"
   ]
  },
  {
   "cell_type": "raw",
   "id": "452c23a4-07a5-4b99-a2b3-ce6487362392",
   "metadata": {},
   "source": [
    "53. Modify the decorator to accept arguments and print the function name along with the message"
   ]
  },
  {
   "cell_type": "code",
   "execution_count": 91,
   "id": "cac37d57-7913-489a-becc-749eec2802ba",
   "metadata": {},
   "outputs": [
    {
     "name": "stdout",
     "output_type": "stream",
     "text": [
      "Starting execution - Function: my_function\n",
      "Hello, Alice!\n",
      "Finished execution - Function: my_function\n"
     ]
    }
   ],
   "source": [
    "def my_decorator(before_message, after_message):\n",
    "    def decorator(func):\n",
    "        def wrapper(*args, **kwargs):\n",
    "            print(f\"{before_message} - Function: {func.__name__}\")\n",
    "            result = func(*args, **kwargs)\n",
    "            print(f\"{after_message} - Function: {func.__name__}\")\n",
    "            return result\n",
    "        return wrapper\n",
    "    return decorator\n",
    "\n",
    "@my_decorator(\"Starting execution\", \"Finished execution\")\n",
    "def my_function(name):\n",
    "    print(f\"Hello, {name}!\")\n",
    "\n",
    "# Example usage\n",
    "my_function(\"Alice\")\n"
   ]
  },
  {
   "cell_type": "markdown",
   "id": "89db27c8-dec2-4fa6-9011-98dfd05b203c",
   "metadata": {},
   "source": [
    "Explanation\n",
    "\n",
    "    Decorator with Arguments (my_decorator):\n",
    "        my_decorator takes two arguments: before_message and after_message. These are the custom messages that will be printed before and after the function execution, respectively.\n",
    "\n",
    "    Nested Decorator Function (decorator):\n",
    "        Inside my_decorator, there’s another function decorator that takes the original function func as an argument. This function returns the wrapper function.\n",
    "\n",
    "    Wrapper Function (wrapper):\n",
    "        The wrapper function prints the custom message (before_message) and the name of the function (func.__name__) before calling the original function.\n",
    "        After calling the original function, it prints the custom message (after_message) and the function name.\n",
    "\n",
    "    Returning the Wrapper:\n",
    "        The wrapper function is returned by the decorator, which is itself returned by my_decorator.\n",
    "\n",
    "    Applying the Decorator:\n",
    "        The @my_decorator(\"Starting execution\", \"Finished execution\") syntax applies the decorator with the specified messages to my_function.\n",
    "\n",
    "    Example Usage:\n",
    "        When my_function(\"Alice\") is called, the output will include the custom messages before and after the function execution, along with the function’s name.\n",
    "\n",
    "Output\n",
    "\n",
    "javascript\n",
    "\n",
    "Starting execution - Function: my_function\n",
    "Hello, Alice!\n",
    "Finished execution - Function: my_function\n",
    "\n",
    "Summary\n",
    "\n",
    "This modified decorator demonstrates how to use arguments in decorators to customize messages and include the function name in the output. The decorator setup involves a function that returns another function, allowing you to pass and use additional parameters for enhanced functionality.\n",
    "ChatGPT "
   ]
  },
  {
   "cell_type": "raw",
   "id": "ab8a5bc3-4780-4b82-88d5-8b6690c9f512",
   "metadata": {},
   "source": [
    "54. Create two decorators, and apply them to a single function. Ensure that they execute in the order they are\n",
    "applied"
   ]
  },
  {
   "cell_type": "code",
   "execution_count": 92,
   "id": "73f47a86-ea90-4e39-8eee-1ea7e2b115d7",
   "metadata": {},
   "outputs": [
    {
     "name": "stdout",
     "output_type": "stream",
     "text": [
      "Logging: Calling wrapper with arguments ('Alice',) and keyword arguments {}\n",
      "Logging: wrapper returned HELLO, ALICE\n",
      "HELLO, ALICE\n"
     ]
    }
   ],
   "source": [
    "# Define the first decorator\n",
    "def log_decorator(func):\n",
    "    def wrapper(*args, **kwargs):\n",
    "        print(f\"Logging: Calling {func.__name__} with arguments {args} and keyword arguments {kwargs}\")\n",
    "        result = func(*args, **kwargs)\n",
    "        print(f\"Logging: {func.__name__} returned {result}\")\n",
    "        return result\n",
    "    return wrapper\n",
    "\n",
    "# Define the second decorator\n",
    "def uppercase_decorator(func):\n",
    "    def wrapper(*args, **kwargs):\n",
    "        result = func(*args, **kwargs)\n",
    "        return result.upper()\n",
    "    return wrapper\n",
    "\n",
    "# Apply decorators to a single function\n",
    "@log_decorator\n",
    "@uppercase_decorator\n",
    "def greet(name):\n",
    "    return f\"Hello, {name}\"\n",
    "\n",
    "# Call the decorated function\n",
    "print(greet(\"Alice\"))\n"
   ]
  },
  {
   "cell_type": "markdown",
   "id": "afca17c4-f4b0-4e9e-a615-bad7446781e9",
   "metadata": {},
   "source": [
    "Explanation\n",
    "\n",
    "    uppercase_decorator: This decorator converts the result of the function it decorates to uppercase.\n",
    "    log_decorator: This decorator logs messages before and after the execution of the function.\n",
    "\n",
    "In the greet function, @uppercase_decorator is applied first, so it is the innermost decorator. After that, @log_decorator is applied. This means that uppercase_decorator will process the result of greet first, and then log_decorator will log the details before and after the result of uppercase_decorator.\n",
    "Output\n",
    "\n",
    "When you run the above code, the output will be:\n",
    "\n",
    "vbnet\n",
    "\n",
    "Logging: Calling greet with arguments ('Alice',) and keyword arguments {}\n",
    "Logging: greet returned HELLO, ALICE\n",
    "HELLO, ALICE\n",
    "\n",
    "The function greet first converts its output to uppercase (because of uppercase_decorator), and then log_decorator logs the call details and the result.\n",
    "Is this conversation helpful so far?\n",
    "Cha"
   ]
  },
  {
   "cell_type": "raw",
   "id": "9aedd703-a25e-4abb-b503-034b47843649",
   "metadata": {},
   "source": [
    "55. Modify the decorator to accept and pass function arguments to the wrapped function\n"
   ]
  },
  {
   "cell_type": "code",
   "execution_count": 93,
   "id": "ed8543c1-736a-4281-8558-dc31418312cf",
   "metadata": {},
   "outputs": [
    {
     "name": "stdout",
     "output_type": "stream",
     "text": [
      "Logging: Calling wrapper with arguments ('Alice',) and keyword arguments {}\n",
      "Logging: wrapper returned HELLO, ALICE\n",
      "HELLO, ALICE\n"
     ]
    }
   ],
   "source": [
    "# Define the first decorator that logs function calls\n",
    "def log_decorator(func):\n",
    "    def wrapper(*args, **kwargs):\n",
    "        print(f\"Logging: Calling {func.__name__} with arguments {args} and keyword arguments {kwargs}\")\n",
    "        result = func(*args, **kwargs)\n",
    "        print(f\"Logging: {func.__name__} returned {result}\")\n",
    "        return result\n",
    "    return wrapper\n",
    "\n",
    "# Define the second decorator that converts output to uppercase\n",
    "def uppercase_decorator(func):\n",
    "    def wrapper(*args, **kwargs):\n",
    "        result = func(*args, **kwargs)\n",
    "        return result.upper()\n",
    "    return wrapper\n",
    "\n",
    "# Apply decorators to a single function\n",
    "@log_decorator\n",
    "@uppercase_decorator\n",
    "def greet(name):\n",
    "    return f\"Hello, {name}\"\n",
    "\n",
    "# Call the decorated function\n",
    "print(greet(\"Alice\"))\n"
   ]
  },
  {
   "cell_type": "markdown",
   "id": "8093f6e5-047a-4ccb-a9f8-06fc4c7d3083",
   "metadata": {},
   "source": [
    "Explanation\n",
    "\n",
    "    log_decorator: This decorator logs the function call and its result. It handles *args and **kwargs, so it can pass any arguments received to the function it decorates.\n",
    "\n",
    "    uppercase_decorator: This decorator converts the output of the function to uppercase. It also handles *args and **kwargs to pass any arguments to the decorated function.\n",
    "\n",
    "In this setup, when you call greet(\"Alice\"), the execution flow is as follows:\n",
    "\n",
    "    uppercase_decorator processes the result of greet to convert it to uppercase.\n",
    "    log_decorator logs the function call details and the result after uppercase_decorator has processed it.\n",
    "\n",
    "The output remains the same as before, demonstrating that both decorators are correctly passing function arguments and processing the result in the specified order.\n",
    "Cha"
   ]
  },
  {
   "cell_type": "raw",
   "id": "1ab8ad43-8b2b-43fb-bf4f-514f4c0e06a4",
   "metadata": {},
   "source": [
    "56. reate a decorator that preserves the metadata of the original function"
   ]
  },
  {
   "cell_type": "code",
   "execution_count": 94,
   "id": "484fe3be-f33e-4914-9d3b-ba2975663216",
   "metadata": {},
   "outputs": [
    {
     "ename": "SyntaxError",
     "evalue": "unterminated string literal (detected at line 18) (1899639541.py, line 18)",
     "output_type": "error",
     "traceback": [
      "\u001b[0;36m  Cell \u001b[0;32mIn[94], line 18\u001b[0;36m\u001b[0m\n\u001b[0;31m    print(f\"Function docstring:\u001b[0m\n\u001b[0m          ^\u001b[0m\n\u001b[0;31mSyntaxError\u001b[0m\u001b[0;31m:\u001b[0m unterminated string literal (detected at line 18)\n"
     ]
    }
   ],
   "source": [
    "import functools\n",
    "\n",
    "# Define a decorator that preserves metadata\n",
    "def preserve_metadata_decorator(func):\n",
    "    @functools.wraps(func)\n",
    "    def wrapper(*args, **kwargs):\n",
    "        return func(*args, **kwargs)\n",
    "    return wrapper\n",
    "\n",
    "# Define a function with metadata\n",
    "@preserve_metadata_decorator\n",
    "def example_function(param1, param2):\n",
    "    \"\"\"This is an example function.\"\"\"\n",
    "    return f\"Parameters received: {param1}, {param2}\"\n",
    "\n",
    "# Access the metadata\n",
    "print(f\"Function name: {example_function.__name__}\")\n",
    "print(f\"Function docstring: \n"
   ]
  },
  {
   "cell_type": "markdown",
   "id": "6e4c8a37-bd6e-4b36-9f0e-c4157d2ac8b2",
   "metadata": {},
   "source": [
    "Explanation\n",
    "\n",
    "    preserve_metadata_decorator: This decorator uses functools.wraps to ensure that the metadata (such as the function name and docstring) of the original function func is preserved in the wrapper function.\n",
    "\n",
    "    functools.wraps(func): This is a decorator from the functools module that updates the wrapper function to look like func by copying attributes such as __name__, __doc__, and __module__.\n",
    "\n",
    "Output\n",
    "\n",
    "When you run the code, the output will show that the metadata of example_function is preserved:\n",
    "\n",
    "vbnet\n",
    "\n",
    "Function name: example_function\n",
    "Function docstring: This is an example function.\n",
    "Parameters received: value1, value2\n",
    "\n",
    "This demonstrates that the example_function retains its original name and docstring even after being decorated.\n"
   ]
  },
  {
   "cell_type": "raw",
   "id": "075af531-88d3-4a30-8643-c0aed3096ddf",
   "metadata": {},
   "source": [
    "57 . Create a Python class `Calculator` with a static method `add` that takes in two numbers and returns their\n",
    "sum"
   ]
  },
  {
   "cell_type": "code",
   "execution_count": 95,
   "id": "3fe3166b-1329-4f1d-bfce-33c6dcc24b55",
   "metadata": {},
   "outputs": [
    {
     "name": "stdout",
     "output_type": "stream",
     "text": [
      "8\n"
     ]
    }
   ],
   "source": [
    "class Calculator:\n",
    "    @staticmethod\n",
    "    def add(a, b):\n",
    "        return a + b\n",
    "\n",
    "# Example usage\n",
    "result = Calculator.add(5, 3)\n",
    "print(result)  # Output: 8\n"
   ]
  },
  {
   "cell_type": "markdown",
   "id": "f0ea7e0a-dcda-429f-be1b-eca00b47d9e2",
   "metadata": {},
   "source": [
    "Explanation\n",
    "\n",
    "    @staticmethod: This decorator is used to define a method that does not require access to the instance or class itself. It can be called on the class itself without needing to create an instance.\n",
    "\n",
    "    add(a, b): This static method takes two arguments, a and b, and returns their sum.\n",
    "\n",
    "You can call the add method directly on the Calculator class without needing to instantiate it. The example usage shows how to call the static method and print the result.\n"
   ]
  },
  {
   "cell_type": "raw",
   "id": "bf098e7d-a63c-4d5f-982a-03cbba18ad67",
   "metadata": {},
   "source": [
    "58.Create a Python class `Employee` with a class `method get_employee_count` that returns the total\n",
    "number of employees created"
   ]
  },
  {
   "cell_type": "code",
   "execution_count": 96,
   "id": "62709648-0c91-4cbf-b00e-267d39f97d54",
   "metadata": {},
   "outputs": [
    {
     "name": "stdout",
     "output_type": "stream",
     "text": [
      "2\n"
     ]
    }
   ],
   "source": [
    "class Employee:\n",
    "    # Class attribute to keep track of employee count\n",
    "    _employee_count = 0\n",
    "\n",
    "    def __init__(self, name):\n",
    "        self.name = name\n",
    "        Employee._employee_count += 1\n",
    "\n",
    "    @classmethod\n",
    "    def get_employee_count(cls):\n",
    "        return cls._employee_count\n",
    "\n",
    "# Example usage\n",
    "emp1 = Employee(\"Alice\")\n",
    "emp2 = Employee(\"Bob\")\n",
    "\n",
    "print(Employee.get_employee_count())  # Output: 2\n"
   ]
  },
  {
   "cell_type": "markdown",
   "id": "e7db520d-2089-461c-9fd6-c2b31f660842",
   "metadata": {},
   "source": [
    "Explanation\n",
    "\n",
    "    _employee_count: This class attribute is used to store the number of Employee instances created. It starts at 0 and is incremented each time a new Employee object is instantiated.\n",
    "\n",
    "    __init__(self, name): The constructor method initializes the name attribute for each employee and increments the _employee_count class attribute.\n",
    "\n",
    "    @classmethod: This decorator is used to define a method that operates on the class itself rather than an instance. It receives the class (cls) as its first argument.\n",
    "\n",
    "    get_employee_count(cls): This class method returns the current value of _employee_count, which reflects the total number of Employee instances created.\n",
    "\n",
    "The example usage demonstrates creating two Employee instances and then calling get_employee_count to get the total number of employees.\n"
   ]
  },
  {
   "cell_type": "raw",
   "id": "6011cc7c-2ac5-4c69-835b-c0a126434449",
   "metadata": {},
   "source": [
    "59. Create a Python class `StringFormatter` with a static method `reverse_string` that takes a string as input\n",
    "and returns its reverse"
   ]
  },
  {
   "cell_type": "code",
   "execution_count": 97,
   "id": "26fe2d77-c331-4a6a-8991-9cbe17442712",
   "metadata": {},
   "outputs": [
    {
     "name": "stdout",
     "output_type": "stream",
     "text": [
      "olleh\n"
     ]
    }
   ],
   "source": [
    "class StringFormatter:\n",
    "    @staticmethod\n",
    "    def reverse_string(s):\n",
    "        return s[::-1]\n",
    "\n",
    "# Example usage\n",
    "original_string = \"hello\"\n",
    "reversed_string = StringFormatter.reverse_string(original_string)\n",
    "print(reversed_string)  # Output: \"olleh\"\n"
   ]
  },
  {
   "cell_type": "markdown",
   "id": "2b812389-6e02-4932-b2e3-15fc821e3c8a",
   "metadata": {},
   "source": [
    "Explanation\n",
    "\n",
    "    @staticmethod: This decorator is used to define a method that does not operate on an instance of the class or modify the class state. It only requires the parameters passed to it.\n",
    "\n",
    "    reverse_string(s): This static method takes a single argument s, which is the string to be reversed. The slicing operation s[::-1] reverses the string.\n",
    "\n",
    "The example usage demonstrates calling the reverse_string method on the StringFormatter class and prints the reversed string."
   ]
  },
  {
   "cell_type": "raw",
   "id": "37dffbe0-07f1-4e06-b447-48282a188323",
   "metadata": {},
   "source": [
    "60. reate a Python class `Circle` with a class method `calculate_area` that calculates the area of a circle\n",
    "given its radius"
   ]
  },
  {
   "cell_type": "code",
   "execution_count": 98,
   "id": "b957afff-6f7a-45d9-add6-cd2de22dd5e9",
   "metadata": {},
   "outputs": [
    {
     "name": "stdout",
     "output_type": "stream",
     "text": [
      "The area of the circle with radius 5 is 78.54\n"
     ]
    }
   ],
   "source": [
    "import math\n",
    "\n",
    "class Circle:\n",
    "    @classmethod\n",
    "    def calculate_area(cls, radius):\n",
    "        if radius < 0:\n",
    "            raise ValueError(\"Radius cannot be negative\")\n",
    "        return math.pi * (radius ** 2)\n",
    "\n",
    "# Example usage\n",
    "radius = 5\n",
    "area = Circle.calculate_area(radius)\n",
    "print(f\"The area of the circle with radius {radius} is {area:.2f}\")\n"
   ]
  },
  {
   "cell_type": "markdown",
   "id": "4b0eb9e0-9441-4e7d-849b-75f791091150",
   "metadata": {},
   "source": [
    "Explanation\n",
    "\n",
    "    @classmethod: This decorator is used to define a method that operates on the class itself rather than an instance of the class. It takes the class (cls) as its first argument.\n",
    "\n",
    "    calculate_area(cls, radius): This class method calculates the area of a circle using the formula π * radius^2. The method checks if the radius is negative and raises a ValueError if it is, as a radius cannot be negative.\n",
    "\n",
    "    math.pi: This is used to get the value of π (pi) for accurate calculations.\n",
    "\n",
    "The example usage shows how to call the calculate_area method with a given radius and prints the result.\n"
   ]
  },
  {
   "cell_type": "raw",
   "id": "91e20dc2-e6d3-4fcd-abb9-88bb5f22761f",
   "metadata": {},
   "source": [
    "61.Create a Python class `TemperatureConverter` with a static method `celsius_to_fahrenheit` that converts\n",
    "Celsius to Fahrenheit/"
   ]
  },
  {
   "cell_type": "code",
   "execution_count": 99,
   "id": "21d0511d-d663-46a7-af4f-833769ad0ddf",
   "metadata": {},
   "outputs": [
    {
     "name": "stdout",
     "output_type": "stream",
     "text": [
      "25°C is equal to 77.0°F\n"
     ]
    }
   ],
   "source": [
    "class TemperatureConverter:\n",
    "    @staticmethod\n",
    "    def celsius_to_fahrenheit(celsius):\n",
    "        return (celsius * 9/5) + 32\n",
    "\n",
    "# Example usage\n",
    "celsius_temp = 25\n",
    "fahrenheit_temp = TemperatureConverter.celsius_to_fahrenheit(celsius_temp)\n",
    "print(f\"{celsius_temp}°C is equal to {fahrenheit_temp}°F\")\n"
   ]
  },
  {
   "cell_type": "markdown",
   "id": "d664cb06-78cb-4dc0-8bb6-0d1dff4f5900",
   "metadata": {},
   "source": [
    "Explanation\n",
    "\n",
    "    @staticmethod: This decorator is used to define a method that does not need access to the instance or class itself. It operates only on the parameters provided.\n",
    "\n",
    "    celsius_to_fahrenheit(celsius): This static method converts a temperature from Celsius to Fahrenheit using the formula F = (C * 9/5) + 32, where F is the Fahrenheit temperature and C is the Celsius temperature.\n",
    "\n",
    "The example usage demonstrates calling the celsius_to_fahrenheit method on the TemperatureConverter class to convert a temperature of 25°C to Fahrenheit and prints the result.\n"
   ]
  },
  {
   "cell_type": "raw",
   "id": "b4a97455-4bcf-4189-b04f-46595707f6d7",
   "metadata": {},
   "source": [
    "63. What is the purpose of the __str__() method in Python classes? Provide an example?"
   ]
  },
  {
   "cell_type": "markdown",
   "id": "a60d2c86-0d6c-4f39-a3df-cead40cfbc5f",
   "metadata": {},
   "source": [
    "The __str__() method in Python classes is used to define a human-readable string representation of an object. This method is intended to provide a concise and informative description of the object, which is useful when you print the object or use str() to convert it to a string.\n",
    "Purpose\n",
    "\n",
    "    Human-readable representation: __str__() provides a readable string representation of the object, which is helpful for debugging and logging.\n",
    "    Print output: When you use print() on an object, Python calls the __str__() method to determine what string to display.\n",
    "\n",
    "Example\n",
    "\n",
    "Here’s an example of a class Person that implements the __str__() method:"
   ]
  },
  {
   "cell_type": "code",
   "execution_count": 100,
   "id": "97c7a902-00da-4d6f-8c2a-0e0db43cf31c",
   "metadata": {},
   "outputs": [
    {
     "name": "stdout",
     "output_type": "stream",
     "text": [
      "Person(name=Alice, age=30)\n"
     ]
    }
   ],
   "source": [
    "class Person:\n",
    "    def __init__(self, name, age):\n",
    "        self.name = name\n",
    "        self.age = age\n",
    "\n",
    "    def __str__(self):\n",
    "        return f\"Person(name={self.name}, age={self.age})\"\n",
    "\n",
    "# Example usage\n",
    "person = Person(\"Alice\", 30)\n",
    "print(person)  # Output: Person(name=Alice, age=30)\n"
   ]
  },
  {
   "cell_type": "markdown",
   "id": "0e64b793-dfca-4828-88eb-4f360667057c",
   "metadata": {},
   "source": [
    "Explanation\n",
    "\n",
    "    __init__(self, name, age): The constructor initializes the name and age attributes of the Person class.\n",
    "\n",
    "    __str__(self): This method returns a string that describes the object in a human-readable format. It’s formatted to show the name and age of the person.\n",
    "\n",
    "When you call print(person), Python internally calls the __str__() method of the Person instance to get the string \"Person(name=Alice, age=30)\" and displays it. This makes it easier to understand the object's state when printing or logging.\n"
   ]
  },
  {
   "cell_type": "raw",
   "id": "bd21e922-7240-4eb9-94f1-697af51d8657",
   "metadata": {},
   "source": [
    "63. How does the __len__() method work in Python? Provide an example."
   ]
  },
  {
   "cell_type": "markdown",
   "id": "40af5b7c-3a5f-4b2c-8a07-f3290588e510",
   "metadata": {},
   "source": [
    "The __len__() method in Python is used to define the behavior of the built-in len() function for instances of a class. When you implement the __len__() method in a class, it allows you to specify how the length of an object should be computed.\n",
    "Purpose\n",
    "\n",
    "    Define length: __len__() specifies what \"length\" means for instances of the class. For example, it could be the number of items in a collection, the number of characters in a string, or any other metric of \"length\" appropriate for the object.\n",
    "\n",
    "Example\n",
    "\n",
    "Here's an example of a class Box that uses the __len__() method to return the number of items in the box:\n",
    "\n",
    "python\n",
    "\n",
    "class Box:\n",
    "    def __init__(self, items):\n",
    "        self.items = items\n",
    "\n",
    "    def __len__(self):\n",
    "        return len(self.items)\n",
    "\n",
    "# Example usage\n",
    "box = Box(['apple', 'banana', 'cherry'])\n",
    "print(len(box))  # Output: 3\n",
    "\n",
    "Explanation\n",
    "\n",
    "    __init__(self, items): The constructor initializes the items attribute with a list of items.\n",
    "\n",
    "    __len__(self): This method returns the length of the items list, which is the number of items in the box. When len(box) is called, Python internally calls the __len__() method on the box object to get the number of items.\n",
    "\n",
    "In this example, len(box) returns 3, reflecting the number of items in the Box instance. Implementing __len__() allows you to use the built-in len() function with your custom objects, making them more versatile and integrated with Python's built-in functions.\n",
    "ChatGPT ca"
   ]
  },
  {
   "cell_type": "raw",
   "id": "366e4e83-7249-477f-b0e8-fccb6a57f2ff",
   "metadata": {},
   "source": [
    "64. Explain the usage of the __add__() method in Python classes. Provide an example."
   ]
  },
  {
   "cell_type": "markdown",
   "id": "66efcdee-7639-4e70-bcb2-100d164b00c5",
   "metadata": {},
   "source": [
    "The __add__() method in Python is a special method that allows you to define the behavior of the + operator for instances of a class. By implementing the __add__() method, you can specify how two instances of your class should be added together.\n",
    "Purpose\n",
    "\n",
    "    Operator Overloading: __add__() enables operator overloading, which means you can define how operators like +, -, *, etc., work with instances of your custom classes.\n",
    "    Custom Addition Behavior: It allows you to define custom logic for adding objects, which can be useful for classes representing numerical values, vectors, matrices, and other data structures where addition makes sense.\n",
    "\n",
    "Example\n",
    "\n",
    "Here's an example of a class Vector that uses the __add__() method to add two vectors:\n",
    "\n",
    "python\n",
    "\n",
    "class Vector:\n",
    "    def __init__(self, x, y):\n",
    "        self.x = x\n",
    "        self.y = y\n",
    "\n",
    "    def __add__(self, other):\n",
    "        if isinstance(other, Vector):\n",
    "            return Vector(self.x + other.x, self.y + other.y)\n",
    "        return NotImplemented\n",
    "\n",
    "    def __repr__(self):\n",
    "        return f\"Vector(x={self.x}, y={self.y})\"\n",
    "\n",
    "# Example usage\n",
    "v1 = Vector(1, 2)\n",
    "v2 = Vector(3, 4)\n",
    "result = v1 + v2\n",
    "print(result)  # Output: Vector(x=4, y=6)\n",
    "\n",
    "Explanation\n",
    "\n",
    "    __init__(self, x, y): The constructor initializes a Vector object with x and y coordinates.\n",
    "\n",
    "    __add__(self, other): This method defines how two Vector objects should be added together. It checks if the other object is also an instance of Vector. If so, it creates and returns a new Vector object whose coordinates are the sum of the corresponding coordinates of the two vectors. If other is not a Vector, it returns NotImplemented.\n",
    "\n",
    "    __repr__(self): This method provides a string representation of the Vector object, which is useful for debugging and printing.\n",
    "\n",
    "In the example, when you use the + operator to add v1 and v2, Python internally calls the __add__() method. The result is a new Vector object with coordinates (4, 6), which is then printed using the __repr__() method.\n",
    "ChatGPT can make"
   ]
  },
  {
   "cell_type": "raw",
   "id": "2646ac34-82f5-4f21-b462-2b9c633d99a4",
   "metadata": {},
   "source": [
    "65. What is the purpose of the __getitem__() method in Python? Provide an example."
   ]
  },
  {
   "cell_type": "markdown",
   "id": "8b002a15-dda4-4b41-a22e-ffa8a04c2df8",
   "metadata": {},
   "source": [
    "he __getitem__() method in Python is used to define how an object should behave when indexing or slicing operations are performed on it. It allows objects to use the square bracket notation ([]) for accessing elements, similar to how you access elements in lists, tuples, or dictionaries.\n",
    "Purpose\n",
    "\n",
    "    Indexing and Slicing: __getitem__() allows you to define how your object responds to indexing and slicing operations. This is useful for creating custom container objects, like custom lists, matrices, or dictionaries.\n",
    "    Custom Behavior: It lets you customize how elements are accessed in your class, including handling special cases or errors if needed.\n",
    "\n",
    "Example\n",
    "\n",
    "Here’s an example of a class CustomList that uses the __getitem__() method to allow indexing:"
   ]
  },
  {
   "cell_type": "code",
   "execution_count": 101,
   "id": "943d4ebd-9c9c-43fc-b24b-4fd034910919",
   "metadata": {},
   "outputs": [
    {
     "name": "stdout",
     "output_type": "stream",
     "text": [
      "30\n",
      "[20, 30, 40]\n",
      "Index out of range\n"
     ]
    }
   ],
   "source": [
    "class CustomList:\n",
    "    def __init__(self, items):\n",
    "        self.items = items\n",
    "\n",
    "    def __getitem__(self, index):\n",
    "        if isinstance(index, slice):\n",
    "            return self.items[index.start:index.stop:index.step]\n",
    "        elif isinstance(index, int):\n",
    "            if index < 0 or index >= len(self.items):\n",
    "                raise IndexError(\"Index out of range\")\n",
    "            return self.items[index]\n",
    "        else:\n",
    "            raise TypeError(\"Index must be an integer or slice\")\n",
    "\n",
    "    def __repr__(self):\n",
    "        return f\"CustomList({self.items})\"\n",
    "\n",
    "# Example usage\n",
    "cl = CustomList([10, 20, 30, 40, 50])\n",
    "\n",
    "# Accessing elements\n",
    "print(cl[2])  # Output: 30\n",
    "\n",
    "# Accessing a slice\n",
    "print(cl[1:4])  # Output: [20, 30, 40]\n",
    "\n",
    "# Accessing out-of-range index\n",
    "try:\n",
    "    print(cl[10])\n",
    "except IndexError as e:\n",
    "    print(e)  # Output: Index out of range\n"
   ]
  },
  {
   "cell_type": "markdown",
   "id": "168723e4-0162-4de1-9d39-e78e4b7693b1",
   "metadata": {},
   "source": [
    "Explanation\n",
    "\n",
    "    __init__(self, items): The constructor initializes the CustomList object with a list of items.\n",
    "\n",
    "    __getitem__(self, index): This method handles indexing and slicing:\n",
    "        If index is a slice, it uses the slice to return a portion of the list.\n",
    "        If index is an integer€\n",
    "        , it €\n",
    "        checks whether the index is within range and returns the corresponding item. If the index is out of range, it raises an IndexError.\n",
    "        If index is neither an integer nor a slice, it raises a TypeError.\n",
    "\n",
    "    __repr__(self): This method provides a string representation of the CustomList object for easy debugging and display.\n",
    "\n",
    "In this example, the CustomList object cl supports both indexing and slicing operations. When you try to access an element or a slice, Python calls the __getitem__() method to retrieve the appropriate values. If an invalid index is provided, appropriate exceptions are raised.\n"
   ]
  },
  {
   "cell_type": "raw",
   "id": "ad2924a6-82cb-4303-8ad4-b7c90f7148e4",
   "metadata": {},
   "source": [
    "66.plain the usage of the __iter__() and __next__() methods in Python. Provide an example using\n",
    "iterators"
   ]
  },
  {
   "cell_type": "markdown",
   "id": "17bddee2-1aaf-4bfa-a2a4-2c9330e9e8f5",
   "metadata": {},
   "source": [
    "In Python, the __iter__() and __next__() methods are used to create and manage iterators. These methods allow objects to be iterable, meaning you can loop over them using a for loop or other iteration constructs. Here’s a breakdown of each method and an example demonstrating their usage.\n",
    "__iter__() Method\n",
    "\n",
    "    Purpose: The __iter__() method is used to return an iterator object from an iterable. An iterable is any object that can return an iterator, and the __iter__() method should return an iterator object.\n",
    "    Definition: This method should return self if the object itself is the iterator, or a new iterator object if it’s different.\n",
    "\n",
    "__next__() Method\n",
    "\n",
    "    Purpose: The __next__() method is used to retrieve the next item from the iterator. When there are no more items to return, it should raise a StopIteration exception to signal the end of iteration.\n",
    "    Definition: This method should return the next item in the sequence and update the iterator’s state.\n",
    "\n",
    "Example\n",
    "\n",
    "Here's an example of a custom iterator class CountingIterator that uses these methods to iterate over a sequence of numbers:"
   ]
  },
  {
   "cell_type": "code",
   "execution_count": 102,
   "id": "5c0df674-2900-4421-b296-47f0662f6afa",
   "metadata": {},
   "outputs": [
    {
     "name": "stdout",
     "output_type": "stream",
     "text": [
      "1\n",
      "2\n",
      "3\n",
      "4\n",
      "5\n"
     ]
    }
   ],
   "source": [
    "class CountingIterator:\n",
    "    def __init__(self, start, end):\n",
    "        self.current = start\n",
    "        self.end = end\n",
    "\n",
    "    def __iter__(self):\n",
    "        # The iterator object itself is returned\n",
    "        return self\n",
    "\n",
    "    def __next__(self):\n",
    "        if self.current > self.end:\n",
    "            raise StopIteration  # No more items to iterate over\n",
    "        else:\n",
    "            self.current += 1\n",
    "            return self.current - 1\n",
    "\n",
    "# Example usage\n",
    "iterator = CountingIterator(1, 5)\n",
    "\n",
    "for number in iterator:\n",
    "    print(number)  # Output: 1 2 3 4 5\n"
   ]
  },
  {
   "cell_type": "markdown",
   "id": "c208f617-fa74-4ef5-8209-75d2880d30ea",
   "metadata": {},
   "source": [
    "Explanation\n",
    "\n",
    "    __init__(self, start, end): The constructor initializes the iterator with a start and end value. It keeps track of the current position with self.current.\n",
    "\n",
    "    __iter__(self): This method returns self because the CountingIterator object itself is the iterator. This is typical for simple iterators.\n",
    "\n",
    "    __next__(self): This method returns the next value in the sequence. If the current value exceeds the end value, it raises a StopIteration exception to signal that the iteration should stop. Otherwise, it increments current and returns the previous value.\n",
    "\n",
    "In the example, the CountingIterator iterates from 1 to 5. The for loop calls __next__() on the iterator to get each subsequent number, printing each number until the end of the sequence is reached.\n"
   ]
  },
  {
   "cell_type": "raw",
   "id": "36884427-2213-4438-8293-fbe162739958",
   "metadata": {},
   "source": [
    "66.What is the purpose of a getter method in Python? Provide an example demonstrating the use of a getter\n",
    "method using property decorators."
   ]
  },
  {
   "cell_type": "markdown",
   "id": "579d1a57-af49-4aee-81db-9ed1c8339e8a",
   "metadata": {},
   "source": [
    "In Python, a getter method is used to retrieve the value of an attribute in an object, often providing a way to access private or protected attributes. Getter methods are particularly useful for encapsulating access to an attribute and can include logic to compute or format the value being retrieved.\n",
    "Purpose\n",
    "\n",
    "    Encapsulation: Getter methods allow you to control access to private or protected attributes, enforcing rules or validations before returning the value.\n",
    "    Read-Only Access: They enable read-only access to attributes, preventing external modification while allowing retrieval of the attribute's value.\n",
    "    Derived Attributes: Getters can be used to compute or derive values based on other attributes, providing a dynamic way to access computed properties.\n",
    "\n",
    "Example with Property Decorators\n",
    "\n",
    "You can use the @property decorator to create getter methods in Python. This decorator allows you to define a method that can be accessed like an attribute. Here’s an example demonstrating the use of a getter method with property decorators:"
   ]
  },
  {
   "cell_type": "code",
   "execution_count": 103,
   "id": "36dd2488-ffaa-415d-9c84-a889d436f3e5",
   "metadata": {},
   "outputs": [
    {
     "name": "stdout",
     "output_type": "stream",
     "text": [
      "Radius: 5\n",
      "Area: 78.54\n",
      "New Radius: 10\n",
      "New Area: 314.16\n",
      "Radius cannot be negative\n"
     ]
    }
   ],
   "source": [
    "class Circle:\n",
    "    def __init__(self, radius):\n",
    "        self._radius = radius\n",
    "\n",
    "    @property\n",
    "    def radius(self):\n",
    "        return self._radius\n",
    "\n",
    "    @radius.setter\n",
    "    def radius(self, value):\n",
    "        if value < 0:\n",
    "            raise ValueError(\"Radius cannot be negative\")\n",
    "        self._radius = value\n",
    "\n",
    "    @property\n",
    "    def area(self):\n",
    "        import math\n",
    "        return math.pi * (self._radius ** 2)\n",
    "\n",
    "# Example usage\n",
    "circle = Circle(5)\n",
    "\n",
    "print(f\"Radius: {circle.radius}\")  # Output: Radius: 5\n",
    "print(f\"Area: {circle.area:.2f}\")  # Output: Area: 78.54\n",
    "\n",
    "# Modify the radius\n",
    "circle.radius = 10\n",
    "print(f\"New Radius: {circle.radius}\")  # Output: New Radius: 10\n",
    "print(f\"New Area: {circle.area:.2f}\")  # Output: New Area: 314.16\n",
    "\n",
    "# Attempt to set a negative radius\n",
    "try:\n",
    "    circle.radius = -1\n",
    "except ValueError as e:\n",
    "    print(e)  # Output: Radius cannot be negative\n"
   ]
  },
  {
   "cell_type": "markdown",
   "id": "937a31c5-223c-4106-b739-9817ceb41215",
   "metadata": {},
   "source": [
    "Explanation\n",
    "\n",
    "    @property decorator: The @property decorator is used to define a getter method. It allows you to access the method as if it were an attribute. In this example, radius and area are defined as properties.\n",
    "\n",
    "    @radius.setter decorator: This decorator allows you to define a setter method for the radius property, enabling modification of the _radius attribute while performing validation.\n",
    "\n",
    "    radius(self): This is the getter method for the _radius attribute, which returns the current value of _radius.\n",
    "\n",
    "    area(self): This is a read-only property that calculates the area of the circle based on the current radius. It does not have a setter, so it is effectively read-only.\n",
    "\n",
    "In this example, the Circle class uses property decorators to manage access to the _radius attribute and compute the area dynamically. This approach provides a clean and Pythonic way to encapsulate attribute access and ensure that any necessary validation or computations are performed.\n"
   ]
  },
  {
   "cell_type": "raw",
   "id": "33bd40a8-100c-4479-aadb-74857662fc03",
   "metadata": {},
   "source": [
    "68.Explain the role of setter methods in Python. Demonstrate how to use a setter method to modify a class\n",
    "attribute using property decorators"
   ]
  },
  {
   "cell_type": "markdown",
   "id": "eb8cdd63-4ab2-4e22-bac4-2088559a4147",
   "metadata": {},
   "source": [
    "Setter methods in Python are used to define how a class attribute should be modified. They allow you to control and validate the process of setting a value for an attribute, ensuring that any necessary checks or transformations are applied before the value is actually stored.\n",
    "Role of Setter Methods\n",
    "\n",
    "    Validation: Setter methods can validate input values before assigning them to an attribute, ensuring that only valid data is stored.\n",
    "    Encapsulation: They help in encapsulating the internal state of an object, allowing you to manage how attributes are modified and accessed.\n",
    "    Side Effects: They can perform additional actions when an attribute is set, such as updating related attributes or triggering other processes.\n",
    "\n",
    "Using Property Decorators for Setter Methods\n",
    "\n",
    "In Python, you can use the @property decorator to define a getter method and the @<property_name>.setter decorator to define a setter method for a property. This approach allows you to control both the retrieval and modification of an attribute while providing a clean interface.\n",
    "Example\n",
    "\n",
    "Here’s an example demonstrating the use of setter methods with property decorators:"
   ]
  },
  {
   "cell_type": "code",
   "execution_count": 104,
   "id": "7eb9178d-f212-49f7-95dc-a7221d1c507f",
   "metadata": {},
   "outputs": [
    {
     "name": "stdout",
     "output_type": "stream",
     "text": [
      "Name: Alice\n",
      "Age: 30\n",
      "New Name: Bob\n",
      "New Age: 35\n",
      "Name cannot be empty\n",
      "Age cannot be negative\n"
     ]
    }
   ],
   "source": [
    "class Person:\n",
    "    def __init__(self, name, age):\n",
    "        self._name = name\n",
    "        self._age = age\n",
    "\n",
    "    @property\n",
    "    def name(self):\n",
    "        return self._name\n",
    "\n",
    "    @name.setter\n",
    "    def name(self, value):\n",
    "        if not value:\n",
    "            raise ValueError(\"Name cannot be empty\")\n",
    "        self._name = value\n",
    "\n",
    "    @property\n",
    "    def age(self):\n",
    "        return self._age\n",
    "\n",
    "    @age.setter\n",
    "    def age(self, value):\n",
    "        if value < 0:\n",
    "            raise ValueError(\"Age cannot be negative\")\n",
    "        self._age = value\n",
    "\n",
    "# Example usage\n",
    "person = Person(\"Alice\", 30)\n",
    "\n",
    "print(f\"Name: {person.name}\")  # Output: Name: Alice\n",
    "print(f\"Age: {person.age}\")    # Output: Age: 30\n",
    "\n",
    "# Modify attributes using setter methods\n",
    "person.name = \"Bob\"\n",
    "print(f\"New Name: {person.name}\")  # Output: New Name: Bob\n",
    "\n",
    "person.age = 35\n",
    "print(f\"New Age: {person.age}\")    # Output: New Age: 35\n",
    "\n",
    "# Attempt to set invalid values\n",
    "try:\n",
    "    person.name = \"\"\n",
    "except ValueError as e:\n",
    "    print(e)  # Output: Name cannot be empty\n",
    "\n",
    "try:\n",
    "    person.age = -5\n",
    "except ValueError as e:\n",
    "    print(e)  # Output: Age cannot be negative\n"
   ]
  },
  {
   "cell_type": "markdown",
   "id": "8b01a4a9-908f-49df-aebe-932cb901cc3e",
   "metadata": {},
   "source": [
    "Explanation\n",
    "\n",
    "    @property decorator: The @property decorator is used to define getter methods. These methods provide access to the private attributes _name and _age.\n",
    "\n",
    "    @name.setter and @age.setter decorators: These decorators define setter methods for the name and age properties. The setter methods include validation logic to ensure that the name is not empty and the age is not negative. If invalid values are provided, they raise ValueError exceptions.\n",
    "\n",
    "    Example usage: The Person object is created and its attributes are accessed and modified using the property methods. The setter methods ensure that any invalid modifications are handled appropriately.\n",
    "\n",
    "This approach provides a clean and controlled way to manage attribute access and modification, making your class more robust and easier to maintain.\n"
   ]
  },
  {
   "cell_type": "raw",
   "id": "2a628734-a7eb-4efc-ac25-129492dadf7e",
   "metadata": {},
   "source": [
    "69. What is the purpose of the @property decorator in Python? Provide an example illustrating its usage."
   ]
  },
  {
   "cell_type": "markdown",
   "id": "4479e29d-a419-47b6-b300-f09d7a316bb9",
   "metadata": {},
   "source": [
    "The @property decorator in Python is used to define getter methods for a class attribute. This decorator allows you to create a method that can be accessed like an attribute, providing a way to retrieve the value of a private attribute while still allowing you to include logic for computation or validation.\n",
    "Purpose\n",
    "\n",
    "    Encapsulation: @property allows you to manage access to private or protected attributes, providing a controlled way to retrieve their values.\n",
    "    Read-Only Access: It enables you to define read-only attributes that can be accessed like regular attributes but are computed or derived from other data.\n",
    "    Dynamic Computation: You can use @property to compute the value of an attribute dynamically based on other attributes, without exposing the internal details of how the value is computed.\n",
    "\n",
    "Example\n",
    "\n",
    "Here’s an example illustrating the usage of the @property decorator:"
   ]
  },
  {
   "cell_type": "code",
   "execution_count": 105,
   "id": "c4200b7f-a68b-4a0d-a576-f9cdd1adb02a",
   "metadata": {},
   "outputs": [
    {
     "name": "stdout",
     "output_type": "stream",
     "text": [
      "Width: 5\n",
      "Height: 10\n",
      "Area: 50\n",
      "New Width: 7\n",
      "New Height: 12\n",
      "New Area: 84\n",
      "Width must be positive\n",
      "Height must be positive\n"
     ]
    }
   ],
   "source": [
    "class Rectangle:\n",
    "    def __init__(self, width, height):\n",
    "        self._width = width\n",
    "        self._height = height\n",
    "\n",
    "    @property\n",
    "    def width(self):\n",
    "        return self._width\n",
    "\n",
    "    @width.setter\n",
    "    def width(self, value):\n",
    "        if value <= 0:\n",
    "            raise ValueError(\"Width must be positive\")\n",
    "        self._width = value\n",
    "\n",
    "    @property\n",
    "    def height(self):\n",
    "        return self._height\n",
    "\n",
    "    @height.setter\n",
    "    def height(self, value):\n",
    "        if value <= 0:\n",
    "            raise ValueError(\"Height must be positive\")\n",
    "        self._height = value\n",
    "\n",
    "    @property\n",
    "    def area(self):\n",
    "        return self._width * self._height\n",
    "\n",
    "# Example usage\n",
    "rect = Rectangle(5, 10)\n",
    "\n",
    "print(f\"Width: {rect.width}\")   # Output: Width: 5\n",
    "print(f\"Height: {rect.height}\") # Output: Height: 10\n",
    "print(f\"Area: {rect.area}\")     # Output: Area: 50\n",
    "\n",
    "# Modify attributes using setters\n",
    "rect.width = 7\n",
    "rect.height = 12\n",
    "\n",
    "print(f\"New Width: {rect.width}\")   # Output: New Width: 7\n",
    "print(f\"New Height: {rect.height}\") # Output: New Height: 12\n",
    "print(f\"New Area: {rect.area}\")     # Output: New Area: 84\n",
    "\n",
    "# Attempt to set invalid values\n",
    "try:\n",
    "    rect.width = -5\n",
    "except ValueError as e:\n",
    "    print(e)  # Output: Width must be positive\n",
    "\n",
    "try:\n",
    "    rect.height = 0\n",
    "except ValueError as e:\n",
    "    print(e)  # Output: Height must be positive\n"
   ]
  },
  {
   "cell_type": "markdown",
   "id": "9adab46b-460c-489b-9d64-6391c112878a",
   "metadata": {},
   "source": [
    "Explanation\n",
    "\n",
    "    @property decorator: This decorator is used to define getter methods for width, height, and area. These methods can be accessed as if they were attributes, but they can include logic to compute or validate their values.\n",
    "\n",
    "    width(self) and height(self): These methods return the values of the _width and _height attributes. They are accessed as attributes due to the @property decorator.\n",
    "\n",
    "    width(self, value) and height(self, value): These setter methods allow you to set values for _width and _height, including validation to ensure they are positive.\n",
    "\n",
    "    area(self): This method computes the area of the rectangle based on the current width and height attributes. It is defined as a property, so it can be accessed like an attribute.\n",
    "\n",
    "The @property decorator provides a clean and intuitive way to manage attribute access and modification, making your class more flexible and maintainable.\n"
   ]
  },
  {
   "cell_type": "raw",
   "id": "45dcb0c4-8eaa-43c3-ad62-cc99d6cb2072",
   "metadata": {},
   "source": [
    "70. Explain the use of the @deleter decorator in Python property decorators. Provide a code example\n",
    "demonstrating its application."
   ]
  },
  {
   "cell_type": "markdown",
   "id": "333317e0-c681-41fe-962d-e10304cf3f62",
   "metadata": {},
   "source": [
    "The @deleter decorator in Python is used in conjunction with the @property decorator to define a method that handles the deletion of a property. It allows you to specify what should happen when the del statement is used on an attribute of a class.\n",
    "Purpose\n",
    "\n",
    "    Encapsulation: The @deleter decorator helps manage the deletion of attributes in a controlled manner, allowing you to perform additional cleanup or validation when an attribute is deleted.\n",
    "    Custom Behavior: It provides a way to implement custom logic that should run when an attribute is removed, such as releasing resources or resetting values.\n",
    "\n",
    "Example\n",
    "\n",
    "Here's an example demonstrating the use of the @deleter decorator with property decorators:"
   ]
  },
  {
   "cell_type": "code",
   "execution_count": 106,
   "id": "2effa733-0a46-45e0-8007-1cd2db30c0a6",
   "metadata": {},
   "outputs": [
    {
     "name": "stdout",
     "output_type": "stream",
     "text": [
      "Current Temperature: 25°C\n",
      "Deleting the temperature value...\n",
      "'Temperature' object has no attribute '_celsius'\n"
     ]
    }
   ],
   "source": [
    "class Temperature:\n",
    "    def __init__(self, celsius):\n",
    "        self._celsius = celsius\n",
    "\n",
    "    @property\n",
    "    def celsius(self):\n",
    "        return self._celsius\n",
    "\n",
    "    @celsius.setter\n",
    "    def celsius(self, value):\n",
    "        if value < -273.15:\n",
    "            raise ValueError(\"Temperature cannot be below absolute zero\")\n",
    "        self._celsius = value\n",
    "\n",
    "    @celsius.deleter\n",
    "    def celsius(self):\n",
    "        print(\"Deleting the temperature value...\")\n",
    "        del self._celsius\n",
    "\n",
    "# Example usage\n",
    "temp = Temperature(25)\n",
    "\n",
    "print(f\"Current Temperature: {temp.celsius}°C\")  # Output: Current Temperature: 25°C\n",
    "\n",
    "# Delete the temperature attribute\n",
    "del temp.celsius\n",
    "\n",
    "try:\n",
    "    print(temp.celsius)\n",
    "except AttributeError as e:\n",
    "    print(e)  # Output: 'Temperature' object has no attribute '_celsius'\n"
   ]
  },
  {
   "cell_type": "markdown",
   "id": "be4a3c45-7e4d-410a-b3f8-8a6357c1c327",
   "metadata": {},
   "source": [
    "Explanation\n",
    "\n",
    "    @property decorator: Defines a getter method for the celsius attribute, allowing you to access the _celsius value as if it were a property.\n",
    "\n",
    "    @celsius.setter decorator: Defines a setter method for the celsius attribute, enabling you to modify the _celsius value while enforcing a validation rule (temperature cannot be below absolute zero).\n",
    "\n",
    "    @celsius.deleter decorator: Defines a deleter method for the celsius attribute. This method is called when del is used on the celsius property. In this example, it prints a message indicating that the temperature value is being deleted and then deletes the _celsius attribute.\n",
    "\n",
    "    Example usage: When the del temp.celsius statement is executed, the @celsius.deleter method is called, which deletes the _celsius attribute and prints a message. After deletion, attempting to access temp.celsius raises an AttributeError because the _celsius attribute no longer exists.\n",
    "\n",
    "The @deleter decorator provides a way to handle the cleanup or additional logic needed when an attribute is deleted, making your class more robust and flexible.\n"
   ]
  },
  {
   "cell_type": "raw",
   "id": "596510ec-ad2a-4ade-b978-f9bd77377d48",
   "metadata": {},
   "source": [
    "71. How does encapsulation relate to property decorators in Python? Provide an example showcasing\n",
    "encapsulation using property decorators."
   ]
  },
  {
   "cell_type": "markdown",
   "id": "6d6a7666-ce62-43a3-aa38-851adfa9d71b",
   "metadata": {},
   "source": [
    "Encapsulation is a fundamental concept in object-oriented programming that involves bundling data (attributes) and methods (functions) that operate on that data into a single unit or class. It also involves restricting direct access to some of the object's components to protect the integrity of the data and control how it is accessed and modified.\n",
    "Relationship of Encapsulation to Property Decorators\n",
    "\n",
    "In Python, property decorators (@property, @<property_name>.setter, @<property_name>.deleter) are used to implement encapsulation by controlling access to private or protected attributes of a class. They provide a way to:\n",
    "\n",
    "    Control Access: Use getters and setters to manage how attributes are accessed and modified.\n",
    "    Validate Data: Implement validation logic when setting attributes to ensure data integrity.\n",
    "    Hide Implementation Details: Expose a clean and intuitive interface for interacting with attributes, while hiding the internal implementation details.\n",
    "\n",
    "Example Showcasing Encapsulation\n",
    "\n",
    "Here’s an example demonstrating encapsulation using property decorators:"
   ]
  },
  {
   "cell_type": "code",
   "execution_count": 107,
   "id": "22f3aec5-d846-4577-9d3f-0fbeaeb823ac",
   "metadata": {},
   "outputs": [
    {
     "name": "stdout",
     "output_type": "stream",
     "text": [
      "Initial Balance: 100\n",
      "Balance after deposit: 150\n",
      "Balance after withdrawal: 120\n",
      "Balance cannot be negative\n",
      "Deleting balance...\n",
      "'BankAccount' object has no attribute '_balance'\n"
     ]
    }
   ],
   "source": [
    "class BankAccount:\n",
    "    def __init__(self, balance):\n",
    "        self._balance = balance  # Private attribute\n",
    "\n",
    "    @property\n",
    "    def balance(self):\n",
    "        \"\"\"Getter method for balance\"\"\"\n",
    "        return self._balance\n",
    "\n",
    "    @balance.setter\n",
    "    def balance(self, amount):\n",
    "        \"\"\"Setter method for balance with validation\"\"\"\n",
    "        if amount < 0:\n",
    "            raise ValueError(\"Balance cannot be negative\")\n",
    "        self._balance = amount\n",
    "\n",
    "    @balance.deleter\n",
    "    def balance(self):\n",
    "        \"\"\"Deleter method for balance\"\"\"\n",
    "        print(\"Deleting balance...\")\n",
    "        del self._balance\n",
    "\n",
    "    def deposit(self, amount):\n",
    "        \"\"\"Method to deposit money\"\"\"\n",
    "        if amount <= 0:\n",
    "            raise ValueError(\"Deposit amount must be positive\")\n",
    "        self._balance += amount\n",
    "\n",
    "    def withdraw(self, amount):\n",
    "        \"\"\"Method to withdraw money\"\"\"\n",
    "        if amount <= 0:\n",
    "            raise ValueError(\"Withdrawal amount must be positive\")\n",
    "        if amount > self._balance:\n",
    "            raise ValueError(\"Insufficient funds\")\n",
    "        self._balance -= amount\n",
    "\n",
    "# Example usage\n",
    "account = BankAccount(100)\n",
    "\n",
    "print(f\"Initial Balance: {account.balance}\")  # Output: Initial Balance: 100\n",
    "\n",
    "# Deposit money\n",
    "account.deposit(50)\n",
    "print(f\"Balance after deposit: {account.balance}\")  # Output: Balance after deposit: 150\n",
    "\n",
    "# Withdraw money\n",
    "account.withdraw(30)\n",
    "print(f\"Balance after withdrawal: {account.balance}\")  # Output: Balance after withdrawal: 120\n",
    "\n",
    "# Attempt to set invalid balance\n",
    "try:\n",
    "    account.balance = -100\n",
    "except ValueError as e:\n",
    "    print(e)  # Output: Balance cannot be negative\n",
    "\n",
    "# Delete the balance attribute\n",
    "del account.balance\n",
    "\n",
    "# Attempt to access balance after deletion\n",
    "try:\n",
    "    print(account.balance)\n",
    "except AttributeError as e:\n",
    "    print(e)  # Output: 'BankAccount' object has no attribute '_balance'\n"
   ]
  },
  {
   "cell_type": "markdown",
   "id": "4d4322f6-e7d0-4631-88a5-dbd51b84a2cd",
   "metadata": {},
   "source": [
    "Explanation\n",
    "\n",
    "    Encapsulation: In this example, the BankAccount class encapsulates the balance attribute by marking it as private with an underscore (_balance). Direct access to _balance is restricted.\n",
    "\n",
    "    Property Decorators:\n",
    "        @property: The balance getter method allows read access to the _balance attribute.\n",
    "        @balance.setter: The setter method allows modification of _balance with validation to prevent negative values, protecting the integrity of the balance.\n",
    "        @balance.deleter: The deleter method prints a message and deletes the _balance attribute when del is used.\n",
    "\n",
    "    Methods: deposit and withdraw methods provide controlled ways to modify the balance, ensuring that deposits are positive and withdrawals do not exceed the available balance.\n",
    "\n",
    "This approach encapsulates the balance attribute, protecting its integrity and providing a controlled interface for interacting with it. The use of property decorators allows you to manage access and modification while hiding the internal implementation details.\n",
    "ChatGPT can m"
   ]
  },
  {
   "cell_type": "code",
   "execution_count": null,
   "id": "5f03be1d-58b0-4fa5-aa2c-8d21be89574c",
   "metadata": {},
   "outputs": [],
   "source": []
  }
 ],
 "metadata": {
  "kernelspec": {
   "display_name": "Python 3 (ipykernel)",
   "language": "python",
   "name": "python3"
  },
  "language_info": {
   "codemirror_mode": {
    "name": "ipython",
    "version": 3
   },
   "file_extension": ".py",
   "mimetype": "text/x-python",
   "name": "python",
   "nbconvert_exporter": "python",
   "pygments_lexer": "ipython3",
   "version": "3.10.8"
  }
 },
 "nbformat": 4,
 "nbformat_minor": 5
}
